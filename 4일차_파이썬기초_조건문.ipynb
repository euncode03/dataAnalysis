{
  "nbformat": 4,
  "nbformat_minor": 0,
  "metadata": {
    "colab": {
      "provenance": [],
      "authorship_tag": "ABX9TyPiawNfWesYC4bCnLKkk/Zc",
      "include_colab_link": true
    },
    "kernelspec": {
      "name": "python3",
      "display_name": "Python 3"
    },
    "language_info": {
      "name": "python"
    }
  },
  "cells": [
    {
      "cell_type": "markdown",
      "metadata": {
        "id": "view-in-github",
        "colab_type": "text"
      },
      "source": [
        "<a href=\"https://colab.research.google.com/github/euncode03/dataAnalysis/blob/main/4%EC%9D%BC%EC%B0%A8_%ED%8C%8C%EC%9D%B4%EC%8D%AC%EA%B8%B0%EC%B4%88_%EC%A1%B0%EA%B1%B4%EB%AC%B8.ipynb\" target=\"_parent\"><img src=\"https://colab.research.google.com/assets/colab-badge.svg\" alt=\"Open In Colab\"/></a>"
      ]
    },
    {
      "cell_type": "code",
      "execution_count": null,
      "metadata": {
        "id": "6nUrRqtvcRx4"
      },
      "outputs": [],
      "source": []
    },
    {
      "cell_type": "markdown",
      "source": [
        "# 4. 파이썬 조건문"
      ],
      "metadata": {
        "id": "Wimnl_9GciGH"
      }
    },
    {
      "cell_type": "code",
      "source": [],
      "metadata": {
        "id": "bD-RSJ8fcnfC"
      },
      "execution_count": 1,
      "outputs": []
    },
    {
      "cell_type": "markdown",
      "source": [
        "## 1. if 조건문(if만 사용)"
      ],
      "metadata": {
        "id": "39pIttqgc2UB"
      }
    },
    {
      "cell_type": "code",
      "source": [
        "a = int(input('숫자를 입력하세요: '))\n",
        "if a < 100:      # 만약 a가 100보다 작으면(True)\n",
        "  print(f\"{a}는 100보다 작군요\")\n",
        "\n"
      ],
      "metadata": {
        "colab": {
          "base_uri": "https://localhost:8080/"
        },
        "id": "4cfRif0zcxry",
        "outputId": "96e14481-d42c-4a8f-a173-1993ae3cd3d9"
      },
      "execution_count": 8,
      "outputs": [
        {
          "name": "stdout",
          "output_type": "stream",
          "text": [
            "숫자를 입력하세요: 2567\n"
          ]
        }
      ]
    },
    {
      "cell_type": "markdown",
      "source": [
        "## 2. if ~ else 조건문"
      ],
      "metadata": {
        "id": "8CzjdbaTc3mI"
      }
    },
    {
      "cell_type": "code",
      "source": [
        "a = int(input('숫자를 입력하세요: '))\n",
        "if a < 100:      # 만약 a가 100보다 작으면(True)\n",
        "  print(f\"{a}는 100보다 작군요\")\n",
        "else:  # 그렇지 않다면(False)\n",
        "  print(f\"{a}는 100보다 작지 않군요\")\n"
      ],
      "metadata": {
        "colab": {
          "base_uri": "https://localhost:8080/"
        },
        "id": "adVHVbUXc7rw",
        "outputId": "2a736157-a893-49f0-de16-a7898a7141bd"
      },
      "execution_count": 9,
      "outputs": [
        {
          "output_type": "stream",
          "name": "stdout",
          "text": [
            "숫자를 입력하세요: 2567\n",
            "2567는 100보다 작지 않군요\n"
          ]
        }
      ]
    },
    {
      "cell_type": "markdown",
      "source": [
        "## 3. 중첩 if 조건문(if 안에 if문)"
      ],
      "metadata": {
        "id": "-scEMM39c8X5"
      }
    },
    {
      "cell_type": "code",
      "source": [
        "a = int(input('숫자를 입력하세요: '))\n",
        "if a < 100:      # 만약 a가 100보다 작으면(True)\n",
        "    if a < 50:\n",
        "        print(f\"{a}는 50보다 작군요.\")\n",
        "    else: # 50 <= a < 100\n",
        "        print(f\"{a}는 50보다 작군요.\")\n",
        "else:\n",
        "    if a == 100:\n",
        "        print(f\"{a}는 100과 같군요.\")\n",
        "    else:\n",
        "        print(\"f{a}는 100보다 작지 않군요\")\n",
        "\n",
        "else:  # 그렇지 않다면(False)\n",
        "  print(f\"{a}는 100보다 작지 않군요\")\n"
      ],
      "metadata": {
        "id": "TFEGphYgdDJR"
      },
      "execution_count": null,
      "outputs": []
    },
    {
      "cell_type": "code",
      "source": [
        "x=int(input('숫자를 입력하세요 : '))\n",
        "if x % 2 == 0 :\n",
        "     print(f\"{x}는 짝수\")\n",
        "else:\n",
        "    print(f\"{x}는 홀수\")"
      ],
      "metadata": {
        "colab": {
          "base_uri": "https://localhost:8080/"
        },
        "id": "3ZrbeCaAhODx",
        "outputId": "33b879b4-91b4-4fb8-e1b0-881b0c8d4d97"
      },
      "execution_count": 10,
      "outputs": [
        {
          "output_type": "stream",
          "name": "stdout",
          "text": [
            "숫자를 입력하세요 : 4\n",
            "4는 짝수\n"
          ]
        }
      ]
    },
    {
      "cell_type": "code",
      "source": [
        "print( f\"{x}는 짝수\") if x % 2== 0 else print(f\"{x}는 홀수\")"
      ],
      "metadata": {
        "colab": {
          "base_uri": "https://localhost:8080/"
        },
        "id": "Cv3oFCwyhOsX",
        "outputId": "7791f1a1-deb9-43c3-b1d9-7e793e1391b3"
      },
      "execution_count": 11,
      "outputs": [
        {
          "output_type": "stream",
          "name": "stdout",
          "text": [
            "4는 짝수\n"
          ]
        }
      ]
    },
    {
      "cell_type": "code",
      "source": [],
      "metadata": {
        "id": "MUTC2ZmThzxq"
      },
      "execution_count": null,
      "outputs": []
    },
    {
      "cell_type": "markdown",
      "source": [
        "### [실습문제] 가위/바위/보 승리 판별하기"
      ],
      "metadata": {
        "id": "pGyZTZ2tiWpA"
      }
    },
    {
      "cell_type": "code",
      "source": [
        "import random          # 난수 발생 모듈\n",
        "\n",
        "random.randint(1,10)   # 1~10 사이의 임의의 정수 선택\n",
        "computer = random.choice(['가위', '바위', '보'])\n",
        "my = input('가위/바위/보 중 하나 입력: ')\n",
        "print(f\"computer:{computer}, my{my}\")"
      ],
      "metadata": {
        "colab": {
          "base_uri": "https://localhost:8080/"
        },
        "id": "HN2-tKxJiYCF",
        "outputId": "a2963ed6-efd7-4847-bb83-863a68399e70"
      },
      "execution_count": 18,
      "outputs": [
        {
          "output_type": "stream",
          "name": "stdout",
          "text": [
            "가위/바위/보 중 하나 입력: 가위\n",
            "computer:보, my가위\n"
          ]
        }
      ]
    },
    {
      "cell_type": "code",
      "source": [
        "import random # 난수 발생 모듈\n",
        "computer = random.choice(['가위', '바위', '보'])\n",
        "my = input('가위/바위/보 중 하나 입력:')\n",
        "if my == '가위':\n",
        "    if computer == '바위':\n",
        "        print(f\"computer:{computer}, my:{my}\")\n",
        "        print(f\"컴퓨터가 이겼습니다.\")\n",
        "    if computer == '보':\n",
        "        print(f\"computer:{computer}, my:{my}\")\n",
        "        print(f\"당신이 이겼습니다.\")\n",
        "    if computer == '가위':\n",
        "        print(f\"computer:{computer}, my:{my}\")\n",
        "        print(f\"비겼습니다.\")\n",
        "else:\n",
        "    if computer == '바위':\n",
        "        print(f\"computer:{computer}, my:{my}\")\n",
        "        print(f\"컴퓨터가 이겼습니다.\")\n",
        "    if computer == '보':\n",
        "        print(f\"computer:{computer}, my:{my}\")\n",
        "        print(f\"당신이 이겼습니다.\")\n",
        "    if computer == '가위':\n",
        "        print(f\"computer:{computer}, my:{my}\")\n",
        "        print(f\"비겼습니다.\")"
      ],
      "metadata": {
        "colab": {
          "base_uri": "https://localhost:8080/"
        },
        "id": "EJmqr9dXimYG",
        "outputId": "046c2b4c-41d2-47cd-eafa-ac0a1ba381c2"
      },
      "execution_count": 20,
      "outputs": [
        {
          "output_type": "stream",
          "name": "stdout",
          "text": [
            "가위/바위/보 중 하나 입력:바위\n",
            "computer:보, my:바위\n",
            "당신이 이겼습니다.\n"
          ]
        }
      ]
    },
    {
      "cell_type": "code",
      "source": [],
      "metadata": {
        "id": "fwXtUGTnkmrm"
      },
      "execution_count": null,
      "outputs": []
    },
    {
      "cell_type": "markdown",
      "source": [
        "### [실습문제] 직각삼각형 판별하기\n"
      ],
      "metadata": {
        "id": "L3zl7xLEqBgX"
      }
    },
    {
      "cell_type": "code",
      "source": [
        "print('삼각형의 세 변의 길이를 입력 받습니다.')\n",
        "c = int(input(' 변 c의 길이: '))\n",
        "a = int(input(' 변 a의 길이: '))\n",
        "b = int(input(' 변 b의 길이: '))\n",
        "\n",
        "print('-' * 30)\n",
        "if a**2 + b**2 == c**2:\n",
        "    print('직각삼각형 입니다.')\n",
        "else:\n",
        "    print('직각삼각형이 아닙니다.')"
      ],
      "metadata": {
        "colab": {
          "base_uri": "https://localhost:8080/"
        },
        "id": "eIHgBa8SqIGH",
        "outputId": "b55ee240-84b0-4dcc-a70a-abe821cdc82e"
      },
      "execution_count": 1,
      "outputs": [
        {
          "output_type": "stream",
          "name": "stdout",
          "text": [
            "삼각형의 세 변의 길이를 입력 받습니다.\n",
            " 변 c의 길이: 5\n",
            " 변 a의 길이: 4\n",
            " 변 b의 길이: 3\n",
            "------------------------------\n",
            "직각삼각형 입니다.\n"
          ]
        }
      ]
    },
    {
      "cell_type": "code",
      "source": [],
      "metadata": {
        "id": "4lGoEuyrq5a8"
      },
      "execution_count": null,
      "outputs": []
    },
    {
      "cell_type": "markdown",
      "source": [
        "## 4. 다중 조건문\n",
        "if~ else~ if -> if~elif"
      ],
      "metadata": {
        "id": "OwnFhC69yIul"
      }
    },
    {
      "cell_type": "code",
      "source": [
        "# 나이별 학생 구분하기\n",
        "age = int(input('나이를 입력하세요'))\n",
        "if age <  8:\n",
        "    print('미취학 아동입니다.')\n",
        "elif age < 14:\n",
        "    print('초등학생 입니다.')\n",
        "elif age < 17:\n",
        "    print('중학생 입니다.')\n",
        "elif age < 20:\n",
        "    print('고등학생 입니다.')\n",
        "else:\n",
        "    print('성인입니다.')\n",
        "\n"
      ],
      "metadata": {
        "colab": {
          "base_uri": "https://localhost:8080/"
        },
        "id": "FpHdcSi9ydwe",
        "outputId": "f1876558-c8eb-4928-9e4d-98f4f77af366"
      },
      "execution_count": 3,
      "outputs": [
        {
          "output_type": "stream",
          "name": "stdout",
          "text": [
            "나이를 입력하세요29\n",
            "성인입니다.\n"
          ]
        }
      ]
    },
    {
      "cell_type": "code",
      "source": [
        ""
      ],
      "metadata": {
        "id": "Hf0LK3-Dzr7E"
      },
      "execution_count": null,
      "outputs": []
    },
    {
      "cell_type": "markdown",
      "source": [
        "## 5. 조건부 표현식"
      ],
      "metadata": {
        "id": "OvsZjMMhz-Ak"
      }
    },
    {
      "cell_type": "code",
      "source": [
        "score = int(input('점수를 입력하세요: '))\n",
        "if score >=80:\n",
        "    message = 'Success'\n",
        "else:\n",
        "    message = 'Failure'\n",
        "print(f\"당신의 점수 {score}점은 시험에  {message} 하셨습니다.\")"
      ],
      "metadata": {
        "colab": {
          "base_uri": "https://localhost:8080/"
        },
        "id": "1845F_MOz_7i",
        "outputId": "084e7428-e73c-4ad1-a010-8c0814269fd2"
      },
      "execution_count": 7,
      "outputs": [
        {
          "output_type": "stream",
          "name": "stdout",
          "text": [
            "점수를 입력하세요: 89\n",
            "당신의 점수 89점은 시험에  Success 하셨습니다.\n"
          ]
        }
      ]
    },
    {
      "cell_type": "code",
      "source": [
        "message= 'Success' if score >=80 else 'Failure'\n",
        "print(f\"당신의 점수 {score}점은 시험에  {message} 하셨습니다.\")"
      ],
      "metadata": {
        "colab": {
          "base_uri": "https://localhost:8080/"
        },
        "id": "ClE4WODn0TYU",
        "outputId": "4c7b5e81-b84f-4a74-b921-4f21b76b9386"
      },
      "execution_count": 8,
      "outputs": [
        {
          "output_type": "stream",
          "name": "stdout",
          "text": [
            "당신의 점수 89점은 시험에  Success 하셨습니다.\n"
          ]
        }
      ]
    },
    {
      "cell_type": "code",
      "source": [],
      "metadata": {
        "id": "EeJZo6521CE6"
      },
      "execution_count": null,
      "outputs": []
    },
    {
      "cell_type": "markdown",
      "source": [
        "### [실습문제] 일상생활의 상황을 조건문으로 표현하기"
      ],
      "metadata": {
        "id": "so0ZwxHc2KIl"
      }
    },
    {
      "cell_type": "code",
      "source": [
        "'''기온 조건 상황\n",
        "-  온도가 30이상 에어컨 켜기\n",
        "-  온도가 20 미만이면 내복입기\n",
        "-  온도가 10 이하면 난방기 켜기\n",
        "'''\n",
        "\n",
        "tem = int(input('온도를 입력하세요:'))\n",
        "if tem >= 30:\n",
        "  print('에어컨을 키세요')\n",
        "elif 10< tem < 20:\n",
        "    print(' 내복을 입으세요')\n",
        "else:\n",
        "    print('난방기를 켜세요')\n",
        "\n",
        "\n",
        "\n"
      ],
      "metadata": {
        "colab": {
          "base_uri": "https://localhost:8080/"
        },
        "id": "ruCprCGw2Vp-",
        "outputId": "77ad1ca9-771a-48d8-ab47-285bff22dadb"
      },
      "execution_count": 16,
      "outputs": [
        {
          "output_type": "stream",
          "name": "stdout",
          "text": [
            "온도를 입력하세요:25\n",
            "난방기를 켜세요\n"
          ]
        }
      ]
    },
    {
      "cell_type": "code",
      "source": [
        " degree= int(input('온도를 입력해 주세요: '))\n",
        "if degree >= 30:\n",
        "    print('에어컨을 켜세요')\n",
        "else:\n",
        "    if 20 <= degree < 30:\n",
        "        print('쾌적한 기온입니다.')\n",
        "     if degree < 20:\n",
        "          print('내복을 입으세요.')\n",
        "     if degree <= 10:\n",
        "           print('난방기를 켜세요.')"
      ],
      "metadata": {
        "colab": {
          "base_uri": "https://localhost:8080/",
          "height": 110
        },
        "id": "zSl3hTUn3cyC",
        "outputId": "2249abbc-0e7e-4115-ca83-75a50f3e93ff"
      },
      "execution_count": 30,
      "outputs": [
        {
          "output_type": "error",
          "ename": "IndentationError",
          "evalue": "unindent does not match any outer indentation level (<tokenize>, line 7)",
          "traceback": [
            "\u001b[0;36m  File \u001b[0;32m\"<tokenize>\"\u001b[0;36m, line \u001b[0;32m7\u001b[0m\n\u001b[0;31m    if degree < 20:\u001b[0m\n\u001b[0m    ^\u001b[0m\n\u001b[0;31mIndentationError\u001b[0m\u001b[0;31m:\u001b[0m unindent does not match any outer indentation level\n"
          ]
        }
      ]
    },
    {
      "cell_type": "markdown",
      "source": [
        "### 커피 주문 머신 만들기"
      ],
      "metadata": {
        "id": "3DFmkaiY9Uek"
      }
    },
    {
      "cell_type": "code",
      "source": [
        "\n",
        "\n",
        "menu = '''[커피 주문 머신 메뉴]\n",
        "-------------------------------\n",
        "- 아메리카노: 2500원\n",
        "- 카페라떼:   3000원\n",
        "- 카페모카:   3000원\n",
        "---------------------------------\n",
        "원하시는 커피종류와 잔수를 입력하세요.'''\n",
        "print(menu)\n",
        "coffee1 = int(input('아메리카노 몇잔: '))\n",
        "coffee2 = int(input('카페라떼  몇잔: '))\n",
        "coffee3 = int(input('카페모카 몇잔: '))\n",
        "total = 200*coffee1 + 3000*coffee2 + 3000*coffee3\n",
        "print(f\"지불하실 총 금액은 {total}원 입니다. \")\n",
        "money = int(input('돈을 넣어주세요: '))\n",
        "change = total-money\n",
        "if total > money:\n",
        "    print(f\"돈이 부족합니다. {change}를 더 넣어주세요.\")\n",
        "else:\n",
        "    print(f\"거스름돈은 {abs(change)}입니다. 커피 맛있게 드세요~\")\n",
        ""
      ],
      "metadata": {
        "colab": {
          "base_uri": "https://localhost:8080/"
        },
        "id": "2k5i19E38jNI",
        "outputId": "cb547226-240b-4357-b3ea-5a7f6bfcf0d1"
      },
      "execution_count": 43,
      "outputs": [
        {
          "output_type": "stream",
          "name": "stdout",
          "text": [
            "[커피 주문 머신 메뉴]\n",
            "-------------------------------\n",
            "- 아메리카노: 2500원\n",
            "- 카페라떼:   3000원\n",
            "- 카페모카:   3000원\n",
            "---------------------------------\n",
            "원하시는 커피종류와 잔수를 입력하세요.\n",
            "아메리카노 몇잔: 5\n",
            "카페라떼  몇잔: 6\n",
            "카페모카 몇잔: 4\n",
            "지불하실 총 금액은 31000원 입니다. \n",
            "돈을 넣어주세요: 30000\n",
            "돈이 부족합니다. 1000를 더 넣어주세요.\n"
          ]
        }
      ]
    },
    {
      "cell_type": "markdown",
      "source": [
        "### sTTS 사용하여 소리 나오게 하기"
      ],
      "metadata": {
        "id": "wKuJFFg3EDko"
      }
    },
    {
      "cell_type": "code",
      "source": [
        "!pip install gTTS"
      ],
      "metadata": {
        "colab": {
          "base_uri": "https://localhost:8080/"
        },
        "id": "b3cEVJe796ZF",
        "outputId": "b0e33eff-68b2-47ca-f952-426c06b992b3"
      },
      "execution_count": 45,
      "outputs": [
        {
          "output_type": "stream",
          "name": "stdout",
          "text": [
            "Collecting gTTS\n",
            "  Downloading gTTS-2.5.1-py3-none-any.whl (29 kB)\n",
            "Requirement already satisfied: requests<3,>=2.27 in /usr/local/lib/python3.10/dist-packages (from gTTS) (2.31.0)\n",
            "Requirement already satisfied: click<8.2,>=7.1 in /usr/local/lib/python3.10/dist-packages (from gTTS) (8.1.7)\n",
            "Requirement already satisfied: charset-normalizer<4,>=2 in /usr/local/lib/python3.10/dist-packages (from requests<3,>=2.27->gTTS) (3.3.2)\n",
            "Requirement already satisfied: idna<4,>=2.5 in /usr/local/lib/python3.10/dist-packages (from requests<3,>=2.27->gTTS) (3.6)\n",
            "Requirement already satisfied: urllib3<3,>=1.21.1 in /usr/local/lib/python3.10/dist-packages (from requests<3,>=2.27->gTTS) (2.0.7)\n",
            "Requirement already satisfied: certifi>=2017.4.17 in /usr/local/lib/python3.10/dist-packages (from requests<3,>=2.27->gTTS) (2024.2.2)\n",
            "Installing collected packages: gTTS\n",
            "Successfully installed gTTS-2.5.1\n"
          ]
        }
      ]
    },
    {
      "cell_type": "code",
      "source": [
        "from gtts import gTTS\n",
        "from IPython.display import Audio\n",
        "\n",
        "def speaker(stmt):\n",
        "    kor_wav = gTTS(stmt, lang = 'ko')\n",
        "    kor_wav.save('kor.wav')\n",
        "    display(Audio('kor.wav', autoplay=True))\n",
        "\n",
        "\n",
        "    menu = '''[커피 주문 머신 메뉴]\n",
        "-------------------------------\n",
        "- 아메리카노: 2500원\n",
        "- 카페라떼:   3000원\n",
        "- 카페모카:   3000원\n",
        "---------------------------------\n",
        "원하시는 커피종류와 잔수를 입력하세요.'''\n",
        "speaker(menu)\n",
        "coffee1 = int(input('아메리카노 몇잔: '))\n",
        "coffee2 = int(input('카페라떼  몇잔: '))\n",
        "coffee3 = int(input('카페모카 몇잔: '))\n",
        "total = 200*coffee1 + 3000*coffee2 + 3000*coffee3\n",
        "print(f\"지불하실 총 금액은 {total}원 입니다. \")\n",
        "money = int(input('돈을 넣어주세요: '))\n",
        "change = total-money\n",
        "if total > money:\n",
        "    print(f\"돈이 부족합니다. {change}를 더 넣어주세요.\")\n",
        "else:\n",
        "    print(f\"거스름돈은 {abs(change)}입니다. 커피 맛있게 드세요~\")"
      ],
      "metadata": {
        "colab": {
          "base_uri": "https://localhost:8080/",
          "height": 449
        },
        "id": "QMW-FPPJBB2Y",
        "outputId": "fd55efe5-2a87-4c0b-f9d4-3e5bc6258dab"
      },
      "execution_count": 47,
      "outputs": [
        {
          "output_type": "display_data",
          "data": {
            "text/plain": [
              "<IPython.lib.display.Audio object>"
            ],
            "text/html": [
              "\n",
              "                <audio  controls=\"controls\" autoplay=\"autoplay\">\n",
              "                    <source src=\"data:audio/x-wav;base64,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\" type=\"audio/x-wav\" />\n",
              "                    Your browser does not support the audio element.\n",
              "                </audio>\n",
              "              "
            ]
          },
          "metadata": {}
        },
        {
          "output_type": "error",
          "ename": "KeyboardInterrupt",
          "evalue": "Interrupted by user",
          "traceback": [
            "\u001b[0;31m---------------------------------------------------------------------------\u001b[0m",
            "\u001b[0;31mKeyboardInterrupt\u001b[0m                         Traceback (most recent call last)",
            "\u001b[0;32m<ipython-input-47-e70da8ecc31c>\u001b[0m in \u001b[0;36m<cell line: 18>\u001b[0;34m()\u001b[0m\n\u001b[1;32m     16\u001b[0m 원하시는 커피종류와 잔수를 입력하세요.'''\n\u001b[1;32m     17\u001b[0m \u001b[0mspeaker\u001b[0m\u001b[0;34m(\u001b[0m\u001b[0mmenu\u001b[0m\u001b[0;34m)\u001b[0m\u001b[0;34m\u001b[0m\u001b[0;34m\u001b[0m\u001b[0m\n\u001b[0;32m---> 18\u001b[0;31m \u001b[0mcoffee1\u001b[0m \u001b[0;34m=\u001b[0m \u001b[0mint\u001b[0m\u001b[0;34m(\u001b[0m\u001b[0minput\u001b[0m\u001b[0;34m(\u001b[0m\u001b[0;34m'아메리카노 몇잔: '\u001b[0m\u001b[0;34m)\u001b[0m\u001b[0;34m)\u001b[0m\u001b[0;34m\u001b[0m\u001b[0;34m\u001b[0m\u001b[0m\n\u001b[0m\u001b[1;32m     19\u001b[0m \u001b[0mcoffee2\u001b[0m \u001b[0;34m=\u001b[0m \u001b[0mint\u001b[0m\u001b[0;34m(\u001b[0m\u001b[0minput\u001b[0m\u001b[0;34m(\u001b[0m\u001b[0;34m'카페라떼  몇잔: '\u001b[0m\u001b[0;34m)\u001b[0m\u001b[0;34m)\u001b[0m\u001b[0;34m\u001b[0m\u001b[0;34m\u001b[0m\u001b[0m\n\u001b[1;32m     20\u001b[0m \u001b[0mcoffee3\u001b[0m \u001b[0;34m=\u001b[0m \u001b[0mint\u001b[0m\u001b[0;34m(\u001b[0m\u001b[0minput\u001b[0m\u001b[0;34m(\u001b[0m\u001b[0;34m'카페모카 몇잔: '\u001b[0m\u001b[0;34m)\u001b[0m\u001b[0;34m)\u001b[0m\u001b[0;34m\u001b[0m\u001b[0;34m\u001b[0m\u001b[0m\n",
            "\u001b[0;32m/usr/local/lib/python3.10/dist-packages/ipykernel/kernelbase.py\u001b[0m in \u001b[0;36mraw_input\u001b[0;34m(self, prompt)\u001b[0m\n\u001b[1;32m    849\u001b[0m                 \u001b[0;34m\"raw_input was called, but this frontend does not support input requests.\"\u001b[0m\u001b[0;34m\u001b[0m\u001b[0;34m\u001b[0m\u001b[0m\n\u001b[1;32m    850\u001b[0m             )\n\u001b[0;32m--> 851\u001b[0;31m         return self._input_request(str(prompt),\n\u001b[0m\u001b[1;32m    852\u001b[0m             \u001b[0mself\u001b[0m\u001b[0;34m.\u001b[0m\u001b[0m_parent_ident\u001b[0m\u001b[0;34m,\u001b[0m\u001b[0;34m\u001b[0m\u001b[0;34m\u001b[0m\u001b[0m\n\u001b[1;32m    853\u001b[0m             \u001b[0mself\u001b[0m\u001b[0;34m.\u001b[0m\u001b[0m_parent_header\u001b[0m\u001b[0;34m,\u001b[0m\u001b[0;34m\u001b[0m\u001b[0;34m\u001b[0m\u001b[0m\n",
            "\u001b[0;32m/usr/local/lib/python3.10/dist-packages/ipykernel/kernelbase.py\u001b[0m in \u001b[0;36m_input_request\u001b[0;34m(self, prompt, ident, parent, password)\u001b[0m\n\u001b[1;32m    893\u001b[0m             \u001b[0;32mexcept\u001b[0m \u001b[0mKeyboardInterrupt\u001b[0m\u001b[0;34m:\u001b[0m\u001b[0;34m\u001b[0m\u001b[0;34m\u001b[0m\u001b[0m\n\u001b[1;32m    894\u001b[0m                 \u001b[0;31m# re-raise KeyboardInterrupt, to truncate traceback\u001b[0m\u001b[0;34m\u001b[0m\u001b[0;34m\u001b[0m\u001b[0m\n\u001b[0;32m--> 895\u001b[0;31m                 \u001b[0;32mraise\u001b[0m \u001b[0mKeyboardInterrupt\u001b[0m\u001b[0;34m(\u001b[0m\u001b[0;34m\"Interrupted by user\"\u001b[0m\u001b[0;34m)\u001b[0m \u001b[0;32mfrom\u001b[0m \u001b[0;32mNone\u001b[0m\u001b[0;34m\u001b[0m\u001b[0;34m\u001b[0m\u001b[0m\n\u001b[0m\u001b[1;32m    896\u001b[0m             \u001b[0;32mexcept\u001b[0m \u001b[0mException\u001b[0m \u001b[0;32mas\u001b[0m \u001b[0me\u001b[0m\u001b[0;34m:\u001b[0m\u001b[0;34m\u001b[0m\u001b[0;34m\u001b[0m\u001b[0m\n\u001b[1;32m    897\u001b[0m                 \u001b[0mself\u001b[0m\u001b[0;34m.\u001b[0m\u001b[0mlog\u001b[0m\u001b[0;34m.\u001b[0m\u001b[0mwarning\u001b[0m\u001b[0;34m(\u001b[0m\u001b[0;34m\"Invalid Message:\"\u001b[0m\u001b[0;34m,\u001b[0m \u001b[0mexc_info\u001b[0m\u001b[0;34m=\u001b[0m\u001b[0;32mTrue\u001b[0m\u001b[0;34m)\u001b[0m\u001b[0;34m\u001b[0m\u001b[0;34m\u001b[0m\u001b[0m\n",
            "\u001b[0;31mKeyboardInterrupt\u001b[0m: Interrupted by user"
          ]
        }
      ]
    },
    {
      "cell_type": "code",
      "source": [],
      "metadata": {
        "id": "EoDSLX0AEMsA"
      },
      "execution_count": null,
      "outputs": []
    },
    {
      "cell_type": "markdown",
      "source": [
        "### [추가] time 모듈로(~초 기다리기 표현)"
      ],
      "metadata": {
        "id": "OhwoqDJWGrJJ"
      }
    },
    {
      "cell_type": "code",
      "source": [
        "import time\n",
        "for i in range(1, 11, 1):\n",
        "    time.sleep(1)          # 1초 기다리기\n",
        "    print(i)"
      ],
      "metadata": {
        "colab": {
          "base_uri": "https://localhost:8080/"
        },
        "id": "Tgz5YFk_G2HS",
        "outputId": "ee7a81a5-c11e-4f79-a863-43984a88ea58"
      },
      "execution_count": 1,
      "outputs": [
        {
          "output_type": "stream",
          "name": "stdout",
          "text": [
            "1\n",
            "2\n",
            "3\n",
            "4\n",
            "5\n",
            "6\n",
            "7\n",
            "8\n",
            "9\n",
            "10\n"
          ]
        }
      ]
    },
    {
      "cell_type": "markdown",
      "source": [
        "### [추가] windows에서 pywin32 모듈 이용하여 tts 기능 사용"
      ],
      "metadata": {
        "id": "jtOYb5rGFWSK"
      }
    },
    {
      "cell_type": "markdown",
      "source": [],
      "metadata": {
        "id": "4ymZBc2CGp17"
      }
    },
    {
      "cell_type": "markdown",
      "source": [],
      "metadata": {
        "id": "D8xjwzDNGqUQ"
      }
    },
    {
      "cell_type": "code",
      "source": [
        "# 윈도우 PC에서 사용해야함\n",
        "import win32.com.client\n",
        "out = win32.com.client."
      ],
      "metadata": {
        "id": "FfKEP_RtFzRh"
      },
      "execution_count": null,
      "outputs": []
    }
  ]
}