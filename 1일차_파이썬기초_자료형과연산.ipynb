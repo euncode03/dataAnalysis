{
  "nbformat": 4,
  "nbformat_minor": 0,
  "metadata": {
    "colab": {
      "provenance": [],
      "toc_visible": true,
      "authorship_tag": "ABX9TyOSBDHaqNIzuErtFZj8FLSq",
      "include_colab_link": true
    },
    "kernelspec": {
      "name": "python3",
      "display_name": "Python 3"
    },
    "language_info": {
      "name": "python"
    }
  },
  "cells": [
    {
      "cell_type": "markdown",
      "metadata": {
        "id": "view-in-github",
        "colab_type": "text"
      },
      "source": [
        "<a href=\"https://colab.research.google.com/github/euncode03/dataAnalysis/blob/main/1%EC%9D%BC%EC%B0%A8_%ED%8C%8C%EC%9D%B4%EC%8D%AC%EA%B8%B0%EC%B4%88_%EC%9E%90%EB%A3%8C%ED%98%95%EA%B3%BC%EC%97%B0%EC%82%B0.ipynb\" target=\"_parent\"><img src=\"https://colab.research.google.com/assets/colab-badge.svg\" alt=\"Open In Colab\"/></a>"
      ]
    },
    {
      "cell_type": "code",
      "execution_count": null,
      "metadata": {
        "id": "QyQs1Z6wpzru"
      },
      "outputs": [],
      "source": []
    },
    {
      "cell_type": "markdown",
      "source": [],
      "metadata": {
        "id": "3ItecGWUHDEA"
      }
    },
    {
      "cell_type": "markdown",
      "source": [],
      "metadata": {
        "id": "JKmi3LYKHFXw"
      }
    },
    {
      "cell_type": "markdown",
      "source": [
        "# 1.파이썬 자료형과 연산\n"
      ],
      "metadata": {
        "id": "oY0KuKv8p8qH"
      }
    },
    {
      "cell_type": "markdown",
      "source": [
        "1. 파이썬 버전 출력"
      ],
      "metadata": {
        "id": "K8uT4Dy8zLrj"
      }
    },
    {
      "cell_type": "markdown",
      "source": [],
      "metadata": {
        "id": "nFF-mzLkqF-1"
      }
    },
    {
      "cell_type": "code",
      "source": [
        "!python -V"
      ],
      "metadata": {
        "colab": {
          "base_uri": "https://localhost:8080/"
        },
        "id": "9BxZRWukzRO8",
        "outputId": "94b8bedb-748a-4ec3-845d-f41870f587e8"
      },
      "execution_count": null,
      "outputs": [
        {
          "output_type": "stream",
          "name": "stdout",
          "text": [
            "Python 3.10.12\n"
          ]
        }
      ]
    },
    {
      "cell_type": "code",
      "source": [
        "a=10\n",
        "b='파이썬'\n",
        "print(a,b )"
      ],
      "metadata": {
        "colab": {
          "base_uri": "https://localhost:8080/"
        },
        "id": "ZmSKqEMNw0Qt",
        "outputId": "5ebdc863-2c33-4c86-cfae-13a35ae6ecf1"
      },
      "execution_count": null,
      "outputs": [
        {
          "output_type": "stream",
          "name": "stdout",
          "text": [
            "10 파이썬\n"
          ]
        }
      ]
    },
    {
      "cell_type": "code",
      "source": [
        "import sys\n",
        "sys.version\n",
        "print('---',sys.version)"
      ],
      "metadata": {
        "colab": {
          "base_uri": "https://localhost:8080/"
        },
        "id": "Kymqb-7fzYM8",
        "outputId": "6c934db3-dffd-47b8-9696-65bfa95af8b1"
      },
      "execution_count": null,
      "outputs": [
        {
          "output_type": "stream",
          "name": "stdout",
          "text": [
            "--- 3.10.12 (main, Nov 20 2023, 15:14:05) [GCC 11.4.0]\n"
          ]
        }
      ]
    },
    {
      "cell_type": "markdown",
      "source": [
        "### # 오류\n"
      ],
      "metadata": {
        "id": "v5DfTt_dy3Zd"
      }
    },
    {
      "cell_type": "code",
      "source": [
        "# 2. 파이썬 설치 위치\n",
        "import sys\n",
        "print(sys.executable)"
      ],
      "metadata": {
        "colab": {
          "base_uri": "https://localhost:8080/"
        },
        "id": "n-p_azl10eqd",
        "outputId": "74495b70-1409-48d7-c032-f18ea0076d8b"
      },
      "execution_count": null,
      "outputs": [
        {
          "output_type": "stream",
          "name": "stdout",
          "text": [
            "/usr/bin/python3\n"
          ]
        }
      ]
    },
    {
      "cell_type": "code",
      "source": [
        "import os\n",
        "os.getcwd()"
      ],
      "metadata": {
        "colab": {
          "base_uri": "https://localhost:8080/",
          "height": 35
        },
        "id": "UmC-kaYSy-xb",
        "outputId": "56f53747-7d16-45ba-9329-e0363cfaaa08"
      },
      "execution_count": null,
      "outputs": [
        {
          "output_type": "execute_result",
          "data": {
            "text/plain": [
              "'/content'"
            ],
            "application/vnd.google.colaboratory.intrinsic+json": {
              "type": "string"
            }
          },
          "metadata": {},
          "execution_count": 9
        }
      ]
    },
    {
      "cell_type": "code",
      "source": [
        "#✓ 문제1: 10 + 3 x 4 결과 출력\n",
        "a=10\n",
        "b=3\n",
        "c=4\n",
        "print(a+b*c)\n",
        "\n",
        "#✓ 문제2: 아이폰 15대를 가지고 있다. 아이폰의 가격이 130만원 일 때 총 금액은?\n",
        "print(15*1300000)\n",
        "\n",
        "#✓ 문제3: 주어진 임의의 자연수가 홀수인지 짝수인지 판별하는 방법은?\n",
        "\n",
        "\n",
        "#✓ 문제4: 2x2x2x5x5x5x5x3x3x3x3을 제곱형태로 나타낸 후 그 결과 출력하기\n",
        "print(2**3*5**4*3**4)\n",
        "\n",
        "\n"
      ],
      "metadata": {
        "colab": {
          "base_uri": "https://localhost:8080/"
        },
        "id": "0DfDHR3a2FR6",
        "outputId": "d961d4f5-ca9a-4aa7-ee88-9c1b471f61c9"
      },
      "execution_count": null,
      "outputs": [
        {
          "output_type": "stream",
          "name": "stdout",
          "text": [
            "22\n",
            "19500000\n",
            "405000\n"
          ]
        }
      ]
    },
    {
      "cell_type": "code",
      "source": [],
      "metadata": {
        "id": "0e4NMlb63TbR"
      },
      "execution_count": null,
      "outputs": []
    },
    {
      "cell_type": "markdown",
      "source": [
        "## 1.파이썬 자료형"
      ],
      "metadata": {
        "id": "KWVJkxmeDEYI"
      }
    },
    {
      "cell_type": "markdown",
      "source": [
        "### 파이썬 자료형(Data Type)확인 함수:type()"
      ],
      "metadata": {
        "id": "3iX3hFEc91mS"
      }
    },
    {
      "cell_type": "code",
      "source": [
        "print(type(123))\n",
        "print(type(3.14))\n",
        "print(type(\"123\"))\n",
        "print( type([123]))\n",
        "print(type(123,))\n",
        "print(type({'123':123}))\n",
        "print(type({123}))\n",
        "print(type(True))"
      ],
      "metadata": {
        "colab": {
          "base_uri": "https://localhost:8080/"
        },
        "id": "Eq1jbVFl9_ZZ",
        "outputId": "e2402939-a096-445f-d916-e47f52162653"
      },
      "execution_count": null,
      "outputs": [
        {
          "output_type": "stream",
          "name": "stdout",
          "text": [
            "<class 'int'>\n",
            "<class 'float'>\n",
            "<class 'str'>\n",
            "<class 'list'>\n",
            "<class 'int'>\n",
            "<class 'dict'>\n",
            "<class 'set'>\n",
            "<class 'bool'>\n"
          ]
        }
      ]
    },
    {
      "cell_type": "code",
      "source": [],
      "metadata": {
        "colab": {
          "base_uri": "https://localhost:8080/",
          "height": 110
        },
        "id": "VjJlxMMT-yXQ",
        "outputId": "e6085abb-54ac-4b18-af5f-31af1c7eaca5"
      },
      "execution_count": null,
      "outputs": [
        {
          "output_type": "error",
          "ename": "SyntaxError",
          "evalue": "invalid syntax (<ipython-input-38-67debe5993b4>, line 1)",
          "traceback": [
            "\u001b[0;36m  File \u001b[0;32m\"<ipython-input-38-67debe5993b4>\"\u001b[0;36m, line \u001b[0;32m1\u001b[0m\n\u001b[0;31m    --------\u001b[0m\n\u001b[0m            ^\u001b[0m\n\u001b[0;31mSyntaxError\u001b[0m\u001b[0;31m:\u001b[0m invalid syntax\n"
          ]
        }
      ]
    },
    {
      "cell_type": "markdown",
      "source": [
        "##2.표준 입출력"
      ],
      "metadata": {
        "id": "6_F1CdhrCkEB"
      }
    },
    {
      "cell_type": "code",
      "source": [],
      "metadata": {
        "id": "MtiUYvmSCiMP"
      },
      "execution_count": null,
      "outputs": []
    },
    {
      "cell_type": "markdown",
      "source": [
        "# 문자열 데이터를 숫자로 변환하기"
      ],
      "metadata": {
        "id": "kJMqPUdTDMjn"
      }
    },
    {
      "cell_type": "markdown",
      "source": [],
      "metadata": {
        "id": "jqxvmSkaDBMh"
      }
    },
    {
      "cell_type": "code",
      "source": [
        "a = input(' 숫자를 입력하세요: ')\n",
        "print(type(a))\n",
        "a = int(a)    #정수로 변환하는 함수: int()\n",
        "print(type(a))"
      ],
      "metadata": {
        "colab": {
          "base_uri": "https://localhost:8080/"
        },
        "id": "5Lfqk4oJDSR4",
        "outputId": "0f9e591c-ec7c-4d53-b925-a30f411fcea6"
      },
      "execution_count": null,
      "outputs": [
        {
          "output_type": "stream",
          "name": "stdout",
          "text": [
            " 숫자를 입력하세요: 100\n",
            "<class 'str'>\n",
            "<class 'int'>\n"
          ]
        }
      ]
    },
    {
      "cell_type": "code",
      "source": [],
      "metadata": {
        "id": "k5u-3coZENsH"
      },
      "execution_count": null,
      "outputs": []
    },
    {
      "cell_type": "markdown",
      "source": [],
      "metadata": {
        "id": "6E3U-geSEQXK"
      }
    },
    {
      "cell_type": "code",
      "source": [
        "# a =(input(' 숫자를 입력하세요: '))\n",
        "# a= int(a)\n",
        "\n",
        "a = int(input(' 숫자를 입력하세요: '))"
      ],
      "metadata": {
        "colab": {
          "base_uri": "https://localhost:8080/",
          "height": 355
        },
        "id": "Yo5kyzGCDUPv",
        "outputId": "e81433d5-b4d6-45ad-b232-52f78ddbad62"
      },
      "execution_count": null,
      "outputs": [
        {
          "output_type": "error",
          "ename": "KeyboardInterrupt",
          "evalue": "Interrupted by user",
          "traceback": [
            "\u001b[0;31m---------------------------------------------------------------------------\u001b[0m",
            "\u001b[0;31mKeyboardInterrupt\u001b[0m                         Traceback (most recent call last)",
            "\u001b[0;32m<ipython-input-42-8bb75b87b6a7>\u001b[0m in \u001b[0;36m<cell line: 3>\u001b[0;34m()\u001b[0m\n\u001b[1;32m      1\u001b[0m \u001b[0;31m# a =(input(' 숫자를 입력하세요: '))\u001b[0m\u001b[0;34m\u001b[0m\u001b[0;34m\u001b[0m\u001b[0m\n\u001b[1;32m      2\u001b[0m \u001b[0;31m# a= int(a)\u001b[0m\u001b[0;34m\u001b[0m\u001b[0;34m\u001b[0m\u001b[0m\n\u001b[0;32m----> 3\u001b[0;31m \u001b[0ma\u001b[0m \u001b[0;34m=\u001b[0m \u001b[0mint\u001b[0m\u001b[0;34m(\u001b[0m\u001b[0minput\u001b[0m\u001b[0;34m(\u001b[0m\u001b[0;34m' 숫자를 입력하세요: '\u001b[0m\u001b[0;34m)\u001b[0m\u001b[0;34m)\u001b[0m\u001b[0;34m\u001b[0m\u001b[0;34m\u001b[0m\u001b[0m\n\u001b[0m",
            "\u001b[0;32m/usr/local/lib/python3.10/dist-packages/ipykernel/kernelbase.py\u001b[0m in \u001b[0;36mraw_input\u001b[0;34m(self, prompt)\u001b[0m\n\u001b[1;32m    849\u001b[0m                 \u001b[0;34m\"raw_input was called, but this frontend does not support input requests.\"\u001b[0m\u001b[0;34m\u001b[0m\u001b[0;34m\u001b[0m\u001b[0m\n\u001b[1;32m    850\u001b[0m             )\n\u001b[0;32m--> 851\u001b[0;31m         return self._input_request(str(prompt),\n\u001b[0m\u001b[1;32m    852\u001b[0m             \u001b[0mself\u001b[0m\u001b[0;34m.\u001b[0m\u001b[0m_parent_ident\u001b[0m\u001b[0;34m,\u001b[0m\u001b[0;34m\u001b[0m\u001b[0;34m\u001b[0m\u001b[0m\n\u001b[1;32m    853\u001b[0m             \u001b[0mself\u001b[0m\u001b[0;34m.\u001b[0m\u001b[0m_parent_header\u001b[0m\u001b[0;34m,\u001b[0m\u001b[0;34m\u001b[0m\u001b[0;34m\u001b[0m\u001b[0m\n",
            "\u001b[0;32m/usr/local/lib/python3.10/dist-packages/ipykernel/kernelbase.py\u001b[0m in \u001b[0;36m_input_request\u001b[0;34m(self, prompt, ident, parent, password)\u001b[0m\n\u001b[1;32m    893\u001b[0m             \u001b[0;32mexcept\u001b[0m \u001b[0mKeyboardInterrupt\u001b[0m\u001b[0;34m:\u001b[0m\u001b[0;34m\u001b[0m\u001b[0;34m\u001b[0m\u001b[0m\n\u001b[1;32m    894\u001b[0m                 \u001b[0;31m# re-raise KeyboardInterrupt, to truncate traceback\u001b[0m\u001b[0;34m\u001b[0m\u001b[0;34m\u001b[0m\u001b[0m\n\u001b[0;32m--> 895\u001b[0;31m                 \u001b[0;32mraise\u001b[0m \u001b[0mKeyboardInterrupt\u001b[0m\u001b[0;34m(\u001b[0m\u001b[0;34m\"Interrupted by user\"\u001b[0m\u001b[0;34m)\u001b[0m \u001b[0;32mfrom\u001b[0m \u001b[0;32mNone\u001b[0m\u001b[0;34m\u001b[0m\u001b[0;34m\u001b[0m\u001b[0m\n\u001b[0m\u001b[1;32m    896\u001b[0m             \u001b[0;32mexcept\u001b[0m \u001b[0mException\u001b[0m \u001b[0;32mas\u001b[0m \u001b[0me\u001b[0m\u001b[0;34m:\u001b[0m\u001b[0;34m\u001b[0m\u001b[0;34m\u001b[0m\u001b[0m\n\u001b[1;32m    897\u001b[0m                 \u001b[0mself\u001b[0m\u001b[0;34m.\u001b[0m\u001b[0mlog\u001b[0m\u001b[0;34m.\u001b[0m\u001b[0mwarning\u001b[0m\u001b[0;34m(\u001b[0m\u001b[0;34m\"Invalid Message:\"\u001b[0m\u001b[0;34m,\u001b[0m \u001b[0mexc_info\u001b[0m\u001b[0;34m=\u001b[0m\u001b[0;32mTrue\u001b[0m\u001b[0;34m)\u001b[0m\u001b[0;34m\u001b[0m\u001b[0;34m\u001b[0m\u001b[0m\n",
            "\u001b[0;31mKeyboardInterrupt\u001b[0m: Interrupted by user"
          ]
        }
      ]
    },
    {
      "cell_type": "code",
      "source": [
        "# 문자열 포맷팅\n",
        "a= input('키보드로 입력해 주세요.')\n",
        "print('변수 a의 값은', a, '입니다.')\n",
        "print('변수 a의 값은 %s 입니다.'% a)\n",
        "print(f'변수 a의 값은 {a} 입니다.')\n"
      ],
      "metadata": {
        "colab": {
          "base_uri": "https://localhost:8080/"
        },
        "id": "fcnPbnuWFrGB",
        "outputId": "4963f9a2-f61b-49ca-d5e1-c7c4e477005a"
      },
      "execution_count": null,
      "outputs": [
        {
          "output_type": "stream",
          "name": "stdout",
          "text": [
            "키보드로 입력해 주세요.사과\n",
            "변수 a의 값은 사과 입니다.\n",
            "변수 a의 값은 사과 입니다.\n",
            "변수 a의 값은 사과 입니다.\n"
          ]
        }
      ]
    },
    {
      "cell_type": "markdown",
      "source": [
        "[실습문제]"
      ],
      "metadata": {
        "id": "-OXgVPDuHwb_"
      }
    },
    {
      "cell_type": "code",
      "source": [
        "num1 = int(input('첫번째 숫자: '))\n",
        "num2 = int(input('두번째 숫자: '))\n",
        "print('-'*30)\n",
        "print(f'덧셈: {num1}+{num2}={num1+num2}')\n",
        "print(f'뺄셈: {num1}-{num2}={num1-num2}')\n",
        "print(f'곱셈: {num1}*{num2}={num1*num2}')\n",
        "print(f'몫: {num1}//{num2}={num1//num2}')\n",
        "print(f'나머지: {num1}%{num2}={num1%num2}')"
      ],
      "metadata": {
        "colab": {
          "base_uri": "https://localhost:8080/"
        },
        "id": "HwYYEs81GnWe",
        "outputId": "69686f8a-cb30-462d-cccc-740620f3e1dd"
      },
      "execution_count": null,
      "outputs": [
        {
          "output_type": "stream",
          "name": "stdout",
          "text": [
            "첫번째 숫자: 50\n",
            "두번째 숫자: 3\n",
            "------------------------------\n",
            "덧셈: 50+3=53\n",
            "뺄셈: 50-3=47\n",
            "곱셈: 50*3=150\n",
            "몫: 50//3=16\n",
            "나머지: 50%3=2\n"
          ]
        }
      ]
    },
    {
      "cell_type": "code",
      "source": [
        "     num1 = int(input('첫번째 숫자: '))\n",
        "num2 = int(input('두번째 숫자: '))\n",
        "print('-'*30)\n",
        "print(f'덧셈: {num1}+{num2}={num1+num2:10}')\n",
        "print(f'뺄셈: {num1}-{num2}={num1-num2:10}')\n",
        "print(f'곱셈: {num1}*{num2}={num1*num2:10}')\n",
        "print(f'몫: {num1}//{num2}={num1//num2:10}')\n",
        "print(f'나머지:{num1}%{num2}={num1%num2:10}')"
      ],
      "metadata": {
        "colab": {
          "base_uri": "https://localhost:8080/"
        },
        "id": "sAckTVw0HPpn",
        "outputId": "2ffc3d24-9010-46d9-8eb6-8dc2eeff9a65"
      },
      "execution_count": null,
      "outputs": [
        {
          "output_type": "stream",
          "name": "stdout",
          "text": [
            "첫번째 숫자: 50\n",
            "두번째 숫자: 3\n",
            "------------------------------\n",
            "덧셈: 50+3=        53\n",
            "뺄셈: 50-3=        47\n",
            "곱셈: 50*3=       150\n",
            "몫: 50//3=        16\n",
            "나머지:50%3=         2\n"
          ]
        }
      ]
    },
    {
      "cell_type": "code",
      "source": [
        "val= input('첫번째 숫자; ')\n",
        "print(f' a의 값은: {val:>10}')  # val 값을 10자리로 오른쪽 정렬\n",
        "print(f' a의 값은: {val:<10}')  # val 값을 10자리로 왼쪽 정렬\n",
        "print(f' a의 값은: {val:^10}')  # val 값을 10자리로 가운데 정렬"
      ],
      "metadata": {
        "colab": {
          "base_uri": "https://localhost:8080/"
        },
        "id": "4cx75F2oKkWw",
        "outputId": "8bc8b995-a61d-41e4-a779-6adb510ed82e"
      },
      "execution_count": null,
      "outputs": [
        {
          "output_type": "stream",
          "name": "stdout",
          "text": [
            "첫번째 숫자; 12345\n",
            " a의 값은:      12345\n",
            " a의 값은: 12345     \n",
            " a의 값은:   12345   \n"
          ]
        }
      ]
    },
    {
      "cell_type": "code",
      "source": [
        "num2=  int(input('속력을 입력해주세요(km/h):.1 '))\n",
        "num1 = int(input('거리를 입력해 주세요(km):.1 '))\n",
        "print(f'몫: {num1}//{num2}={num1//num2}')"
      ],
      "metadata": {
        "colab": {
          "base_uri": "https://localhost:8080/"
        },
        "id": "qQO636FTLO8w",
        "outputId": "e0582e8c-c58b-4134-ebc7-6d3eb4670bf9"
      },
      "execution_count": null,
      "outputs": [
        {
          "output_type": "stream",
          "name": "stdout",
          "text": [
            "속력을 입력해주세요(km/h):.1 100\n",
            "거리를 입력해 주세요(km):.1 340\n",
            "몫: 340//100=3\n"
          ]
        }
      ]
    },
    {
      "cell_type": "code",
      "source": [],
      "metadata": {
        "id": "KY3QLlwBMgde"
      },
      "execution_count": null,
      "outputs": []
    },
    {
      "cell_type": "markdown",
      "source": [
        "# 내장된 수학함수"
      ],
      "metadata": {
        "id": "uUW57Q4nO73n"
      }
    },
    {
      "cell_type": "markdown",
      "source": [
        "# [실습문제] 파이썬 수학 함수로 풀기"
      ],
      "metadata": {
        "id": "A3tXWI5PRUBu"
      }
    },
    {
      "cell_type": "code",
      "source": [
        "import math\n",
        "\n",
        "# ✓ 문제1: 반지름이 4인 원의 넓이 출력\n",
        "r=4\n",
        "print(f'원의 넓이: {round(math.pi * math.pow(r,2),4)}')\n",
        "# ✓ 문제2: 3.14 곱하기 2 나누기 7의 값을 반올림하여 계산 결과 출력\n",
        "print(f'계산결과:{round(3.14*2/7)}')\n",
        "# 문제3: 원주율을 3.14로 만들어서 반지름이 4인 원의 둘레의 길이 출력\n",
        "print(f'원의 둘레:{2*3.14*r}')\n"
      ],
      "metadata": {
        "colab": {
          "base_uri": "https://localhost:8080/"
        },
        "id": "7ZT5uEM2O-4O",
        "outputId": "923bdd7c-4265-43ef-eef5-69aaa4bd24ef"
      },
      "execution_count": null,
      "outputs": [
        {
          "output_type": "stream",
          "name": "stdout",
          "text": [
            "원의 넓이: 50.2655\n",
            "계산결과:1\n",
            "원의 둘레:25.12\n"
          ]
        }
      ]
    },
    {
      "cell_type": "code",
      "source": [
        "print(f'원의 둘레:{2*3.14*r}')"
      ],
      "metadata": {
        "colab": {
          "base_uri": "https://localhost:8080/"
        },
        "id": "Q8u1HIBLSGGu",
        "outputId": "8501932c-eb7a-4a75-efb3-4cd8d2042a3a"
      },
      "execution_count": null,
      "outputs": [
        {
          "output_type": "stream",
          "name": "stdout",
          "text": [
            "원의 둘레:25.12\n"
          ]
        }
      ]
    },
    {
      "cell_type": "code",
      "source": [],
      "metadata": {
        "id": "pLwhYeFLSwHb"
      },
      "execution_count": null,
      "outputs": []
    },
    {
      "cell_type": "markdown",
      "source": [
        "###[실습문제] 숫자 입력받아 계산하기\n",
        "a+aa+aaa=?"
      ],
      "metadata": {
        "id": "VPrBXAwDHHMQ"
      }
    },
    {
      "cell_type": "code",
      "source": [
        "a=input('정수를 입력하세요: ')"
      ],
      "metadata": {
        "colab": {
          "base_uri": "https://localhost:8080/"
        },
        "id": "qzpi1B5ZHPco",
        "outputId": "6bbe7095-5a27-45ec-eac0-3a6fe682e572"
      },
      "execution_count": 2,
      "outputs": [
        {
          "name": "stdout",
          "output_type": "stream",
          "text": [
            "정수를 입력하세요: 7\n"
          ]
        }
      ]
    },
    {
      "cell_type": "code",
      "source": [
        "a=input('정수를 입력하세요: ')\n",
        "print(type(a))\n",
        "aa=int(a+a)\n",
        "print(aa)\n",
        "aaa=int(a+a+a)\n",
        "print(int(a)+int(aa)+int(aaa))"
      ],
      "metadata": {
        "colab": {
          "base_uri": "https://localhost:8080/"
        },
        "id": "xlS1FkpBHnp-",
        "outputId": "d37a868e-f535-4b25-83e8-00ff12bbc1ff"
      },
      "execution_count": 7,
      "outputs": [
        {
          "output_type": "stream",
          "name": "stdout",
          "text": [
            "정수를 입력하세요: 7\n",
            "<class 'str'>\n",
            "77\n",
            "861\n"
          ]
        }
      ]
    },
    {
      "cell_type": "code",
      "source": [
        "#eval(): 문자열을 숫자로 인식하고 계산하는 함수\n",
        "eval('7+77+777')\n",
        "calc=f'{a}+{a*2}+{a*3}'\n",
        "print(f'{calc}={eval(calc0}')')"
      ],
      "metadata": {
        "colab": {
          "base_uri": "https://localhost:8080/",
          "height": 106
        },
        "id": "fsj8wpw2JMAp",
        "outputId": "6ed8967a-328a-4349-fc9b-2d6d77fd49dc"
      },
      "execution_count": 11,
      "outputs": [
        {
          "output_type": "error",
          "ename": "SyntaxError",
          "evalue": "unterminated string literal (detected at line 4) (<ipython-input-11-3d0ff6b3f2f2>, line 4)",
          "traceback": [
            "\u001b[0;36m  File \u001b[0;32m\"<ipython-input-11-3d0ff6b3f2f2>\"\u001b[0;36m, line \u001b[0;32m4\u001b[0m\n\u001b[0;31m    print(f'{calc}={eval(calc0}')')\u001b[0m\n\u001b[0m                                 ^\u001b[0m\n\u001b[0;31mSyntaxError\u001b[0m\u001b[0;31m:\u001b[0m unterminated string literal (detected at line 4)\n"
          ]
        }
      ]
    },
    {
      "cell_type": "code",
      "source": [],
      "metadata": {
        "id": "_OYm_kk1NLvI"
      },
      "execution_count": null,
      "outputs": []
    }
  ]
}