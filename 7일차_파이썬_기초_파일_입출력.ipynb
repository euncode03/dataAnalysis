{
  "nbformat": 4,
  "nbformat_minor": 0,
  "metadata": {
    "colab": {
      "provenance": [],
      "authorship_tag": "ABX9TyML9sm6+G0tlTo7hcQOHqB8",
      "include_colab_link": true
    },
    "kernelspec": {
      "name": "python3",
      "display_name": "Python 3"
    },
    "language_info": {
      "name": "python"
    }
  },
  "cells": [
    {
      "cell_type": "markdown",
      "metadata": {
        "id": "view-in-github",
        "colab_type": "text"
      },
      "source": [
        "<a href=\"https://colab.research.google.com/github/euncode03/dataAnalysis/blob/main/7%EC%9D%BC%EC%B0%A8_%ED%8C%8C%EC%9D%B4%EC%8D%AC_%EA%B8%B0%EC%B4%88_%ED%8C%8C%EC%9D%BC_%EC%9E%85%EC%B6%9C%EB%A0%A5.ipynb\" target=\"_parent\"><img src=\"https://colab.research.google.com/assets/colab-badge.svg\" alt=\"Open In Colab\"/></a>"
      ]
    },
    {
      "cell_type": "code",
      "execution_count": null,
      "metadata": {
        "id": "9Dls14NwkbVM"
      },
      "outputs": [],
      "source": []
    },
    {
      "cell_type": "markdown",
      "source": [
        "# 6. 파일 입출력"
      ],
      "metadata": {
        "id": "X8h6e6r_mOxs"
      }
    },
    {
      "cell_type": "code",
      "source": [
        "# 파일에 쓰기\n"
      ],
      "metadata": {
        "id": "7t7AlHVsmTeS"
      },
      "execution_count": 2,
      "outputs": []
    },
    {
      "cell_type": "markdown",
      "source": [
        "## 6-1 TXT"
      ],
      "metadata": {
        "id": "Th1pURl4mUFq"
      }
    },
    {
      "cell_type": "markdown",
      "source": [],
      "metadata": {
        "id": "raF-nNpJmg9S"
      }
    },
    {
      "cell_type": "markdown",
      "source": [
        "## 더블클릭 또는 Enter 키를 눌러 수정"
      ],
      "metadata": {
        "id": "jI933fdUoOI6"
      }
    },
    {
      "cell_type": "markdown",
      "source": [
        "- readline()\n",
        "- readlines()\n",
        "- read()"
      ],
      "metadata": {
        "id": "hE5ThWBkoqOS"
      }
    },
    {
      "cell_type": "code",
      "source": [
        "# readline\n",
        "f = open('./새파일.txt', 'r')\n",
        "line = f. readline()\n",
        "print(line)\n",
        "print('-------------------')\n",
        "while True:\n",
        "    line = f.readline()\n",
        "    if not line:\n",
        "        break\n",
        "    print(line.strip())\n",
        "f.close()"
      ],
      "metadata": {
        "colab": {
          "base_uri": "https://localhost:8080/"
        },
        "id": "ZTqS2m_4oSOt",
        "outputId": "26028f70-8910-4bfa-dcca-a3fa5c074a8a"
      },
      "execution_count": 12,
      "outputs": [
        {
          "output_type": "stream",
          "name": "stdout",
          "text": [
            "1번쨰 줄입니다.\n",
            "\n",
            "-------------------\n",
            "2번쨰 줄입니다.\n",
            "3번쨰 줄입니다.\n",
            "4번쨰 줄입니다.\n",
            "5번쨰 줄입니다.\n",
            "6번쨰 줄입니다.\n",
            "7번쨰 줄입니다.\n",
            "8번쨰 줄입니다.\n",
            "9번쨰 줄입니다.\n",
            "10번쨰 줄입니다.\n"
          ]
        }
      ]
    },
    {
      "cell_type": "code",
      "source": [
        "# readlines()\n",
        "f = open('./새파일.txt', 'r')\n",
        "line = f. readlines()\n",
        "print(line)\n",
        "f.close()"
      ],
      "metadata": {
        "colab": {
          "base_uri": "https://localhost:8080/"
        },
        "id": "tHiNX0O2p1Xp",
        "outputId": "8184cc69-6bfa-46fd-f36c-183a08c765ba"
      },
      "execution_count": 20,
      "outputs": [
        {
          "output_type": "stream",
          "name": "stdout",
          "text": [
            "['1번쨰 줄입니다.\\n', '2번쨰 줄입니다.\\n', '3번쨰 줄입니다.\\n', '4번쨰 줄입니다.\\n', '5번쨰 줄입니다.\\n', '6번쨰 줄입니다.\\n', '7번쨰 줄입니다.\\n', '8번쨰 줄입니다.\\n', '9번쨰 줄입니다.\\n', '10번쨰 줄입니다.\\n']\n"
          ]
        }
      ]
    },
    {
      "cell_type": "code",
      "source": [
        "#read : 결과는 문자열로 나열한다\n",
        "f = open('./새파일.txt', 'r')\n",
        "line = f. read()\n",
        "print(line)\n",
        "f.close()"
      ],
      "metadata": {
        "colab": {
          "base_uri": "https://localhost:8080/"
        },
        "id": "uDzH56PXqiKI",
        "outputId": "fbc42252-887e-4bb9-f84d-68dcfa459130"
      },
      "execution_count": 19,
      "outputs": [
        {
          "output_type": "stream",
          "name": "stdout",
          "text": [
            "1번쨰 줄입니다.\n",
            "2번쨰 줄입니다.\n",
            "3번쨰 줄입니다.\n",
            "4번쨰 줄입니다.\n",
            "5번쨰 줄입니다.\n",
            "6번쨰 줄입니다.\n",
            "7번쨰 줄입니다.\n",
            "8번쨰 줄입니다.\n",
            "9번쨰 줄입니다.\n",
            "10번쨰 줄입니다.\n",
            "\n"
          ]
        }
      ]
    },
    {
      "cell_type": "markdown",
      "source": [
        "### with문\n",
        "with문을 벗어나면 자동으로 파일객체를 닫는다\n"
      ],
      "metadata": {
        "id": "svVySXzOqh4Z"
      }
    },
    {
      "cell_type": "markdown",
      "source": [],
      "metadata": {
        "id": "Wlt-pkMzoOBK"
      }
    },
    {
      "cell_type": "code",
      "source": [
        "# f = open('./새파일.txt', 'r')\n",
        "# line = f. readlines()\n",
        "# print(line)\n",
        "# f.close()\n",
        "\n",
        "with open('./새파일.txt', 'r') as f:\n",
        "    data = f.read()\n",
        "    data = data.replace('줄','사람')\n",
        "    print(data)"
      ],
      "metadata": {
        "colab": {
          "base_uri": "https://localhost:8080/"
        },
        "id": "OTBfepsYr5dp",
        "outputId": "78268e69-f560-4319-c4b4-39ef127ae292"
      },
      "execution_count": 21,
      "outputs": [
        {
          "output_type": "stream",
          "name": "stdout",
          "text": [
            "1번쨰 사람입니다.\n",
            "2번쨰 사람입니다.\n",
            "3번쨰 사람입니다.\n",
            "4번쨰 사람입니다.\n",
            "5번쨰 사람입니다.\n",
            "6번쨰 사람입니다.\n",
            "7번쨰 사람입니다.\n",
            "8번쨰 사람입니다.\n",
            "9번쨰 사람입니다.\n",
            "10번쨰 사람입니다.\n",
            "\n"
          ]
        }
      ]
    },
    {
      "cell_type": "markdown",
      "source": [
        "### os 모듈: 디렉토리 & 파일 관련 함수"
      ],
      "metadata": {
        "id": "8yHmFCzuswx5"
      }
    },
    {
      "cell_type": "markdown",
      "source": [],
      "metadata": {
        "id": "YfSf6KGdr5QJ"
      }
    },
    {
      "cell_type": "code",
      "source": [
        "import os\n",
        "\n",
        "print(f\"현재위치: {os.getcwd()}\")\n",
        "print(f\"현재위치 파일/폴더 목록: {os.listdir()}\")\n",
        "# os.chdir('../')\n",
        "os.chdir('/content')\n",
        "# print(f\"현재위치 파일/폴더 목록: {os.listdir()}\")"
      ],
      "metadata": {
        "colab": {
          "base_uri": "https://localhost:8080/"
        },
        "id": "UZsWB3g0s94a",
        "outputId": "3847f9b3-e910-4977-ffae-468133cda1d9"
      },
      "execution_count": 30,
      "outputs": [
        {
          "output_type": "stream",
          "name": "stdout",
          "text": [
            "현재위치: /content\n",
            "현재위치 파일/폴더 목록: ['.config', '새파일.txt', 'sample_data']\n"
          ]
        }
      ]
    },
    {
      "cell_type": "code",
      "source": [],
      "metadata": {
        "id": "PYp6X1VLtfW4"
      },
      "execution_count": 29,
      "outputs": []
    },
    {
      "cell_type": "markdown",
      "source": [
        "### os.remvoe(): 파일삭제"
      ],
      "metadata": {
        "id": "3agcGUoruhiB"
      }
    },
    {
      "cell_type": "code",
      "source": [
        "import os\n",
        "file = '새파일.txt'\n",
        "if os.path.isfile(file):\n",
        "    os.remove(file)\n",
        "    print(f\"'{file}' 파일이 삭제되었습니다.\")\n",
        "else:\n",
        "    print(f\"'{file}' 파일이 존재하지 않습니다.\")"
      ],
      "metadata": {
        "colab": {
          "base_uri": "https://localhost:8080/"
        },
        "id": "59OfkTrQuOFq",
        "outputId": "515fbdb5-2096-4d06-b4be-ad2440fe0223"
      },
      "execution_count": 33,
      "outputs": [
        {
          "output_type": "stream",
          "name": "stdout",
          "text": [
            "'새파일.txt' 파일이 삭제되었습니다.\n"
          ]
        }
      ]
    },
    {
      "cell_type": "markdown",
      "source": [
        "### [실습문제] txt파일 만들고 임의의 정수 파일에 쓰기\n"
      ],
      "metadata": {
        "id": "YQ3f_x5YwCtx"
      }
    },
    {
      "cell_type": "code",
      "source": [
        "import random\n",
        "\n",
        "# 쓰기\n",
        "\n",
        "f = open('./sample.txt', 'w')\n",
        "for _ in range(10):\n",
        "    n = str(random.randint(1,100))\n",
        "    f.write(n+'\\n')  # 문자열 사용 가능\n",
        "f.close()\n",
        "\n",
        "# 읽어오기\n",
        "\n",
        "f = open('./sample.txt', 'r')\n",
        "data = f.read()\n",
        "print(data)\n",
        "f.close()"
      ],
      "metadata": {
        "colab": {
          "base_uri": "https://localhost:8080/"
        },
        "id": "RisODIZgvBHK",
        "outputId": "ca8e8954-e97c-4cbc-d56e-6b3b6be928fe"
      },
      "execution_count": 38,
      "outputs": [
        {
          "output_type": "stream",
          "name": "stdout",
          "text": [
            "75\n",
            "7\n",
            "89\n",
            "32\n",
            "17\n",
            "62\n",
            "58\n",
            "61\n",
            "36\n",
            "57\n",
            "\n"
          ]
        }
      ]
    },
    {
      "cell_type": "code",
      "source": [],
      "metadata": {
        "id": "HV0CfHYnxT84"
      },
      "execution_count": null,
      "outputs": []
    },
    {
      "cell_type": "code",
      "source": [
        "# 파일 읽어서 총합 & 평균 출력하기\n",
        "\n",
        "with open('./sample.txt', 'r') as f:\n",
        "    data = [ int(line) for line in f.readlines()]\n",
        "    print(data)\n",
        "    hap = sum(data)\n",
        "    avg = hap / len(data)\n",
        "    content = f\"{data}\\n총합은 {hap} 입니다.\\n평균은 {avg}입니다.\"\n",
        "    print(content)\n",
        "\n",
        "    with open('./result.txt', 'w') as f :\n",
        "        f.write(content)"
      ],
      "metadata": {
        "colab": {
          "base_uri": "https://localhost:8080/"
        },
        "id": "Lltl5CYJ0ZFe",
        "outputId": "13e89494-dada-427a-df93-aa97faf1af5e"
      },
      "execution_count": 51,
      "outputs": [
        {
          "output_type": "stream",
          "name": "stdout",
          "text": [
            "[75, 7, 89, 32, 17, 62, 58, 61, 36, 57]\n",
            "[75, 7, 89, 32, 17, 62, 58, 61, 36, 57]\n",
            "총합은 494 입니다.\n",
            "평균은 49.4입니다.\n"
          ]
        }
      ]
    },
    {
      "cell_type": "code",
      "source": [],
      "metadata": {
        "id": "EVqHp7-b-dUn"
      },
      "execution_count": null,
      "outputs": []
    },
    {
      "cell_type": "markdown",
      "source": [
        "# 7. 클래스"
      ],
      "metadata": {
        "id": "n90mg0jn-dnl"
      }
    },
    {
      "cell_type": "code",
      "source": [],
      "metadata": {
        "id": "M_OofeYZ0h6N"
      },
      "execution_count": null,
      "outputs": []
    },
    {
      "cell_type": "markdown",
      "source": [
        "## 7-1 클래스의 이해"
      ],
      "metadata": {
        "id": "wxZ3Yf8T-iRF"
      }
    },
    {
      "cell_type": "code",
      "source": [
        "data1 = list()     # 인스턴스\n",
        "data2 = list()     # 인스턴스\n",
        "print(type(data))\n",
        "\n",
        "data1.append(100)\n",
        "data2.append(200)"
      ],
      "metadata": {
        "colab": {
          "base_uri": "https://localhost:8080/"
        },
        "id": "IklvUkFK-mZN",
        "outputId": "1d9ecab5-be8b-4ec6-bba0-98d89f94647c"
      },
      "execution_count": 54,
      "outputs": [
        {
          "output_type": "stream",
          "name": "stdout",
          "text": [
            "<class 'list'>\n",
            "Help on class list in module builtins:\n",
            "\n",
            "class list(object)\n",
            " |  list(iterable=(), /)\n",
            " |  \n",
            " |  Built-in mutable sequence.\n",
            " |  \n",
            " |  If no argument is given, the constructor creates a new empty list.\n",
            " |  The argument must be an iterable if specified.\n",
            " |  \n",
            " |  Methods defined here:\n",
            " |  \n",
            " |  __add__(self, value, /)\n",
            " |      Return self+value.\n",
            " |  \n",
            " |  __contains__(self, key, /)\n",
            " |      Return key in self.\n",
            " |  \n",
            " |  __delitem__(self, key, /)\n",
            " |      Delete self[key].\n",
            " |  \n",
            " |  __eq__(self, value, /)\n",
            " |      Return self==value.\n",
            " |  \n",
            " |  __ge__(self, value, /)\n",
            " |      Return self>=value.\n",
            " |  \n",
            " |  __getattribute__(self, name, /)\n",
            " |      Return getattr(self, name).\n",
            " |  \n",
            " |  __getitem__(...)\n",
            " |      x.__getitem__(y) <==> x[y]\n",
            " |  \n",
            " |  __gt__(self, value, /)\n",
            " |      Return self>value.\n",
            " |  \n",
            " |  __iadd__(self, value, /)\n",
            " |      Implement self+=value.\n",
            " |  \n",
            " |  __imul__(self, value, /)\n",
            " |      Implement self*=value.\n",
            " |  \n",
            " |  __init__(self, /, *args, **kwargs)\n",
            " |      Initialize self.  See help(type(self)) for accurate signature.\n",
            " |  \n",
            " |  __iter__(self, /)\n",
            " |      Implement iter(self).\n",
            " |  \n",
            " |  __le__(self, value, /)\n",
            " |      Return self<=value.\n",
            " |  \n",
            " |  __len__(self, /)\n",
            " |      Return len(self).\n",
            " |  \n",
            " |  __lt__(self, value, /)\n",
            " |      Return self<value.\n",
            " |  \n",
            " |  __mul__(self, value, /)\n",
            " |      Return self*value.\n",
            " |  \n",
            " |  __ne__(self, value, /)\n",
            " |      Return self!=value.\n",
            " |  \n",
            " |  __repr__(self, /)\n",
            " |      Return repr(self).\n",
            " |  \n",
            " |  __reversed__(self, /)\n",
            " |      Return a reverse iterator over the list.\n",
            " |  \n",
            " |  __rmul__(self, value, /)\n",
            " |      Return value*self.\n",
            " |  \n",
            " |  __setitem__(self, key, value, /)\n",
            " |      Set self[key] to value.\n",
            " |  \n",
            " |  __sizeof__(self, /)\n",
            " |      Return the size of the list in memory, in bytes.\n",
            " |  \n",
            " |  append(self, object, /)\n",
            " |      Append object to the end of the list.\n",
            " |  \n",
            " |  clear(self, /)\n",
            " |      Remove all items from list.\n",
            " |  \n",
            " |  copy(self, /)\n",
            " |      Return a shallow copy of the list.\n",
            " |  \n",
            " |  count(self, value, /)\n",
            " |      Return number of occurrences of value.\n",
            " |  \n",
            " |  extend(self, iterable, /)\n",
            " |      Extend list by appending elements from the iterable.\n",
            " |  \n",
            " |  index(self, value, start=0, stop=9223372036854775807, /)\n",
            " |      Return first index of value.\n",
            " |      \n",
            " |      Raises ValueError if the value is not present.\n",
            " |  \n",
            " |  insert(self, index, object, /)\n",
            " |      Insert object before index.\n",
            " |  \n",
            " |  pop(self, index=-1, /)\n",
            " |      Remove and return item at index (default last).\n",
            " |      \n",
            " |      Raises IndexError if list is empty or index is out of range.\n",
            " |  \n",
            " |  remove(self, value, /)\n",
            " |      Remove first occurrence of value.\n",
            " |      \n",
            " |      Raises ValueError if the value is not present.\n",
            " |  \n",
            " |  reverse(self, /)\n",
            " |      Reverse *IN PLACE*.\n",
            " |  \n",
            " |  sort(self, /, *, key=None, reverse=False)\n",
            " |      Sort the list in ascending order and return None.\n",
            " |      \n",
            " |      The sort is in-place (i.e. the list itself is modified) and stable (i.e. the\n",
            " |      order of two equal elements is maintained).\n",
            " |      \n",
            " |      If a key function is given, apply it once to each list item and sort them,\n",
            " |      ascending or descending, according to their function values.\n",
            " |      \n",
            " |      The reverse flag can be set to sort in descending order.\n",
            " |  \n",
            " |  ----------------------------------------------------------------------\n",
            " |  Class methods defined here:\n",
            " |  \n",
            " |  __class_getitem__(...) from builtins.type\n",
            " |      See PEP 585\n",
            " |  \n",
            " |  ----------------------------------------------------------------------\n",
            " |  Static methods defined here:\n",
            " |  \n",
            " |  __new__(*args, **kwargs) from builtins.type\n",
            " |      Create and return a new object.  See help(type) for accurate signature.\n",
            " |  \n",
            " |  ----------------------------------------------------------------------\n",
            " |  Data and other attributes defined here:\n",
            " |  \n",
            " |  __hash__ = None\n",
            "\n"
          ]
        }
      ]
    },
    {
      "cell_type": "code",
      "source": [],
      "metadata": {
        "id": "fFc98zkY-p8c"
      },
      "execution_count": null,
      "outputs": []
    }
  ]
}