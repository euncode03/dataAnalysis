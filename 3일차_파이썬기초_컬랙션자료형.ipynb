{
  "nbformat": 4,
  "nbformat_minor": 0,
  "metadata": {
    "colab": {
      "provenance": [],
      "authorship_tag": "ABX9TyOQ+JJXcirX1BoqOHZWGPkr",
      "include_colab_link": true
    },
    "kernelspec": {
      "name": "python3",
      "display_name": "Python 3"
    },
    "language_info": {
      "name": "python"
    }
  },
  "cells": [
    {
      "cell_type": "markdown",
      "metadata": {
        "id": "view-in-github",
        "colab_type": "text"
      },
      "source": [
        "<a href=\"https://colab.research.google.com/github/euncode03/dataAnalysis/blob/main/3%EC%9D%BC%EC%B0%A8_%ED%8C%8C%EC%9D%B4%EC%8D%AC%EA%B8%B0%EC%B4%88_%EC%BB%AC%EB%9E%99%EC%85%98%EC%9E%90%EB%A3%8C%ED%98%95.ipynb\" target=\"_parent\"><img src=\"https://colab.research.google.com/assets/colab-badge.svg\" alt=\"Open In Colab\"/></a>"
      ]
    },
    {
      "cell_type": "code",
      "execution_count": null,
      "metadata": {
        "id": "kd0MWOkzTjVd"
      },
      "outputs": [],
      "source": []
    },
    {
      "cell_type": "markdown",
      "source": [
        "# 3. 컬렉션 자료형"
      ],
      "metadata": {
        "id": "ydgNFpgGTppp"
      }
    },
    {
      "cell_type": "code",
      "source": [],
      "metadata": {
        "id": "TP-bvlJ1TtfA"
      },
      "execution_count": null,
      "outputs": []
    },
    {
      "cell_type": "markdown",
      "source": [
        "## 3-1. 리스트(List)"
      ],
      "metadata": {
        "id": "JbZitczqTulQ"
      }
    },
    {
      "cell_type": "markdown",
      "source": [
        "### 리스트 생성"
      ],
      "metadata": {
        "id": "CewgJAhYT4Ma"
      }
    },
    {
      "cell_type": "code",
      "source": [],
      "metadata": {
        "id": "NkCJc8H4T5mQ"
      },
      "execution_count": null,
      "outputs": []
    },
    {
      "cell_type": "code",
      "source": [
        "# 빈 리스트 생성\n",
        "a=[]\n",
        "a= list()\n",
        "print( type(a) )\n",
        "print(a)"
      ],
      "metadata": {
        "colab": {
          "base_uri": "https://localhost:8080/"
        },
        "id": "YhTGlfxVT6TZ",
        "outputId": "53f25089-e14f-4268-a781-5d2c6b593c69"
      },
      "execution_count": 2,
      "outputs": [
        {
          "output_type": "stream",
          "name": "stdout",
          "text": [
            "<class 'list'>\n",
            "[]\n"
          ]
        }
      ]
    },
    {
      "cell_type": "code",
      "source": [
        "# 초기 데이터 넣고 리스트 생성\n",
        "import math\n",
        "a = [1,2,3,4,5]\n",
        "a = [1, 'apple', '딸기', 3.14, math.pi, max([10,30,20])]\n",
        "b= [1, 2, a, ['사과', '딸기'],{'k':'kiwi'}]\n",
        "print(b)"
      ],
      "metadata": {
        "colab": {
          "base_uri": "https://localhost:8080/"
        },
        "id": "dlqyMIcTUC-R",
        "outputId": "d6338355-1d90-48e0-dc51-e76176a5580a"
      },
      "execution_count": 7,
      "outputs": [
        {
          "output_type": "stream",
          "name": "stdout",
          "text": [
            "[1, 2, [1, 'apple', '딸기', 3.14, 3.141592653589793, 30], ['사과', '딸기'], {'k': 'kiwi'}]\n"
          ]
        }
      ]
    },
    {
      "cell_type": "code",
      "source": [
        "numlist = []\n",
        "for num in range(1,21,2):    #for 반복문, range(): 정수를 순차로 발생시키는 함수\n",
        "  numlist.append(num)        # 리스트에 데이터 추가\n",
        "  print(numlist)"
      ],
      "metadata": {
        "colab": {
          "base_uri": "https://localhost:8080/"
        },
        "id": "Xn4kLrsOUtpR",
        "outputId": "c88de924-44c5-46e6-db51-2a1a082a38ca"
      },
      "execution_count": 9,
      "outputs": [
        {
          "output_type": "stream",
          "name": "stdout",
          "text": [
            "[1]\n",
            "[1, 3]\n",
            "[1, 3, 5]\n",
            "[1, 3, 5, 7]\n",
            "[1, 3, 5, 7, 9]\n",
            "[1, 3, 5, 7, 9, 11]\n",
            "[1, 3, 5, 7, 9, 11, 13]\n",
            "[1, 3, 5, 7, 9, 11, 13, 15]\n",
            "[1, 3, 5, 7, 9, 11, 13, 15, 17]\n",
            "[1, 3, 5, 7, 9, 11, 13, 15, 17, 19]\n"
          ]
        }
      ]
    },
    {
      "cell_type": "code",
      "source": [
        "print(b)\n",
        "for i in b:      # for 반복문. b란 이름의 리스트 안에 있는 요소를 하나씩 출력하는 코드\n",
        "  print(i)"
      ],
      "metadata": {
        "colab": {
          "base_uri": "https://localhost:8080/"
        },
        "id": "yOEjI2LfVj5S",
        "outputId": "33b3ccd9-c0ee-4783-dcaa-e94b933fd71c"
      },
      "execution_count": 10,
      "outputs": [
        {
          "output_type": "stream",
          "name": "stdout",
          "text": [
            "[1, 2, [1, 'apple', '딸기', 3.14, 3.141592653589793, 30], ['사과', '딸기'], {'k': 'kiwi'}]\n",
            "1\n",
            "2\n",
            "[1, 'apple', '딸기', 3.14, 3.141592653589793, 30]\n",
            "['사과', '딸기']\n",
            "{'k': 'kiwi'}\n"
          ]
        }
      ]
    },
    {
      "cell_type": "code",
      "source": [],
      "metadata": {
        "id": "zdqfA87lWhdQ"
      },
      "execution_count": null,
      "outputs": []
    },
    {
      "cell_type": "markdown",
      "source": [
        "###  리스트 요소에 접근"
      ],
      "metadata": {
        "id": "QOvPNeYkXbBs"
      }
    },
    {
      "cell_type": "markdown",
      "source": [],
      "metadata": {
        "id": "8qZuWeI8Ytaf"
      }
    },
    {
      "cell_type": "code",
      "source": [
        "colors = ['빨강','초록', '파랑', '노랑', '검정']\n",
        "print(colors[0])\n",
        "print(colors[2:4])\n",
        "print(colors[::-1])  # 거꾸로 정렬\n",
        "\n",
        "for color in colors:\n",
        "  print(f \"나는 {color} 색상을 좋아합니다. \")\n"
      ],
      "metadata": {
        "colab": {
          "base_uri": "https://localhost:8080/"
        },
        "id": "tr0qaZkQXeKp",
        "outputId": "a528f070-ca93-49d5-ee30-8f026c08740c"
      },
      "execution_count": 12,
      "outputs": [
        {
          "output_type": "stream",
          "name": "stdout",
          "text": [
            "빨강\n",
            "['파랑', '노랑']\n",
            "['검정', '노랑', '파랑', '초록', '빨강']\n"
          ]
        }
      ]
    },
    {
      "cell_type": "markdown",
      "source": [],
      "metadata": {
        "id": "uM7Kr_fPYrdg"
      }
    },
    {
      "cell_type": "code",
      "source": [],
      "metadata": {
        "id": "U7u4Zoc3XzzH"
      },
      "execution_count": null,
      "outputs": []
    },
    {
      "cell_type": "markdown",
      "source": [
        "###  리스트 요소에 추가하기"
      ],
      "metadata": {
        "id": "4a1r7QcJYuDn"
      }
    },
    {
      "cell_type": "code",
      "source": [
        "print(colors)\n",
        "# 인덱스 2 위치에 '분홍' 넣기\n",
        "colors. insert(2, '분홍')\n",
        "print(colors)\n",
        "\n",
        "# 맨 뒤에 추가하기\n",
        "colors.append('보라')\n",
        "print(colors)"
      ],
      "metadata": {
        "colab": {
          "base_uri": "https://localhost:8080/"
        },
        "id": "liIfcVStYvFQ",
        "outputId": "711f0ea2-461e-407d-9c70-30eb3f10cfae"
      },
      "execution_count": 14,
      "outputs": [
        {
          "output_type": "stream",
          "name": "stdout",
          "text": [
            "['빨강', '초록', '분홍', '파랑', '노랑', '검정']\n",
            "['빨강', '초록', '분홍', '분홍', '파랑', '노랑', '검정']\n",
            "['빨강', '초록', '분홍', '분홍', '파랑', '노랑', '검정', '보라']\n"
          ]
        }
      ]
    },
    {
      "cell_type": "code",
      "source": [],
      "metadata": {
        "id": "Q9SFCNv9Y8zX"
      },
      "execution_count": null,
      "outputs": []
    },
    {
      "cell_type": "markdown",
      "source": [
        "### 리스트 특정 위치의 요소값 변경"
      ],
      "metadata": {
        "id": "dIT1RXTJZinp"
      }
    },
    {
      "cell_type": "code",
      "source": [
        "colors[3] = '주황'\n",
        "print(colors)\n",
        "colors[1:3] = '갈색'\n",
        "print(colors)\n",
        "colors[1:3] = ['갈색', '고동']\n",
        "print(colors)\n",
        "colors[1:4]= '갈색' # 주의! 인덱스 개수가 다르면 대체가 안되고 없어짐\n",
        "print(colors)\n"
      ],
      "metadata": {
        "colab": {
          "base_uri": "https://localhost:8080/"
        },
        "id": "S8_wf0GCZlLI",
        "outputId": "92db6bf6-0e56-452d-90ff-1002df8e4581"
      },
      "execution_count": 20,
      "outputs": [
        {
          "output_type": "stream",
          "name": "stdout",
          "text": [
            "['빨강', '갈색', '고동', '주황', '파랑', '노랑', '검정', '보라']\n",
            "['빨강', '갈', '색', '주황', '파랑', '노랑', '검정', '보라']\n",
            "['빨강', '갈색', '고동', '주황', '파랑', '노랑', '검정', '보라']\n",
            "['빨강', '갈', '색', '파랑', '노랑', '검정', '보라']\n"
          ]
        }
      ]
    },
    {
      "cell_type": "code",
      "source": [],
      "metadata": {
        "id": "zLmQipiAZpzY"
      },
      "execution_count": null,
      "outputs": []
    },
    {
      "cell_type": "markdown",
      "source": [
        "### 리스트 요소 삭제"
      ],
      "metadata": {
        "id": "kBQFG8zWbZoZ"
      }
    },
    {
      "cell_type": "code",
      "source": [
        "colors = ['빨강','초록', '파랑', '노랑', '검정','노랑']\n",
        "# 맨 뒤에 있는 것 삭제(꺼내기)\n",
        "colors.pop()\n",
        "print(colors)\n",
        "\n",
        "# 요소값과 일치하는 것 삭제\n",
        "colors.remove('노랑')\n",
        "print(colors)\n",
        "\n",
        "# 전체 요소 삭제\n",
        "colors.clear()\n",
        "print(colors)\n",
        "\n"
      ],
      "metadata": {
        "colab": {
          "base_uri": "https://localhost:8080/"
        },
        "id": "weLvAUJabdq2",
        "outputId": "bea0d086-a68e-4edb-804f-e51c96c13c3d"
      },
      "execution_count": 24,
      "outputs": [
        {
          "output_type": "stream",
          "name": "stdout",
          "text": [
            "['빨강', '초록', '파랑', '노랑', '검정']\n",
            "['빨강', '초록', '파랑', '검정']\n",
            "[]\n"
          ]
        }
      ]
    },
    {
      "cell_type": "markdown",
      "source": [
        "### 리스트 자체 삭제"
      ],
      "metadata": {
        "id": "56SA7ADscvAP"
      }
    },
    {
      "cell_type": "code",
      "source": [
        "del(colors)\n",
        "print(colors)"
      ],
      "metadata": {
        "colab": {
          "base_uri": "https://localhost:8080/",
          "height": 159
        },
        "id": "aVdApS9bbsEO",
        "outputId": "460db5f9-bbd8-49ed-c621-76531bf90e14"
      },
      "execution_count": 25,
      "outputs": [
        {
          "output_type": "error",
          "ename": "NameError",
          "evalue": "name 'colors' is not defined",
          "traceback": [
            "\u001b[0;31m---------------------------------------------------------------------------\u001b[0m",
            "\u001b[0;31mNameError\u001b[0m                                 Traceback (most recent call last)",
            "\u001b[0;32m<ipython-input-25-90ee9471d91d>\u001b[0m in \u001b[0;36m<cell line: 2>\u001b[0;34m()\u001b[0m\n\u001b[1;32m      1\u001b[0m \u001b[0;32mdel\u001b[0m\u001b[0;34m(\u001b[0m\u001b[0mcolors\u001b[0m\u001b[0;34m)\u001b[0m\u001b[0;34m\u001b[0m\u001b[0;34m\u001b[0m\u001b[0m\n\u001b[0;32m----> 2\u001b[0;31m \u001b[0mprint\u001b[0m\u001b[0;34m(\u001b[0m\u001b[0mcolors\u001b[0m\u001b[0;34m)\u001b[0m\u001b[0;34m\u001b[0m\u001b[0;34m\u001b[0m\u001b[0m\n\u001b[0m",
            "\u001b[0;31mNameError\u001b[0m: name 'colors' is not defined"
          ]
        }
      ]
    },
    {
      "cell_type": "code",
      "source": [],
      "metadata": {
        "id": "zr-FWb6JcnR-"
      },
      "execution_count": null,
      "outputs": []
    },
    {
      "cell_type": "markdown",
      "source": [],
      "metadata": {
        "id": "DN4-Gc65cuHY"
      }
    },
    {
      "cell_type": "markdown",
      "source": [
        "### 2차원/3차원...리스트 요소 접근"
      ],
      "metadata": {
        "id": "Me3eoQxgc6YW"
      }
    },
    {
      "cell_type": "code",
      "source": [
        "animals = ['사자', '호랑이', '곰',\n",
        "          ['고양이','강아지',['돌고래','범고래'],'햄스터']]\n",
        "\n",
        "\n",
        "\n",
        "print(animals)\n",
        "print(animals[1])\n",
        "print(animals[3])\n",
        "print(animals[3][1])\n",
        "print(animals[3][2][1])\n"
      ],
      "metadata": {
        "colab": {
          "base_uri": "https://localhost:8080/"
        },
        "id": "_t_NeC5kc-np",
        "outputId": "46378063-18bf-4591-f7d2-507cad787fbd"
      },
      "execution_count": 30,
      "outputs": [
        {
          "output_type": "stream",
          "name": "stdout",
          "text": [
            "['사자', '호랑이', '곰', ['고양이', '강아지', ['돌고래', '범고래'], '햄스터']]\n",
            "호랑이\n",
            "['고양이', '강아지', ['돌고래', '범고래'], '햄스터']\n",
            "강아지\n",
            "범고래\n"
          ]
        }
      ]
    },
    {
      "cell_type": "markdown",
      "source": [
        "### 리스트 길이(요소의 개수)"
      ],
      "metadata": {
        "id": "98QI_qEqfYbg"
      }
    },
    {
      "cell_type": "code",
      "source": [
        "print(animals)\n",
        "print( len(animals[3]))\n",
        "print( len(animals[3][2]))"
      ],
      "metadata": {
        "colab": {
          "base_uri": "https://localhost:8080/"
        },
        "id": "lT4YOUWkfSLX",
        "outputId": "a0c6a187-00a0-4a3b-d960-6d1d78b56447"
      },
      "execution_count": 31,
      "outputs": [
        {
          "output_type": "stream",
          "name": "stdout",
          "text": [
            "['사자', '호랑이', '곰', ['고양이', '강아지', ['돌고래', '범고래'], '햄스터']]\n",
            "4\n",
            "2\n"
          ]
        }
      ]
    },
    {
      "cell_type": "code",
      "source": [],
      "metadata": {
        "id": "-J4ag9jqfiAG"
      },
      "execution_count": null,
      "outputs": []
    },
    {
      "cell_type": "markdown",
      "source": [
        "### 리스트 함수"
      ],
      "metadata": {
        "id": "tJZD0rdZgGWW"
      }
    },
    {
      "cell_type": "code",
      "source": [
        " colors = ['빨강','초록', '파랑', '노랑', '검정','노랑']\n",
        "\n",
        " # 리스트 요소 정렬\n",
        " print(colors)\n",
        " colors.sort()      # 순차 정렬(가나다 순)\n",
        " print(colors)\n",
        "\n",
        " colors.reverse()    # 역순 정렬\n",
        " print(colors)\n",
        "\n",
        "#  리스트의 특정 요소 위치 찾기\n",
        "print(colors.index('빨강'))\n",
        "print(colors.index('노랑'))   # 여러 개 있을 경우 맨 앞의 인덱스 나타내기\n",
        "\n",
        "\n",
        "# 요소 값 개수세기\n",
        "print(f\"요소 값 개수세기 : {colors.index('노랑')}\")\n",
        "\n",
        "# 리스트 정렬해서 새로운 이름을 저장해서 사용\n",
        "new =  sorted(colors)\n",
        "print(new)"
      ],
      "metadata": {
        "colab": {
          "base_uri": "https://localhost:8080/"
        },
        "id": "7FMFyJ3XgIc3",
        "outputId": "b9ab578d-2807-4575-d40a-0e5fc149e97c"
      },
      "execution_count": 41,
      "outputs": [
        {
          "output_type": "stream",
          "name": "stdout",
          "text": [
            "['빨강', '초록', '파랑', '노랑', '검정', '노랑']\n",
            "['검정', '노랑', '노랑', '빨강', '초록', '파랑']\n",
            "['파랑', '초록', '빨강', '노랑', '노랑', '검정']\n",
            "2\n",
            "3\n",
            "요소 값 개수세기 : 3\n",
            "['검정', '노랑', '노랑', '빨강', '초록', '파랑']\n"
          ]
        }
      ]
    },
    {
      "cell_type": "code",
      "source": [
        "newColors = ['red', 'green', 'blue']\n",
        "print(colors)\n",
        "print(newColors)\n",
        "colors.extend(newColors)\n",
        "print(colors)\n",
        "\n",
        "\n"
      ],
      "metadata": {
        "colab": {
          "base_uri": "https://localhost:8080/"
        },
        "id": "Qv0jIjZwgYX2",
        "outputId": "e2bc1d1b-7f3c-4000-d963-0c33d0c28f8d"
      },
      "execution_count": 46,
      "outputs": [
        {
          "output_type": "stream",
          "name": "stdout",
          "text": [
            "['빨강', '초록', '파랑', '노랑', '검정', '노랑', 'red', 'green', 'blue']\n",
            "['red', 'green', 'blue']\n",
            "['빨강', '초록', '파랑', '노랑', '검정', '노랑', 'red', 'green', 'blue', 'red', 'green', 'blue']\n"
          ]
        }
      ]
    },
    {
      "cell_type": "code",
      "source": [
        " colors = ['빨강','초록', '파랑', '노랑', '검정','노랑']\n",
        " newColors = ['red', 'green', 'blue']\n",
        " colors +=  newColors\n",
        " print(colors)"
      ],
      "metadata": {
        "colab": {
          "base_uri": "https://localhost:8080/"
        },
        "id": "8qzObB5ciVA1",
        "outputId": "c9a3a195-3056-4945-9cc6-2f0e3440c1d0"
      },
      "execution_count": 45,
      "outputs": [
        {
          "output_type": "stream",
          "name": "stdout",
          "text": [
            "['빨강', '초록', '파랑', '노랑', '검정', '노랑', 'red', 'green', 'blue']\n"
          ]
        }
      ]
    },
    {
      "cell_type": "code",
      "source": [],
      "metadata": {
        "id": "9PWRehDYjgOt"
      },
      "execution_count": null,
      "outputs": []
    }
  ]
}