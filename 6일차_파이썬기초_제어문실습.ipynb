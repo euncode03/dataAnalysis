{
  "nbformat": 4,
  "nbformat_minor": 0,
  "metadata": {
    "colab": {
      "provenance": [],
      "authorship_tag": "ABX9TyPRN0P1UYCOYcUhorjonIHI",
      "include_colab_link": true
    },
    "kernelspec": {
      "name": "python3",
      "display_name": "Python 3"
    },
    "language_info": {
      "name": "python"
    }
  },
  "cells": [
    {
      "cell_type": "markdown",
      "metadata": {
        "id": "view-in-github",
        "colab_type": "text"
      },
      "source": [
        "<a href=\"https://colab.research.google.com/github/euncode03/dataAnalysis/blob/main/6%EC%9D%BC%EC%B0%A8_%ED%8C%8C%EC%9D%B4%EC%8D%AC%EA%B8%B0%EC%B4%88_%EC%A0%9C%EC%96%B4%EB%AC%B8%EC%8B%A4%EC%8A%B5.ipynb\" target=\"_parent\"><img src=\"https://colab.research.google.com/assets/colab-badge.svg\" alt=\"Open In Colab\"/></a>"
      ]
    },
    {
      "cell_type": "code",
      "execution_count": null,
      "metadata": {
        "id": "wKV8R-ITJdC-"
      },
      "outputs": [],
      "source": []
    },
    {
      "cell_type": "markdown",
      "source": [
        "# 제어문(조건문,반복문)실습문제 풀이"
      ],
      "metadata": {
        "id": "sunHtN5tJjrR"
      }
    },
    {
      "cell_type": "code",
      "source": [],
      "metadata": {
        "id": "YEINEDgbJp1k"
      },
      "execution_count": null,
      "outputs": []
    },
    {
      "cell_type": "markdown",
      "source": [
        "### [실습문제] 연속된 수 합계 구하기"
      ],
      "metadata": {
        "id": "JA1tl0ueJq_J"
      }
    },
    {
      "cell_type": "code",
      "source": [
        "print('프로그램을 작성할 때 일정한 구간의 명령을\\n반복해서 실행하도록 구성한 문장을 무엇이라고 할까요?')\n",
        "while True:\n",
        "    answer = input('정답: ')\n",
        "    if answer == '반복문':\n",
        "        print('정답!')\n",
        "        break\n",
        "\n",
        "        print('오답')\n",
        "print('프로그램 종료! ')"
      ],
      "metadata": {
        "colab": {
          "base_uri": "https://localhost:8080/"
        },
        "id": "p79sh434JunC",
        "outputId": "e3604ee7-7898-4c6e-b877-3163dfd86ec2"
      },
      "execution_count": 3,
      "outputs": [
        {
          "output_type": "stream",
          "name": "stdout",
          "text": [
            "프로그램을 작성할 때 일정한 구간의 명령을\n",
            "반복해서 실행하도록 구성한 문장을 무엇이라고 할까요?\n",
            "정답: 반복문\n",
            "정답!\n",
            "프로그램 종료! \n"
          ]
        }
      ]
    },
    {
      "cell_type": "code",
      "source": [
        "print('프로그램을 작성할 때 일정한 구간의 명령을\\n반복해서 실행하도록 구성한 문장을 무엇이라고 할까요?')\n",
        "while True:\n",
        "    answer = input('정답: ')\n",
        "    if answer == '반복문':\n",
        "        print('좀 더 고민해 보세요~')\n",
        "        break\n",
        "\n",
        "    elif answer == '반복':\n",
        "        continue\n",
        "        print('오답')\n",
        "print('프로그램 종료! ')"
      ],
      "metadata": {
        "colab": {
          "base_uri": "https://localhost:8080/"
        },
        "id": "oSsDbVgTLviB",
        "outputId": "ed22aac6-8303-43a9-e41d-ca0561c8601b"
      },
      "execution_count": 4,
      "outputs": [
        {
          "output_type": "stream",
          "name": "stdout",
          "text": [
            "프로그램을 작성할 때 일정한 구간의 명령을\n",
            "반복해서 실행하도록 구성한 문장을 무엇이라고 할까요?\n",
            "정답: 반복\n",
            "정답: 반복문\n",
            "좀 더 고민해 보세요~\n",
            "프로그램 종료! \n"
          ]
        }
      ]
    },
    {
      "cell_type": "code",
      "source": [],
      "metadata": {
        "id": "N_7qc4pKNexY"
      },
      "execution_count": null,
      "outputs": []
    },
    {
      "cell_type": "markdown",
      "source": [
        "## [실습문제] 금리 계산하기"
      ],
      "metadata": {
        "id": "IGbAtojvNhgx"
      }
    },
    {
      "cell_type": "code",
      "source": [
        "seed, target = 1000, 2000\n",
        "balance, interest = 1000, 0.07\n",
        "year = 0\n",
        "while balance <= target:\n",
        "    balance = balance + balance * interest\n",
        "    year + 1  # year = year + 1\n",
        "    print(f\"year:{year}, balance:{round(balance)}\")\n",
        "print(f\"{seed}원이 {target}이 되는데 {year}년이 걸립니다\")\n",
        "\n"
      ],
      "metadata": {
        "colab": {
          "base_uri": "https://localhost:8080/"
        },
        "id": "Nj3E4T6JNnX4",
        "outputId": "5fa857f5-0b0d-4e8d-e070-c211e2cebdfb"
      },
      "execution_count": 8,
      "outputs": [
        {
          "output_type": "stream",
          "name": "stdout",
          "text": [
            "year:0, balance:1070\n",
            "year:0, balance:1145\n",
            "year:0, balance:1225\n",
            "year:0, balance:1311\n",
            "year:0, balance:1403\n",
            "year:0, balance:1501\n",
            "year:0, balance:1606\n",
            "year:0, balance:1718\n",
            "year:0, balance:1838\n",
            "year:0, balance:1967\n",
            "year:0, balance:2105\n",
            "1000원이 2000이 되는데 0년이 걸립니다\n"
          ]
        }
      ]
    },
    {
      "cell_type": "markdown",
      "source": [
        "### [실습문제] 1~N까지 3의 배수 합계 구하기"
      ],
      "metadata": {
        "id": "BLxikcqSKQsR"
      }
    },
    {
      "cell_type": "code",
      "source": [
        "# 리스트 컨프리핸션으로 구하기\n",
        "result = [ i for i in range(1,1001)  if i%3==0]\n",
        "print(result)\n",
        "result = sum([i for i in range(1, 1001) if i%3==0])\n",
        "print(result)\n",
        "print(f'{result:,}')"
      ],
      "metadata": {
        "colab": {
          "base_uri": "https://localhost:8080/"
        },
        "id": "Xhjk2GOLKWgK",
        "outputId": "4c5f8805-6698-4481-e722-49572476f5af"
      },
      "execution_count": 15,
      "outputs": [
        {
          "output_type": "stream",
          "name": "stdout",
          "text": [
            "[3, 6, 9, 12, 15, 18, 21, 24, 27, 30, 33, 36, 39, 42, 45, 48, 51, 54, 57, 60, 63, 66, 69, 72, 75, 78, 81, 84, 87, 90, 93, 96, 99, 102, 105, 108, 111, 114, 117, 120, 123, 126, 129, 132, 135, 138, 141, 144, 147, 150, 153, 156, 159, 162, 165, 168, 171, 174, 177, 180, 183, 186, 189, 192, 195, 198, 201, 204, 207, 210, 213, 216, 219, 222, 225, 228, 231, 234, 237, 240, 243, 246, 249, 252, 255, 258, 261, 264, 267, 270, 273, 276, 279, 282, 285, 288, 291, 294, 297, 300, 303, 306, 309, 312, 315, 318, 321, 324, 327, 330, 333, 336, 339, 342, 345, 348, 351, 354, 357, 360, 363, 366, 369, 372, 375, 378, 381, 384, 387, 390, 393, 396, 399, 402, 405, 408, 411, 414, 417, 420, 423, 426, 429, 432, 435, 438, 441, 444, 447, 450, 453, 456, 459, 462, 465, 468, 471, 474, 477, 480, 483, 486, 489, 492, 495, 498, 501, 504, 507, 510, 513, 516, 519, 522, 525, 528, 531, 534, 537, 540, 543, 546, 549, 552, 555, 558, 561, 564, 567, 570, 573, 576, 579, 582, 585, 588, 591, 594, 597, 600, 603, 606, 609, 612, 615, 618, 621, 624, 627, 630, 633, 636, 639, 642, 645, 648, 651, 654, 657, 660, 663, 666, 669, 672, 675, 678, 681, 684, 687, 690, 693, 696, 699, 702, 705, 708, 711, 714, 717, 720, 723, 726, 729, 732, 735, 738, 741, 744, 747, 750, 753, 756, 759, 762, 765, 768, 771, 774, 777, 780, 783, 786, 789, 792, 795, 798, 801, 804, 807, 810, 813, 816, 819, 822, 825, 828, 831, 834, 837, 840, 843, 846, 849, 852, 855, 858, 861, 864, 867, 870, 873, 876, 879, 882, 885, 888, 891, 894, 897, 900, 903, 906, 909, 912, 915, 918, 921, 924, 927, 930, 933, 936, 939, 942, 945, 948, 951, 954, 957, 960, 963, 966, 969, 972, 975, 978, 981, 984, 987, 990, 993, 996, 999]\n",
            "166833\n",
            "166,833\n"
          ]
        }
      ]
    },
    {
      "cell_type": "markdown",
      "source": [
        "### [ 실습문제] 숫자 입력 받아 별 출력하기"
      ],
      "metadata": {
        "id": "YGNwr7qtR6-H"
      }
    },
    {
      "cell_type": "code",
      "source": [
        "star = '★'\n",
        "numbers = input('숫자 입력 여러 개 입력(0~9): ')\n",
        "for number in numbers:\n",
        "        for _ in range(int(number)):\n",
        "            print(star, end='')\n",
        "        print()\n",
        "\n"
      ],
      "metadata": {
        "colab": {
          "base_uri": "https://localhost:8080/"
        },
        "id": "OLz54sNwQWII",
        "outputId": "bd4ec3f3-7067-4b3a-c401-8cf9688a14c0"
      },
      "execution_count": 18,
      "outputs": [
        {
          "output_type": "stream",
          "name": "stdout",
          "text": [
            "숫자 입력 여러 개 입력(0~9): 23\n",
            "★★\n",
            "★★★\n"
          ]
        }
      ]
    },
    {
      "cell_type": "code",
      "source": [],
      "metadata": {
        "id": "FBXl5fSqS1nX"
      },
      "execution_count": null,
      "outputs": []
    },
    {
      "cell_type": "markdown",
      "source": [
        "### [실습문제} 공이 튀긴 횟수 구하기"
      ],
      "metadata": {
        "id": "xV_M0WzPVGVe"
      }
    },
    {
      "cell_type": "code",
      "source": [
        "length = int(input('공의 높이를 입력하세요(meter) : '))\n",
        "meter, cnt = length, 0\n",
        "while True:\n",
        "    meter /= 2\n",
        "    cnt += 1\n",
        "    if meter < 0.00001:\n",
        "       break\n",
        "print('-'* 50)\n",
        "\n",
        "print(f'{length} 위치에서 공의 튕긴 횟수는 총{cnt}번 입니다.')"
      ],
      "metadata": {
        "colab": {
          "base_uri": "https://localhost:8080/"
        },
        "id": "sdN7gQ4MVJM_",
        "outputId": "c87c5fb7-ba35-4f48-fb48-1817251f96e9"
      },
      "execution_count": 25,
      "outputs": [
        {
          "output_type": "stream",
          "name": "stdout",
          "text": [
            "공의 높이를 입력하세요(meter) : 30\n",
            "--------------------------------------------------\n",
            "30 위치에서 공의 튕긴 횟수는 총22번 입니다.\n"
          ]
        }
      ]
    },
    {
      "cell_type": "markdown",
      "source": [
        "##[실습문제] 호텔 관리 프로그램"
      ],
      "metadata": {
        "id": "XvqAlqzZnO3-"
      }
    },
    {
      "cell_type": "code",
      "source": [
        "print('호텔관리 시스템입니다.')\n",
        "menu = '''\n",
        "1. 체크인\n",
        "2. 체크아웃\n",
        "3. 입실현황\n",
        "0. 종료'''\n",
        "number = int(input('호텔 방의 개수는(입력): '))\n",
        "hotel = [0 for _ in range(number)]\n",
        "print(f\"방 현황: {hotel} (0:빈방, 1:입실중)\")\n",
        "while True:\n",
        "    print('-------------------')\n",
        "    print(menu)\n",
        "    select = input('-->메뉴 선택: ')\n",
        "    if select == '0':\n",
        "        break\n",
        "\n",
        "    if select == '1': # 체크인\n",
        "        num = int(input(f'체크-in하실 방 호수(1~{len(hotel)}): '))\n",
        "        if hotel[num-1]:   # 이미 입실 중일 때\n",
        "            print(f\"{num}번 방은 이미 입실 중입니다.\")\n",
        "        else:\n",
        "            hotel[num-1] = 1\n",
        "        continue\n",
        "\n",
        "    if select == '2': # 체크아웃\n",
        "        num = int(input(f'체크-out하실 방 호수(1~{len(hotel)}): '))\n",
        "        if hotel[num-1]: # 체크아웃 처리\n",
        "            hotel[num-1] = 0    # 빈 방 상태로 만듦\n",
        "        else:\n",
        "            print(f'{hotel[num]}번 방은 빈 방입니다. 빈 방은 체크-out하실 수 없습니다.')\n",
        "\n",
        "    if select == '3': # 현황보기\n",
        "        for idx, room in enumerate(hotel): #[0, 0, 0]\n",
        "            if room == 0:\n",
        "                print(f\"{idx+1}호: 빈방\")\n",
        "            elif room == 1:\n",
        "                print(f\"{idx+1}호: 입실중\")\n",
        "\n",
        "\n",
        "print('-------------------')\n",
        "print('프로그램 종료!')\n",
        "\n",
        "\n",
        "\n",
        "\n",
        "\n",
        "\n",
        "\n",
        "\n",
        "\n"
      ],
      "metadata": {
        "colab": {
          "base_uri": "https://localhost:8080/"
        },
        "id": "Ik4zoaw5fcSF",
        "outputId": "a0c2908c-7d52-45c1-fc35-e2a5b4a0296c"
      },
      "execution_count": 35,
      "outputs": [
        {
          "output_type": "stream",
          "name": "stdout",
          "text": [
            "호텔관리 시스템입니다.\n",
            "호텔 방의 개수는(입력): 2\n",
            "방 현황: [0, 0] (0:빈방, 1:입실중)\n",
            "-------------------\n",
            "\n",
            "1. 체크인\n",
            "2. 체크아웃\n",
            "3. 입실현황\n",
            "0. 종료\n",
            "-->메뉴 선택: 1\n",
            "체크-in하실 방 호수(1~2): 2\n",
            "-------------------\n",
            "\n",
            "1. 체크인\n",
            "2. 체크아웃\n",
            "3. 입실현황\n",
            "0. 종료\n",
            "-->메뉴 선택: 3\n",
            "1호: 빈방\n",
            "2호: 입실중\n",
            "-------------------\n",
            "\n",
            "1. 체크인\n",
            "2. 체크아웃\n",
            "3. 입실현황\n",
            "0. 종료\n",
            "-->메뉴 선택: 0\n",
            "-------------------\n",
            "프로그램 종료!\n"
          ]
        }
      ]
    },
    {
      "cell_type": "code",
      "source": [],
      "metadata": {
        "id": "Gc9zWBNQna8S"
      },
      "execution_count": null,
      "outputs": []
    },
    {
      "cell_type": "markdown",
      "source": [
        "## [실습문제] 주사위 숫자 별 빈도수"
      ],
      "metadata": {
        "id": "o4hX0HxHqRTW"
      }
    },
    {
      "cell_type": "code",
      "source": [
        "import random\n",
        "\n",
        "dice = [0, 0, 0, 0, 0, 0]\n",
        "\n",
        "for _ in range(100):\n",
        "  x = random.randint(1, 6)\n",
        "  dice[x-1] += 1\n",
        "\n",
        "print(f\"숫자별 개수 : {dice}\")\n",
        "\n",
        "maxValue = max(dice)\n",
        "max_duce = [idx+1 for idx, v in enumerate(dice)  if v==maxValue]\n",
        "\n",
        "\n",
        "# max_dice = []\n",
        "# for idx, v in enumerate(dice):\n",
        "#     if v==maxValue:\n",
        "#         max_dice.append(idx+1)\n",
        "\n",
        "print(f\"가장많이 나온 숫자: [{dice.index(max(dice))+1}], 횟수: {max(dice)}\")"
      ],
      "metadata": {
        "colab": {
          "base_uri": "https://localhost:8080/"
        },
        "id": "IhlmCJB_qUqd",
        "outputId": "cc4cab7d-a7c8-41c3-d76f-6c81dcdb34e7"
      },
      "execution_count": 47,
      "outputs": [
        {
          "output_type": "stream",
          "name": "stdout",
          "text": [
            "숫자별 개수 : [19, 16, 14, 21, 20, 10]\n",
            "가장많이 나온 숫자: [4], 횟수: 21\n"
          ]
        }
      ]
    },
    {
      "cell_type": "code",
      "source": [],
      "metadata": {
        "id": "MYnB6a1jsVyA"
      },
      "execution_count": null,
      "outputs": []
    }
  ]
}