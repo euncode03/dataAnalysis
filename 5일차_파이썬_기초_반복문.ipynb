{
  "nbformat": 4,
  "nbformat_minor": 0,
  "metadata": {
    "colab": {
      "provenance": [],
      "authorship_tag": "ABX9TyOYOptQbuO3CJgwMsRk8hAw",
      "include_colab_link": true
    },
    "kernelspec": {
      "name": "python3",
      "display_name": "Python 3"
    },
    "language_info": {
      "name": "python"
    }
  },
  "cells": [
    {
      "cell_type": "markdown",
      "metadata": {
        "id": "view-in-github",
        "colab_type": "text"
      },
      "source": [
        "<a href=\"https://colab.research.google.com/github/euncode03/dataAnalysis/blob/main/5%EC%9D%BC%EC%B0%A8_%ED%8C%8C%EC%9D%B4%EC%8D%AC_%EA%B8%B0%EC%B4%88_%EB%B0%98%EB%B3%B5%EB%AC%B8.ipynb\" target=\"_parent\"><img src=\"https://colab.research.google.com/assets/colab-badge.svg\" alt=\"Open In Colab\"/></a>"
      ]
    },
    {
      "cell_type": "code",
      "execution_count": null,
      "metadata": {
        "id": "cTW-L24RmwKX"
      },
      "outputs": [],
      "source": []
    },
    {
      "cell_type": "markdown",
      "source": [],
      "metadata": {
        "id": "w-KdKhfQ2J1P"
      }
    },
    {
      "cell_type": "markdown",
      "source": [
        "# 5. 반복문"
      ],
      "metadata": {
        "id": "t6aBCCORoHwC"
      }
    },
    {
      "cell_type": "markdown",
      "source": [
        "# 5-1 for 반복문\n",
        "유한개수의 반복"
      ],
      "metadata": {
        "id": "M4LLUEYEoNP4"
      }
    },
    {
      "cell_type": "markdown",
      "source": [
        "## 1. 다양한 반복문"
      ],
      "metadata": {
        "id": "ZSPl8rwynZ3h"
      }
    },
    {
      "cell_type": "markdown",
      "source": [],
      "metadata": {
        "id": "fmJF-e0GnZex"
      }
    },
    {
      "cell_type": "code",
      "source": [
        "# 1. range() 함수 이용: 정수를 차례로 발생시키는 함수\n",
        "for 변수 in range(0,3,1):\n",
        "for 변수 in range(3):\n",
        "    print(변수)"
      ],
      "metadata": {
        "colab": {
          "base_uri": "https://localhost:8080/"
        },
        "id": "QJWPpLaOndus",
        "outputId": "c8cc479a-3256-47b5-fdd9-b5ad06a0a3ea"
      },
      "execution_count": null,
      "outputs": [
        {
          "output_type": "stream",
          "name": "stdout",
          "text": [
            "0\n",
            "1\n",
            "2\n"
          ]
        }
      ]
    },
    {
      "cell_type": "code",
      "source": [
        "# 2. 리스트 이용\n",
        "a = list(range(10,0,-1))\n",
        "a = list(range(1,11))\n",
        "for i in a:\n",
        "    print(i)\n",
        "\n",
        "for i in a:\n",
        "    print(i, end=',')"
      ],
      "metadata": {
        "colab": {
          "base_uri": "https://localhost:8080/"
        },
        "id": "jQIjU8gAnm1r",
        "outputId": "71470541-5fee-47a6-8daa-9c1e7a253c10"
      },
      "execution_count": null,
      "outputs": [
        {
          "output_type": "stream",
          "name": "stdout",
          "text": [
            "1\n",
            "2\n",
            "3\n",
            "4\n",
            "5\n",
            "6\n",
            "7\n",
            "8\n",
            "9\n",
            "10\n",
            "1,2,3,4,5,6,7,8,9,10,"
          ]
        }
      ]
    },
    {
      "cell_type": "code",
      "source": [
        "# 한 줄로 표현하는 방법\n",
        "for i in range(1,101):\n",
        "    print(i, end=',')\n"
      ],
      "metadata": {
        "colab": {
          "base_uri": "https://localhost:8080/"
        },
        "id": "rKPQt4ozoa9I",
        "outputId": "2dd6bba4-cb34-4453-d2c2-95cf671ad449"
      },
      "execution_count": null,
      "outputs": [
        {
          "output_type": "stream",
          "name": "stdout",
          "text": [
            "1,2,3,4,5,6,7,8,9,"
          ]
        }
      ]
    },
    {
      "cell_type": "code",
      "source": [
        "# 3. 문자열 이용\n",
        "for i in 'python':\n",
        "    print(i)"
      ],
      "metadata": {
        "colab": {
          "base_uri": "https://localhost:8080/"
        },
        "id": "icBoPuYWpy8p",
        "outputId": "a4e7dbf0-02c1-4c66-b918-c2e79326e795"
      },
      "execution_count": null,
      "outputs": [
        {
          "output_type": "stream",
          "name": "stdout",
          "text": [
            "p\n",
            "y\n",
            "t\n",
            "h\n",
            "o\n",
            "n\n"
          ]
        }
      ]
    },
    {
      "cell_type": "code",
      "source": [
        "# 4. 변수 사용 안하고 반복만 할 때\n",
        "for _ in range(3):\n",
        "    print('좋은 아침!')"
      ],
      "metadata": {
        "colab": {
          "base_uri": "https://localhost:8080/"
        },
        "id": "8Pwkix6qqUXh",
        "outputId": "2f6e8c3a-9009-4eba-fb54-60e1d0f03f1b"
      },
      "execution_count": null,
      "outputs": [
        {
          "output_type": "stream",
          "name": "stdout",
          "text": [
            "좋은 아침!\n",
            "좋은 아침!\n",
            "좋은 아침!\n"
          ]
        }
      ]
    },
    {
      "cell_type": "code",
      "source": [
        "# 5. 리스트와 같은 순서가 있는 자료형의 인덱스를 함께 사용\n",
        "fruits = ['사과','포도', '딸기', '키위']\n",
        "for idx, fruit in enumerate(fruits):fruit\n",
        "print (idx, fruit)"
      ],
      "metadata": {
        "colab": {
          "base_uri": "https://localhost:8080/",
          "height": 110
        },
        "id": "UhusemLUqojp",
        "outputId": "310ff43d-c94a-4c01-c38a-1f7ca50ef4da"
      },
      "execution_count": null,
      "outputs": [
        {
          "output_type": "error",
          "ename": "SyntaxError",
          "evalue": "unmatched ')' (<ipython-input-15-37c26d4fb11f>, line 3)",
          "traceback": [
            "\u001b[0;36m  File \u001b[0;32m\"<ipython-input-15-37c26d4fb11f>\"\u001b[0;36m, line \u001b[0;32m3\u001b[0m\n\u001b[0;31m    for idx, fruit in enumerate(fruits):fruit)\u001b[0m\n\u001b[0m                                             ^\u001b[0m\n\u001b[0;31mSyntaxError\u001b[0m\u001b[0;31m:\u001b[0m unmatched ')'\n"
          ]
        }
      ]
    },
    {
      "cell_type": "code",
      "source": [
        "# 6. 컬렉션 자료형 특징 이용\n",
        "# _리스트\n",
        "for a, b in [(1,2), (3,4), (5,6)]:\n",
        "    print(a,b)\n",
        "# 딕셔너리\n",
        "dic = {1: '사과', 2:'포도'}\n",
        "for key in dic:\n",
        "    print(key, dic[key])\n",
        "\n",
        "print('-'*30)\n",
        "for key, value in dic.items():\n",
        "    print(key, value)\n",
        "\n",
        "print('-'*30)\n",
        "#집합\n",
        "\n",
        "for v in {1,2,3,3,4,5,3}:\n",
        "    print(v)\n"
      ],
      "metadata": {
        "id": "6mbyDWlhrhOp",
        "colab": {
          "base_uri": "https://localhost:8080/"
        },
        "outputId": "27a7b219-da97-4ef7-c0f8-e92106a0a9ad"
      },
      "execution_count": null,
      "outputs": [
        {
          "output_type": "stream",
          "name": "stdout",
          "text": [
            "1 2\n",
            "3 4\n",
            "5 6\n",
            "1 사과\n",
            "2 포도\n",
            "------------------------------\n",
            "1 사과\n",
            "2 포도\n",
            "------------------------------\n",
            "1\n",
            "2\n",
            "3\n",
            "4\n",
            "5\n"
          ]
        }
      ]
    },
    {
      "cell_type": "code",
      "source": [],
      "metadata": {
        "id": "Y4dMDPmcsres"
      },
      "execution_count": null,
      "outputs": []
    },
    {
      "cell_type": "markdown",
      "source": [
        "## [실습문제] 1~N까지 짝수 제외하고 총합 구하기"
      ],
      "metadata": {
        "id": "H_MtmemLudb5"
      }
    },
    {
      "cell_type": "code",
      "source": [
        "n = int(input('합계를 구할 숫자: '))\n",
        "hap = 0\n",
        "\n",
        "for i in range(1, n+1):\n",
        "    if i %2 != 0:\n",
        "        hap = hap + i\n",
        "print(f\"i~[n]까지 짝수 제외한 합은: {hap}\")"
      ],
      "metadata": {
        "colab": {
          "base_uri": "https://localhost:8080/"
        },
        "id": "DOlHAWi4ulfK",
        "outputId": "70cb33cc-6bdc-4f0f-d3ce-c4565edc50ea"
      },
      "execution_count": null,
      "outputs": [
        {
          "output_type": "stream",
          "name": "stdout",
          "text": [
            "합계를 구할 숫자: 100\n",
            "i~[n]까지 짝수 제외한 합은: 2500\n"
          ]
        }
      ]
    },
    {
      "cell_type": "code",
      "source": [
        "n = int(input('합계를 구할 숫자: '))\n",
        "hap = sum ([i for i in range(1, n+1, 2)])\n",
        "hap\n",
        "\n",
        "# print(f\"i~[n]까지 짝수 제외한 합은: {hap}\")"
      ],
      "metadata": {
        "colab": {
          "base_uri": "https://localhost:8080/"
        },
        "id": "ilfPiP-rvFc4",
        "outputId": "82370977-c3a5-4d82-e386-cd8a21cf998e"
      },
      "execution_count": null,
      "outputs": [
        {
          "name": "stdout",
          "output_type": "stream",
          "text": [
            "합계를 구할 숫자: 100\n"
          ]
        },
        {
          "output_type": "execute_result",
          "data": {
            "text/plain": [
              "2500"
            ]
          },
          "metadata": {},
          "execution_count": 27
        }
      ]
    },
    {
      "cell_type": "code",
      "source": [],
      "metadata": {
        "id": "6TzPFfpjw1nm"
      },
      "execution_count": null,
      "outputs": []
    },
    {
      "cell_type": "markdown",
      "source": [
        "### [실습문제] 정오각형 그리기\n",
        "- turtle 모듈은 코랩에서 사용할 수 없음.\n",
        "- PC에서 사용하기"
      ],
      "metadata": {
        "id": "kuqP2tw_2LAn"
      }
    },
    {
      "cell_type": "code",
      "source": [
        "import turtle\n",
        "\n",
        "t = turtle.Pen()\n",
        "t.forward(100)\n",
        "t.right(72)\n",
        "\n",
        "turtle.excitonic"
      ],
      "metadata": {
        "id": "8NZQ0L5-2OIo"
      },
      "execution_count": null,
      "outputs": []
    },
    {
      "cell_type": "code",
      "source": [],
      "metadata": {
        "id": "IWIzRjYR8IdH"
      },
      "execution_count": null,
      "outputs": []
    },
    {
      "cell_type": "markdown",
      "source": [
        "### [실습문제]  1~100숫자를 1줄로 출력하기"
      ],
      "metadata": {
        "id": "TGwd4rCG8Xy2"
      }
    },
    {
      "cell_type": "code",
      "source": [
        "for i in range(1,101):\n",
        "    print(i, end= ' ')\n",
        ""
      ],
      "metadata": {
        "colab": {
          "base_uri": "https://localhost:8080/"
        },
        "id": "wAlkOFC38eIQ",
        "outputId": "d350442c-7554-4d4c-a1d6-286a4f81736c"
      },
      "execution_count": 32,
      "outputs": [
        {
          "output_type": "stream",
          "name": "stdout",
          "text": [
            "1 2 3 4 5 6 7 8 9 10 11 12 13 14 15 16 17 18 19 20 21 22 23 24 25 26 27 28 29 30 31 32 33 34 35 36 37 38 39 40 41 42 43 44 45 46 47 48 49 50 51 52 53 54 55 56 57 58 59 60 61 62 63 64 65 66 67 68 69 70 71 72 73 74 75 76 77 78 79 80 81 82 83 84 85 86 87 88 89 90 91 92 93 94 95 96 97 98 99 100 "
          ]
        }
      ]
    },
    {
      "cell_type": "code",
      "source": [
        "1 for i in range(1,101) : print(i,end= ' ')   # 간략히 이렇게 해도 됨"
      ],
      "metadata": {
        "colab": {
          "base_uri": "https://localhost:8080/",
          "height": 110
        },
        "id": "OX6zahK89h5V",
        "outputId": "2ee4e08d-4f3b-4e96-94dc-b4ada6003578"
      },
      "execution_count": 38,
      "outputs": [
        {
          "output_type": "error",
          "ename": "SyntaxError",
          "evalue": "invalid syntax (<ipython-input-38-548a62801d7b>, line 1)",
          "traceback": [
            "\u001b[0;36m  File \u001b[0;32m\"<ipython-input-38-548a62801d7b>\"\u001b[0;36m, line \u001b[0;32m1\u001b[0m\n\u001b[0;31m    1 for i in range(1,101) : print(i,end= ' ')   # 간략히 이렇게 해도 됨\u001b[0m\n\u001b[0m      ^\u001b[0m\n\u001b[0;31mSyntaxError\u001b[0m\u001b[0;31m:\u001b[0m invalid syntax\n"
          ]
        }
      ]
    },
    {
      "cell_type": "code",
      "source": [
        "print(' '.join([str(i) for i in range(1,101)]))    # join은 문자열에서만 가능"
      ],
      "metadata": {
        "colab": {
          "base_uri": "https://localhost:8080/"
        },
        "id": "l_NAiaP18tE2",
        "outputId": "3e2a1fd3-9fa9-4630-e834-3b29288dd9bb"
      },
      "execution_count": 37,
      "outputs": [
        {
          "output_type": "stream",
          "name": "stdout",
          "text": [
            "1 2 3 4 5 6 7 8 9 10 11 12 13 14 15 16 17 18 19 20 21 22 23 24 25 26 27 28 29 30 31 32 33 34 35 36 37 38 39 40 41 42 43 44 45 46 47 48 49 50 51 52 53 54 55 56 57 58 59 60 61 62 63 64 65 66 67 68 69 70 71 72 73 74 75 76 77 78 79 80 81 82 83 84 85 86 87 88 89 90 91 92 93 94 95 96 97 98 99 100\n"
          ]
        }
      ]
    },
    {
      "cell_type": "code",
      "source": [],
      "metadata": {
        "id": "KfJZ059y9gve"
      },
      "execution_count": null,
      "outputs": []
    },
    {
      "cell_type": "code",
      "source": [],
      "metadata": {
        "id": "3XZ_C1eG9Sqm"
      },
      "execution_count": null,
      "outputs": []
    }
  ]
}