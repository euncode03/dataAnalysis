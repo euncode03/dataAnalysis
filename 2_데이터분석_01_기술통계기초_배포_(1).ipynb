{
  "cells": [
    {
      "cell_type": "markdown",
      "metadata": {
        "id": "view-in-github",
        "colab_type": "text"
      },
      "source": [
        "<a href=\"https://colab.research.google.com/github/euncode03/dataAnalysis/blob/main/2_%EB%8D%B0%EC%9D%B4%ED%84%B0%EB%B6%84%EC%84%9D_01_%EA%B8%B0%EC%88%A0%ED%86%B5%EA%B3%84%EA%B8%B0%EC%B4%88_%EB%B0%B0%ED%8F%AC_(1).ipynb\" target=\"_parent\"><img src=\"https://colab.research.google.com/assets/colab-badge.svg\" alt=\"Open In Colab\"/></a>"
      ]
    },
    {
      "cell_type": "markdown",
      "id": "d019c073",
      "metadata": {
        "id": "d019c073"
      },
      "source": [
        "# 데이터 분석\n",
        "\n",
        "## 1. 기술통계기초"
      ]
    },
    {
      "cell_type": "markdown",
      "id": "0c52a67e",
      "metadata": {
        "id": "0c52a67e"
      },
      "source": [
        "----------------------------------"
      ]
    },
    {
      "cell_type": "code",
      "source": [
        "# 코드 실행 후 재시작\n",
        "!sudo apt-get install -y fonts-nanum\n",
        "!sudo fc-cache -fv\n",
        "!rm ~/.cache/matplotlib -rf"
      ],
      "metadata": {
        "colab": {
          "base_uri": "https://localhost:8080/"
        },
        "id": "2CSg5XlSwjVq",
        "outputId": "e49cf288-b415-483d-a6c7-d4a7cee12189"
      },
      "id": "2CSg5XlSwjVq",
      "execution_count": 9,
      "outputs": [
        {
          "output_type": "stream",
          "name": "stdout",
          "text": [
            "Reading package lists... Done\n",
            "Building dependency tree... Done\n",
            "Reading state information... Done\n",
            "The following NEW packages will be installed:\n",
            "  fonts-nanum\n",
            "0 upgraded, 1 newly installed, 0 to remove and 45 not upgraded.\n",
            "Need to get 10.3 MB of archives.\n",
            "After this operation, 34.1 MB of additional disk space will be used.\n",
            "Get:1 http://archive.ubuntu.com/ubuntu jammy/universe amd64 fonts-nanum all 20200506-1 [10.3 MB]\n",
            "Fetched 10.3 MB in 2s (6,428 kB/s)\n",
            "debconf: unable to initialize frontend: Dialog\n",
            "debconf: (No usable dialog-like program is installed, so the dialog based frontend cannot be used. at /usr/share/perl5/Debconf/FrontEnd/Dialog.pm line 78, <> line 1.)\n",
            "debconf: falling back to frontend: Readline\n",
            "debconf: unable to initialize frontend: Readline\n",
            "debconf: (This frontend requires a controlling tty.)\n",
            "debconf: falling back to frontend: Teletype\n",
            "dpkg-preconfigure: unable to re-open stdin: \n",
            "Selecting previously unselected package fonts-nanum.\n",
            "(Reading database ... 121752 files and directories currently installed.)\n",
            "Preparing to unpack .../fonts-nanum_20200506-1_all.deb ...\n",
            "Unpacking fonts-nanum (20200506-1) ...\n",
            "Setting up fonts-nanum (20200506-1) ...\n",
            "Processing triggers for fontconfig (2.13.1-4.2ubuntu5) ...\n",
            "/usr/share/fonts: caching, new cache contents: 0 fonts, 1 dirs\n",
            "/usr/share/fonts/truetype: caching, new cache contents: 0 fonts, 3 dirs\n",
            "/usr/share/fonts/truetype/humor-sans: caching, new cache contents: 1 fonts, 0 dirs\n",
            "/usr/share/fonts/truetype/liberation: caching, new cache contents: 16 fonts, 0 dirs\n",
            "/usr/share/fonts/truetype/nanum: caching, new cache contents: 12 fonts, 0 dirs\n",
            "/usr/local/share/fonts: caching, new cache contents: 0 fonts, 0 dirs\n",
            "/root/.local/share/fonts: skipping, no such directory\n",
            "/root/.fonts: skipping, no such directory\n",
            "/usr/share/fonts/truetype: skipping, looped directory detected\n",
            "/usr/share/fonts/truetype/humor-sans: skipping, looped directory detected\n",
            "/usr/share/fonts/truetype/liberation: skipping, looped directory detected\n",
            "/usr/share/fonts/truetype/nanum: skipping, looped directory detected\n",
            "/var/cache/fontconfig: cleaning cache directory\n",
            "/root/.cache/fontconfig: not cleaning non-existent cache directory\n",
            "/root/.fontconfig: not cleaning non-existent cache directory\n",
            "fc-cache: succeeded\n"
          ]
        }
      ]
    },
    {
      "cell_type": "markdown",
      "id": "89e2259e",
      "metadata": {
        "id": "89e2259e"
      },
      "source": [
        "### 라이브러리 설치하기"
      ]
    },
    {
      "cell_type": "code",
      "execution_count": null,
      "id": "7d9a2eb3",
      "metadata": {
        "id": "7d9a2eb3"
      },
      "outputs": [],
      "source": [
        "# SciPy는 과학, 수학, 엔지니어링 등에 사용되는 고급 계산 기능을 제공 라이브러리\n",
        "!pip install scipy"
      ]
    },
    {
      "cell_type": "code",
      "execution_count": null,
      "id": "1a9009d1",
      "metadata": {
        "id": "1a9009d1"
      },
      "outputs": [],
      "source": [
        "# 수치 데이터 분석 라이브러리\n",
        "!pip install numpy"
      ]
    },
    {
      "cell_type": "code",
      "execution_count": null,
      "id": "a63d87de",
      "metadata": {
        "id": "a63d87de"
      },
      "outputs": [],
      "source": [
        "# 데이터를 표 형태로 보여주는 데이터 분석 라이브러리\n",
        "!pip install pandas"
      ]
    },
    {
      "cell_type": "code",
      "execution_count": null,
      "id": "ea109e26",
      "metadata": {
        "id": "ea109e26",
        "scrolled": true
      },
      "outputs": [],
      "source": [
        "# 데이터를 다양한 그래프로 보여주는 시각화 라이브러리\n",
        "!pip install matplotlib"
      ]
    },
    {
      "cell_type": "code",
      "execution_count": null,
      "id": "69b70be7",
      "metadata": {
        "id": "69b70be7"
      },
      "outputs": [],
      "source": [
        "# 통계 그래프 시각화 라이브러리\n",
        "!pip install seaborn"
      ]
    },
    {
      "cell_type": "code",
      "execution_count": null,
      "id": "844a16c7",
      "metadata": {
        "id": "844a16c7"
      },
      "outputs": [],
      "source": [
        "!pip install plotly"
      ]
    },
    {
      "cell_type": "code",
      "execution_count": null,
      "id": "c2fb69b6",
      "metadata": {
        "scrolled": true,
        "id": "c2fb69b6"
      },
      "outputs": [],
      "source": [
        "# 통계 모델 라이브러리\n",
        "!pip install statsmodels"
      ]
    },
    {
      "cell_type": "code",
      "execution_count": null,
      "id": "19ea0f8e",
      "metadata": {
        "id": "19ea0f8e"
      },
      "outputs": [],
      "source": [
        "# 머신러닝 라이브러리(사이킷런)\n",
        "!pip install sklearn"
      ]
    },
    {
      "cell_type": "code",
      "execution_count": null,
      "id": "7e86e68f",
      "metadata": {
        "id": "7e86e68f"
      },
      "outputs": [],
      "source": [
        "# 엑셀 시트 사용을 위한 라이브러리\n",
        "!pip install openpyxl"
      ]
    },
    {
      "cell_type": "markdown",
      "id": "1e01e87e",
      "metadata": {
        "id": "1e01e87e"
      },
      "source": [
        "----------"
      ]
    },
    {
      "cell_type": "markdown",
      "id": "1ab82cff",
      "metadata": {
        "id": "1ab82cff"
      },
      "source": [
        "### 라이브러리 설치 확인하기\n",
        "아래 코드를 실행한 후 오류 메시지가 없으면 성공적으로 설치된 것입니다."
      ]
    },
    {
      "cell_type": "code",
      "execution_count": 7,
      "id": "06fd45bd",
      "metadata": {
        "colab": {
          "base_uri": "https://localhost:8080/",
          "height": 35
        },
        "id": "06fd45bd",
        "outputId": "b40514ac-7a8c-4aa7-af0d-ccdc845019b7"
      },
      "outputs": [
        {
          "output_type": "execute_result",
          "data": {
            "text/plain": [
              "'1.11.4'"
            ],
            "application/vnd.google.colaboratory.intrinsic+json": {
              "type": "string"
            }
          },
          "metadata": {},
          "execution_count": 7
        }
      ],
      "source": [
        "import scipy as sp\n",
        "sp.__version__"
      ]
    },
    {
      "cell_type": "code",
      "execution_count": 3,
      "id": "6786b404",
      "metadata": {
        "colab": {
          "base_uri": "https://localhost:8080/",
          "height": 35
        },
        "id": "6786b404",
        "outputId": "03a1e843-da99-4249-da86-84b0acc7862f",
        "scrolled": true
      },
      "outputs": [
        {
          "output_type": "execute_result",
          "data": {
            "text/plain": [
              "'1.25.2'"
            ],
            "application/vnd.google.colaboratory.intrinsic+json": {
              "type": "string"
            }
          },
          "metadata": {},
          "execution_count": 3
        }
      ],
      "source": [
        "import numpy as np\n",
        "np.__version__"
      ]
    },
    {
      "cell_type": "code",
      "execution_count": 4,
      "id": "59557988",
      "metadata": {
        "colab": {
          "base_uri": "https://localhost:8080/",
          "height": 35
        },
        "id": "59557988",
        "outputId": "ddd121fd-aef7-4cb8-c271-bc34f7942a2f"
      },
      "outputs": [
        {
          "output_type": "execute_result",
          "data": {
            "text/plain": [
              "'2.0.3'"
            ],
            "application/vnd.google.colaboratory.intrinsic+json": {
              "type": "string"
            }
          },
          "metadata": {},
          "execution_count": 4
        }
      ],
      "source": [
        "import pandas  as pd\n",
        "pd.__version__"
      ]
    },
    {
      "cell_type": "code",
      "execution_count": null,
      "id": "e4d9be5b",
      "metadata": {
        "id": "e4d9be5b"
      },
      "outputs": [],
      "source": [
        "import matplotlib as plt\n",
        "plt.__version__"
      ]
    },
    {
      "cell_type": "code",
      "execution_count": null,
      "id": "6cd4f004",
      "metadata": {
        "id": "6cd4f004"
      },
      "outputs": [],
      "source": [
        "import seaborn as sns\n",
        "sns.__version__"
      ]
    },
    {
      "cell_type": "code",
      "execution_count": null,
      "id": "afd0a7cb",
      "metadata": {
        "id": "afd0a7cb"
      },
      "outputs": [],
      "source": [
        "import plotly\n",
        "plotly.__version__"
      ]
    },
    {
      "cell_type": "markdown",
      "id": "3dae5378",
      "metadata": {
        "id": "3dae5378"
      },
      "source": [
        "---------------------------------------------"
      ]
    },
    {
      "cell_type": "markdown",
      "id": "1faaf002",
      "metadata": {
        "id": "1faaf002"
      },
      "source": [
        "### [실습] Scipy 라이브러리로 이항분포 구현하기"
      ]
    },
    {
      "cell_type": "code",
      "execution_count": 5,
      "id": "2ec3a08f",
      "metadata": {
        "colab": {
          "base_uri": "https://localhost:8080/"
        },
        "id": "2ec3a08f",
        "outputId": "9c7e100d-2f92-4a93-a331-a30f7892c396"
      },
      "outputs": [
        {
          "output_type": "stream",
          "name": "stdout",
          "text": [
            "(array([ 0,  1,  2,  3,  4,  5,  6,  7,  8,  9, 10]), <function Bin.<locals>.f at 0x7943acedc820>)\n"
          ]
        }
      ],
      "source": [
        "#scipy패키지의 special모듈에 있는 comb함수 사용\n",
        "import numpy as np\n",
        "from scipy.special import comb\n",
        "\n",
        "def Bin(n, p):\n",
        "    x_set = np.arange(n+1)\n",
        "\n",
        "    def f(x):\n",
        "        if x in x_set:\n",
        "            return comb(n,x) * p**x * (1-p)**(n-x)\n",
        "        else:\n",
        "            return 0\n",
        "\n",
        "    return x_set, f\n",
        "\n",
        "n, p = 10, 5/4\n",
        "X = Bin(n, p)\n",
        "print(X)"
      ]
    },
    {
      "cell_type": "code",
      "execution_count": 2,
      "id": "e7e3b05a",
      "metadata": {
        "scrolled": true,
        "colab": {
          "base_uri": "https://localhost:8080/",
          "height": 332
        },
        "id": "e7e3b05a",
        "outputId": "40cde4f1-3ba7-44a6-b1e9-34a026a7e4fd"
      },
      "outputs": [
        {
          "output_type": "display_data",
          "data": {
            "text/plain": [
              "<Figure size 500x300 with 1 Axes>"
            ],
            "image/png": "[encoded data removed]"
          },
          "metadata": {}
        }
      ],
      "source": [
        "import numpy as np\n",
        "import scipy as sp\n",
        "import scipy.stats\n",
        "import matplotlib.pyplot as plt\n",
        "\n",
        "plt.rcParams['figure.figsize'] = (5,3)\n",
        "plt.rcParams['font.family'] = 'Malgun Gothic'  # '맑은 고딕'으로 설정\n",
        "plt.rcParams['font.family'] =  'NanumBarunGothic' # 코랩에서 설치한 한국폰트\n",
        "plt.rcParams['axes.unicode_minus'] = False     # 그래프에서 (-)숫자표시\n",
        "\n",
        "n = 5\n",
        "mu = 0.25\n",
        "rv = sp.stats.binom(n, mu)\n",
        "\n",
        "xx = np.arange(n)\n",
        "plt.bar(xx, rv.pmf(xx), align='center')\n",
        "plt.xlabel('표본값')\n",
        "plt.ylabel('$P(x)$')\n",
        "plt.title('이항분포의 확률질량함수')\n",
        "plt.grid()\n",
        "plt.show()"
      ]
    },
    {
      "cell_type": "markdown",
      "id": "abfe31f9",
      "metadata": {
        "id": "abfe31f9"
      },
      "source": [
        "### [실습] Scipy 라이브러리로 다항분포 구현하기"
      ]
    },
    {
      "cell_type": "code",
      "execution_count": null,
      "id": "ee66de7b",
      "metadata": {
        "scrolled": true,
        "id": "ee66de7b"
      },
      "outputs": [],
      "source": [
        "# 주사위를 N번 던져 각 면이 나오는 횟수 집합의 분포\n",
        "N = 100\n",
        "mu = [1/6, 1/6, 1/6, 1/6, 1/6, 1/6]\n",
        "rv = sp.stats.multinomial(N, mu) # 다항분포\n",
        "\n",
        "np.random.seed(10)\n",
        "X = rv.rvs(100)\n",
        "print(X[:6])  # 6개만 보여주기\n",
        "\n",
        "plt.boxplot(X)\n",
        "plt.xlabel('클래스')\n",
        "plt.ylabel('표본값')\n",
        "plt.title('다항분포의 시뮬레이션 결과')\n",
        "plt.grid()\n",
        "plt.show()"
      ]
    },
    {
      "cell_type": "markdown",
      "id": "46ee9996",
      "metadata": {
        "id": "46ee9996"
      },
      "source": [
        "### [실습] 이항분포 N(표본)을 늘리면 정규분포화 된다."
      ]
    },
    {
      "cell_type": "code",
      "execution_count": null,
      "id": "bb88b516",
      "metadata": {
        "scrolled": true,
        "id": "bb88b516"
      },
      "outputs": [],
      "source": [
        "import numpy as np\n",
        "import matplotlib.pyplot as plt\n",
        "from scipy import stats, integrate\n",
        "\n",
        "# 기대값:평균\n",
        "def E(X, g=lambda x:x):\n",
        "    x_range, f = X\n",
        "\n",
        "    def integrand(x):\n",
        "        return g(x) * f(x)\n",
        "\n",
        "    return integrate.quad(integrand, -np.inf, np.inf)[0]\n",
        "\n",
        "# 확률\n",
        "def get_prob(X, a, b):\n",
        "    x_range, f = X\n",
        "\n",
        "    prob_sum = np.round(integrate.quad(f, a, b), 4)\n",
        "\n",
        "    print(f'확률: {prob_sum[0]}')\n",
        "\n",
        "\n",
        "def plot_prob_bi(X):\n",
        "    x_set, f = X\n",
        "    prob = np.array([ f(x_k) for x_k in x_set])\n",
        "\n",
        "    fig = plt.figure(figsize=(10,6))\n",
        "    ax  = fig.add_subplot(111) # (1,1,1)\n",
        "\n",
        "    ax.bar(x_set, prob, label='prob')\n",
        "    ax.set_xticks(np.append(x_set, E(X)))   #x축의 값 출력\n",
        "    ax.set_ylim(0, prob.max()*1.2)          #y축의 한계 지정\n",
        "    ax.legend()\n",
        "\n",
        "    plt.show()\n",
        "\n",
        "n = 100    # n의 개수를 크게 해보기 --> 그래프가 종모양으로 변경됨\n",
        "p = 0.25   # 0.3, 0.5, 0.7 변경해보기\n",
        "X = Bin(n,p)   # 이항분포에서  n의 개수를 늘리면?\n",
        "plot_prob_bi(X)"
      ]
    },
    {
      "cell_type": "markdown",
      "id": "22c92842",
      "metadata": {
        "id": "22c92842"
      },
      "source": [
        "### [실습] Scipy 라이브러리로 정규분포 구현하기"
      ]
    },
    {
      "cell_type": "code",
      "execution_count": null,
      "id": "0e62c132",
      "metadata": {
        "scrolled": true,
        "id": "0e62c132"
      },
      "outputs": [],
      "source": [
        "import scipy as sp\n",
        "import seaborn as sns\n",
        "import matplotlib.pyplot as plt\n",
        "\n",
        "# 워닝 메시지 안나오게 하는 방법\n",
        "import warnings\n",
        "warnings.filterwarnings('ignore')\n",
        "\n",
        "np.random.seed(0)   # 랜덤 초기\n",
        "mu, std = 0, 1      # 평균, 표준편차\n",
        "rv = sp.stats.norm(mu, std)     #  정규분포\n",
        "X = rv.rvs(1000)                #  표본 반영\n",
        "# print(x)\n",
        "\n",
        "sns.distplot(X, rug=True, kde=False, fit=sp.stats.norm)\n",
        "plt.title('랜덤 표본 생성 결과')\n",
        "plt.xlabel('표본값')\n",
        "plt.ylabel('$P(x)$')\n",
        "plt.grid()\n",
        "plt.show()"
      ]
    },
    {
      "cell_type": "markdown",
      "id": "142dba18",
      "metadata": {
        "id": "142dba18"
      },
      "source": [
        "### [실습] 정규분포를 이용한 확률 구하기\n",
        "남자 고등학생 키의 평균이 170cm이고 표준편차가 5cm라면, 우연히 만난 남자 고등학생의 키는 N(170, 5^2)를 따른 다고 할 수 있다. 이 사실을 바탕으로 우연히 만난 남자 고등학생의 키가 165cm이상 175cm 이하일 확률은?"
      ]
    },
    {
      "cell_type": "code",
      "execution_count": null,
      "id": "07687afb",
      "metadata": {
        "id": "07687afb"
      },
      "outputs": [],
      "source": [
        "import numpy as np\n",
        "import matplotlib.pyplot as plt\n",
        "from scipy import stats, integrate\n",
        "\n",
        "# 확률\n",
        "def get_prob(X, a, b):\n",
        "    x_range, f = X\n",
        "\n",
        "    prob_sum = np.round(integrate.quad(f, a, b), 4)\n",
        "\n",
        "    print(f'확률: {prob_sum[0]}')\n",
        "\n",
        "#𝑍 ~ N(0,1) 정규화를 따른 정규분포\n",
        "def N(mu, sigma):\n",
        "    x_range = [-np.inf, np.inf]\n",
        "    def f(x):\n",
        "        return 1 / np.sqrt(2 * np.pi * sigma**2) *\\\n",
        "                    np.exp(-(x-mu)**2 / (2 * sigma**2))\n",
        "    return x_range, f\n",
        "\n",
        "mu, sigma = 170, 5\n",
        "X = N(mu, sigma)\n",
        "\n",
        "a, b = 165, 175\n",
        "get_prob(X, a, b)"
      ]
    },
    {
      "cell_type": "markdown",
      "id": "48a44588",
      "metadata": {
        "id": "48a44588"
      },
      "source": [
        "-----------------"
      ]
    },
    {
      "cell_type": "markdown",
      "id": "5aac1a65",
      "metadata": {
        "id": "5aac1a65"
      },
      "source": [
        "## 2.Numpy를 이용한 기술통계"
      ]
    },
    {
      "cell_type": "markdown",
      "id": "c849e3b9",
      "metadata": {
        "id": "c849e3b9"
      },
      "source": [
        "numpy는 아래와 같은 데이터 집합에 대해 간단한 통계를 계산하는 함수(통계량)를 제공한다.\n",
        "\n",
        "- 데이터의 개수(count)\n",
        " - 최댓값(maximum) : 데이터 중에서 가장 큰 값\n",
        " - 최솟값(minimum) : 데이터 중에서 가장 작은 값\n",
        "\n",
        "\n",
        "### 대표값\n",
        "데이터 분포의 중심 위치\n",
        " - 평균(mean, average): 평균을 통계용어->표본 평균(sample average, sample mean)\n",
        " - 중앙값(median) : 데이터를 크기대로 정렬하였을 때 가장 가운데에 있는 수\n",
        " - 최빈값(mode):\n",
        "\n",
        "### 산포도\n",
        "중심으로부터 데이터가 흩어져 있는 정도(변이도)를 수치적으로 측정\n",
        " - 분산(variance): 표본 분산, 데이터와 표본 평균간의 거리의 제곱의 평균, 표본 분산이 작으면 데이터가 모여있는 것이고 크면 흩어져 있는 것\n",
        " - 표준편차(standard deviation) : 표본 분산의 양의 제곱근 값\n",
        " - 사분위수(quartile) : 데이터를 가장 작은 수부터 가장 큰 수까지 크기가 커지는 순서대로 정렬하였을 때 1/4, 2/4, 3/4 위치에 있는 수\n",
        " - 변동계수(coefficient of variation): 두 집단 비교\n",
        " - 왜도(skewness) : 분포의 대칭이나 비대칭의 정도를 표시하는 척도\n",
        " - 첨도(kurtosis) : 뽀족함의 정도를 나타내는 척도"
      ]
    },
    {
      "cell_type": "code",
      "execution_count": 6,
      "id": "5b164d18",
      "metadata": {
        "colab": {
          "base_uri": "https://localhost:8080/"
        },
        "id": "5b164d18",
        "outputId": "e4bb8032-6d6a-45ae-de1a-38b21b8fa380"
      },
      "outputs": [
        {
          "output_type": "stream",
          "name": "stdout",
          "text": [
            "[18, 5, 10, 23, 19, -8, 10, 0, 0, 5, 2, 15, 8, 2, 5, 4, 15, -1, 4, -7, -24, 7, 9, -6, 23, -13]\n",
            "[ 18   5  10  23  19  -8  10   0   0   5   2  15   8   2   5   4  15  -1\n",
            "   4  -7 -24   7   9  -6  23 -13]\n"
          ]
        }
      ],
      "source": [
        "datas = [18,5,10,23,19,-8,10,0,0,5,2,15,8,2,5,4,15,-1,4,-7,-24,7,9,-6,23,-13]\n",
        "print(datas)\n",
        "\n",
        "# list --> numpy 데이터로 변환\n",
        "import numpy as np\n",
        "x = np.array(datas)\n",
        "print(x)"
      ]
    },
    {
      "cell_type": "markdown",
      "id": "a0497239",
      "metadata": {
        "id": "a0497239"
      },
      "source": [
        "### - 길이/개수(len)"
      ]
    },
    {
      "cell_type": "code",
      "execution_count": 26,
      "id": "04c6c5c7",
      "metadata": {
        "colab": {
          "base_uri": "https://localhost:8080/"
        },
        "id": "04c6c5c7",
        "outputId": "b89c1f65-78df-4f65-a376-67670fb63498"
      },
      "outputs": [
        {
          "output_type": "stream",
          "name": "stdout",
          "text": [
            "길이: 26\n"
          ]
        }
      ],
      "source": [
        "print(f\"길이: {len(x)}\")\n",
        "\n"
      ]
    },
    {
      "cell_type": "markdown",
      "id": "f34a4f31",
      "metadata": {
        "id": "f34a4f31"
      },
      "source": [
        "### - 최대값(maximum)"
      ]
    },
    {
      "cell_type": "code",
      "execution_count": 12,
      "id": "d370743e",
      "metadata": {
        "colab": {
          "base_uri": "https://localhost:8080/"
        },
        "id": "d370743e",
        "outputId": "4e58ab96-c13a-4830-bad4-98d968d14e73"
      },
      "outputs": [
        {
          "output_type": "stream",
          "name": "stdout",
          "text": [
            "최대값: 23\n"
          ]
        }
      ],
      "source": [
        "print(f\"최대값: {np.max(x)}\")"
      ]
    },
    {
      "cell_type": "markdown",
      "id": "115b1276",
      "metadata": {
        "id": "115b1276"
      },
      "source": [
        "### - 최솟값(minimum)"
      ]
    },
    {
      "cell_type": "code",
      "execution_count": 11,
      "id": "47eb2bc6",
      "metadata": {
        "colab": {
          "base_uri": "https://localhost:8080/"
        },
        "id": "47eb2bc6",
        "outputId": "025e62f2-2966-46bd-9f34-bac312c0108c"
      },
      "outputs": [
        {
          "output_type": "stream",
          "name": "stdout",
          "text": [
            "최소값: -24\n"
          ]
        }
      ],
      "source": [
        "print(f\"최소값: {np.min(x)}\")\n"
      ]
    },
    {
      "cell_type": "markdown",
      "id": "feb3b096",
      "metadata": {
        "id": "feb3b096"
      },
      "source": [
        "### - 배열의 최대값 인덱스(argmax)\n",
        "- 동일한 값이 있을 경우 첫 번째 인덱스"
      ]
    },
    {
      "cell_type": "code",
      "execution_count": 18,
      "id": "3476ef32",
      "metadata": {
        "scrolled": true,
        "colab": {
          "base_uri": "https://localhost:8080/"
        },
        "id": "3476ef32",
        "outputId": "c76ac847-9766-4ae8-cf08-2db5a0842eb2"
      },
      "outputs": [
        {
          "output_type": "stream",
          "name": "stdout",
          "text": [
            " 최대값 인덱스: 3\n"
          ]
        }
      ],
      "source": [
        "print(f\" 최대값 인덱스: {np.argmax(x)}\")\n"
      ]
    },
    {
      "cell_type": "markdown",
      "id": "2e0d9d0d",
      "metadata": {
        "id": "2e0d9d0d"
      },
      "source": [
        "### - 배열의 최소값 인덱스(argmin)\n",
        "- 동일한 값이 있을 경우 첫 번째 인덱스"
      ]
    },
    {
      "cell_type": "code",
      "execution_count": 19,
      "id": "14dca3fc",
      "metadata": {
        "scrolled": true,
        "colab": {
          "base_uri": "https://localhost:8080/"
        },
        "id": "14dca3fc",
        "outputId": "4ec7f93d-47e2-438b-f6cc-4e4d08360e8d"
      },
      "outputs": [
        {
          "output_type": "stream",
          "name": "stdout",
          "text": [
            "최소값 인덱스: 20\n"
          ]
        }
      ],
      "source": [
        "print(f\"최소값 인덱스: {np.argmin(x)}\")"
      ]
    },
    {
      "cell_type": "markdown",
      "id": "2f63dee4",
      "metadata": {
        "id": "2f63dee4"
      },
      "source": [
        "----------"
      ]
    },
    {
      "cell_type": "markdown",
      "id": "380fd23b",
      "metadata": {
        "id": "380fd23b"
      },
      "source": [
        "## 대표값\n",
        "데이터 분포의 중심 위치"
      ]
    },
    {
      "cell_type": "markdown",
      "id": "6ef50d49",
      "metadata": {
        "id": "6ef50d49"
      },
      "source": [
        "### - 평균(average)"
      ]
    },
    {
      "cell_type": "code",
      "execution_count": 9,
      "id": "9aa8933d",
      "metadata": {
        "colab": {
          "base_uri": "https://localhost:8080/"
        },
        "id": "9aa8933d",
        "outputId": "def2522d-b80b-4fbb-9da0-64b21f8190fe"
      },
      "outputs": [
        {
          "output_type": "stream",
          "name": "stdout",
          "text": [
            "평균: 4.8076923076923075\n"
          ]
        }
      ],
      "source": [
        "print(f\"평균: {np.mean(x)}\")"
      ]
    },
    {
      "cell_type": "markdown",
      "id": "9f94da69",
      "metadata": {
        "id": "9f94da69"
      },
      "source": [
        "### - 중앙값(median)"
      ]
    },
    {
      "cell_type": "code",
      "execution_count": 10,
      "id": "5e2a2f4f",
      "metadata": {
        "colab": {
          "base_uri": "https://localhost:8080/"
        },
        "id": "5e2a2f4f",
        "outputId": "971fe517-3064-425f-a224-c1498cbb9071"
      },
      "outputs": [
        {
          "output_type": "stream",
          "name": "stdout",
          "text": [
            "중앙값: 5.0\n"
          ]
        }
      ],
      "source": [
        "print(f\"중앙값: {np.median(x)}\")"
      ]
    },
    {
      "cell_type": "markdown",
      "id": "875fd4f7",
      "metadata": {
        "id": "875fd4f7"
      },
      "source": [
        "### - 최빈값(mode)"
      ]
    },
    {
      "cell_type": "code",
      "execution_count": 17,
      "id": "72f64466",
      "metadata": {
        "scrolled": true,
        "colab": {
          "base_uri": "https://localhost:8080/"
        },
        "id": "72f64466",
        "outputId": "ca42962f-bb1e-4a0c-9df0-c4c823c7a86a"
      },
      "outputs": [
        {
          "output_type": "stream",
          "name": "stdout",
          "text": [
            "[-24 -13  -8  -7  -6  -1   0   2   4   5   7   8   9  10  15  18  19  23] [1 1 1 1 1 1 2 2 2 3 1 1 1 2 2 1 1 2]\n"
          ]
        },
        {
          "output_type": "execute_result",
          "data": {
            "text/plain": [
              "5"
            ]
          },
          "metadata": {},
          "execution_count": 17
        }
      ],
      "source": [
        "values, counts = np.unique(x, return_counts=True)\n",
        "print(values,counts)\n",
        "idx = np.argmax(counts)\n",
        "values[idx]"
      ]
    },
    {
      "cell_type": "markdown",
      "id": "7bdf75d3",
      "metadata": {
        "id": "7bdf75d3"
      },
      "source": [
        "### - 히스토그램 그리기"
      ]
    },
    {
      "cell_type": "code",
      "execution_count": 28,
      "id": "bbc42d21",
      "metadata": {
        "colab": {
          "base_uri": "https://localhost:8080/",
          "height": 309
        },
        "id": "bbc42d21",
        "outputId": "8d9b667f-7163-44be-fa82-2a7dc56bb5eb"
      },
      "outputs": [
        {
          "output_type": "stream",
          "name": "stdout",
          "text": [
            "[1 0 1 3 1 6 6 2 4] [-25 -20 -15 -10  -5   0   5  10  15  20]\n"
          ]
        },
        {
          "output_type": "display_data",
          "data": {
            "text/plain": [
              "<Figure size 500x300 with 1 Axes>"
            ],
            "image/png": "[encoded data removed]"
          },
          "metadata": {}
        }
      ],
      "source": [
        "bins = np.arange(-25, 25, 5)\n",
        "hist, bins = np.histogram(x, bins)\n",
        "print(hist, bins)\n",
        "\n",
        "import matplotlib.pyplot as pit\n",
        "plt.hist(x, edgecolor = \"w\", color=\"red\")\n",
        "pit.show()"
      ]
    },
    {
      "cell_type": "markdown",
      "id": "1a22fd51",
      "metadata": {
        "id": "1a22fd51"
      },
      "source": [
        "### [실습문제] 조선조 왕의 수명 데이터\n",
        " 1. 왕들의　평균　수명\n",
        " 2. 수명이　가장　짧은　왕,　나이\n",
        " 3. 수명이　가장　긴　왕，　나이\n",
        " 4. 왕들의　중앙값（나이）\n",
        " 5. 왕들의　최빈값（나이）"
      ]
    },
    {
      "cell_type": "code",
      "execution_count": null,
      "id": "5e174be4",
      "metadata": {
        "scrolled": true,
        "id": "5e174be4"
      },
      "outputs": [],
      "source": [
        "import numpy as np\n",
        "# 키가 중복되면 안됨\n",
        "data = {'태조':73, '정종':62, '태종':45, '세종':53, '문종':38,\n",
        "        '단종':16, '세조':51, '예종':28, '성종':37, '연산군':30,\n",
        "        '중종':56, '인종':30, '명종':33, '선조':56, '광해군':66,\n",
        "        '인조':54, '효종':40, '현종':33, '숙종':59, '경종': 36,\n",
        "        '영조':82, '정조':48, '순조':44, '헌종':22, '철종':32,\n",
        "        '고종':67, '순종':52}\n",
        "\n",
        "def get_data_count(datas):\n",
        "    '''데이터별 빈도'''\n",
        "    values = sorted( list(set(datas)) )            # 고유값 리스트\n",
        "    counts = [ datas.count(i) for i in values ]   # 빈도수 리스트\n",
        "#     print(f'#데이터별 빈도: {list(zip(values, counts))}')\n",
        "    return values, counts\n",
        "\n",
        "\n",
        "def get_mode_value(datas):\n",
        "    '''최다 빈도'''\n",
        "    values, counts = get_data_count(datas)\n",
        "    maxs = [(k, v) for k, v in zip(values, counts) if max(counts)== v]\n",
        "    return maxs\n",
        "\n",
        "\n",
        "names= list(data.keys())\n",
        "ages = list(data.values())\n",
        "\n",
        "x_ = np.mean(ages)               # 평균값\n",
        "me = np.median(ages)             # 중앙값\n",
        "mo = get_mode_value(ages)        # 최빈값\n",
        "\n",
        "print(f'#조선의 왕: {names}')\n",
        "print(f'#왕들의 나이: {ages}')\n",
        "\n",
        "values, counts = get_data_count(ages)\n",
        "print(f'#데이터별 빈도: {list(zip(values, counts))}')\n",
        "\n",
        "print()\n",
        "print(f'#1.왕들의 평균나이   : {round(x_)}세')\n",
        "\n",
        "idx = ages.index( min(ages) ) # 값이 여러 개가 아니라는 가정\n",
        "print(f'2.수명이 가장 짧은 왕: {names[idx]}, {ages[idx]}세')\n",
        "\n",
        "idx = ages.index( max(ages) )\n",
        "print(f'3.수명이 가장 긴 왕  : {names[idx]}, {ages[idx]}세')\n",
        "\n",
        "print(f'4.왕들의 중앙값(나이): {round(me)}세')\n",
        "\n",
        "print(f\"5.왕들의 최빈값(나이): {[f'{k}세 ' for k, v in mo ] } \")"
      ]
    },
    {
      "cell_type": "markdown",
      "id": "5580fe92",
      "metadata": {
        "id": "5580fe92"
      },
      "source": [
        "### [실습문제] 산술평균, 중앙값, 최빈값 사이의 관계 설명\n",
        "벤처기업에 근무하는 직원  30명의 연령 자료에 대한 산술평균, 중앙값, 최빈값 사이의 관계 설명하기"
      ]
    },
    {
      "cell_type": "code",
      "execution_count": null,
      "id": "39fda502",
      "metadata": {
        "id": "39fda502"
      },
      "outputs": [],
      "source": [
        "import math\n",
        "import numpy as np\n",
        "import pandas as pd\n",
        "import matplotlib.pyplot as plt\n",
        "\n",
        "# 그래프 기본 설정\n",
        "plt.rcParams['figure.figsize'] = (5, 3)        # (가로,세로) 인치 단위\n",
        "plt.rcParams['axes.unicode_minus'] = False    # 그래프 눈금 값에서 (-)숫자표시\n",
        "plt.rcParams['lines.linewidth'] = 2            # 선 굵기\n",
        "plt.rcParams['font.family'] = 'Malgun Gothic'  # 한글 폰트 사용  (AppleGothic)\n",
        "\n",
        "\n",
        "def makeFrequencyTable(datas, k=5):\n",
        "    # 도수분포표 만들기 사전 과정\n",
        "    # k = 5                               # 1.계급 수\n",
        "    R = round(max(datas) - min(datas), 6) # 2.R : 최대측정값 - 최소측정값\n",
        "    w = math.ceil(R/k)                    # 3.계급 간격\n",
        "    s = min(datas) - 0.5                  # 4.시작 계급값\n",
        "    bins = np.arange(s, max(datas)+w+1, step=w)  #계급\n",
        "    index = [f'{bins[i]} ~ {bins[i+1]}' for i in range(len(bins)) if i<(len(bins)-1) ] # 계급 구간(index)\n",
        "    hist, bins = np.histogram(datas, bins)  # 계급 구간별 도수 데이터\n",
        "    print(f'계급수(K):{k}, R:{R}, 계급간격(w):{w}, 계급시작값(s):{s}')\n",
        "    print(f'계급:{bins}')\n",
        "\n",
        "\n",
        "    # 도수분포표 만들기\n",
        "    df = pd.DataFrame(hist, index=index, columns=['도수'])\n",
        "    df.index.name = '계급간격'\n",
        "\n",
        "    df['상대도수'] = [x/sum(hist) for x in hist]\n",
        "    df['누적도수'] = [sum(hist[:i+1]) if i>0 else hist[i] for i in range(k)]\n",
        "    df['누적상대도수'] = [sum(hist[:i+1]) if i>0 else df['상대도수'].values[i] for i in range(k)]\n",
        "    df['계급값'] = [ (bins[x]+bins[x+1])/2 for x in range(k)]\n",
        "\n",
        "    return df\n",
        "\n",
        "\n",
        "datas = [31, 27, 25, 24, 21, 44, 36, 29, 35, 28,\n",
        "         16, 26, 21, 37, 26, 22, 30, 29, 40, 33,\n",
        "         35, 26, 22, 42, 25, 28, 39, 30, 27, 30]\n",
        "\n",
        "# 도수분포표 만들기\n",
        "df =  makeFrequencyTable(datas, k=6)\n",
        "df"
      ]
    },
    {
      "cell_type": "code",
      "execution_count": null,
      "id": "e208afe8",
      "metadata": {
        "scrolled": true,
        "id": "e208afe8"
      },
      "outputs": [],
      "source": [
        "def make_histogram(datas, x, y, width=10):\n",
        "    fig = plt.bar(x,y, width=width, edgecolor='w') # 막대그래프\n",
        "    plt.xticks(ticks=x, labels=x)\n",
        "\n",
        "    x_ = np.mean(datas)      # 평균값\n",
        "    me = round(np.median(datas))    # 중앙값\n",
        "    from collections import Counter\n",
        "    counts = Counter(datas)\n",
        "    mo = counts.most_common(1)[0][0]  # 최빈값\n",
        "\n",
        "    plt.axvline(x_, 0, max(y),\n",
        "                c='red', label=f'mean({x_})')     # # 평균값 표시\n",
        "    plt.annotate('평균', xy=(x_, 10), xytext=(50,10),\n",
        "                 fontsize=12,\n",
        "                 arrowprops=dict(facecolor='black', width=1, shrink=0.1, headwidth=5))\n",
        "\n",
        "    plt.axvline(me, 0, max(y),\n",
        "                c='green', label=f'median({me})') # 중앙값 표시\n",
        "\n",
        "    plt.axvline(mo, 0, max(y),\n",
        "                c='violet', label=f'mode({mo})')  # 최빈값 표시\n",
        "\n",
        "    plt.title('(도수)히스토그램')\n",
        "    plt.xlabel('계급값')\n",
        "    plt.ylabel('도수')\n",
        "\n",
        "    plt.legend()\n",
        "    plt.show()\n",
        "\n",
        "\n",
        "# 히스토그램 만들기\n",
        "x = df['계급값']\n",
        "y = df['도수']\n",
        "make_histogram(datas, x, y)"
      ]
    },
    {
      "cell_type": "code",
      "execution_count": 29,
      "id": "86591001",
      "metadata": {
        "colab": {
          "base_uri": "https://localhost:8080/",
          "height": 309
        },
        "id": "86591001",
        "outputId": "e08eb99f-7b10-42b2-a2b0-150cd31680b7"
      },
      "outputs": [
        {
          "output_type": "execute_result",
          "data": {
            "text/plain": [
              "<Axes: ylabel='Count'>"
            ]
          },
          "metadata": {},
          "execution_count": 29
        },
        {
          "output_type": "display_data",
          "data": {
            "text/plain": [
              "<Figure size 500x300 with 1 Axes>"
            ],
            "image/png": "[encoded data removed]"
          },
          "metadata": {}
        }
      ],
      "source": [
        "# seaborn 라이브러리로 히스토그램 그리기\n",
        "import seaborn as sns\n",
        "sns.histplot(datas, kde=True, bins=5)"
      ]
    },
    {
      "cell_type": "markdown",
      "id": "6ebc92e2",
      "metadata": {
        "id": "6ebc92e2"
      },
      "source": [
        "-------"
      ]
    },
    {
      "cell_type": "markdown",
      "id": "d77a5f76",
      "metadata": {
        "id": "d77a5f76"
      },
      "source": [
        "## 산포도\n",
        "중심으로부터 데이터가 흩어져 있는 정도(변이도)를 수치적으로 측정"
      ]
    },
    {
      "cell_type": "code",
      "execution_count": null,
      "id": "6355e22a",
      "metadata": {
        "id": "6355e22a"
      },
      "outputs": [],
      "source": [
        "import numpy as np\n",
        "\n",
        "x = np.array([18,5,10,23,19,-8,10,0,0,5,2,15,8,2,5,4,15,-1,4,-7,-24,7,9,-6,23,-13])\n",
        "print(x)"
      ]
    },
    {
      "cell_type": "markdown",
      "id": "c01e3de1",
      "metadata": {
        "id": "c01e3de1"
      },
      "source": [
        "### - 분산(variance)\n",
        "평균을 중심으로 밀집되거나 퍼짐 정도를 나타내는 척도"
      ]
    },
    {
      "cell_type": "code",
      "execution_count": 30,
      "id": "c460c850",
      "metadata": {
        "colab": {
          "base_uri": "https://localhost:8080/"
        },
        "id": "c460c850",
        "outputId": "cadbc7e9-2ad9-4d0d-d31d-abf05d823ad8"
      },
      "outputs": [
        {
          "output_type": "stream",
          "name": "stdout",
          "text": [
            "분산: 115.23224852071006\n"
          ]
        }
      ],
      "source": [
        "print(f\"분산: {np.var(x)}\")"
      ]
    },
    {
      "cell_type": "markdown",
      "id": "20cd7c7c",
      "metadata": {
        "id": "20cd7c7c"
      },
      "source": [
        "### - 표준 편차(standard deviation)"
      ]
    },
    {
      "cell_type": "code",
      "execution_count": 31,
      "id": "edac23c6",
      "metadata": {
        "colab": {
          "base_uri": "https://localhost:8080/"
        },
        "id": "edac23c6",
        "outputId": "13b49338-0b5f-4328-8226-423e7a529a4a"
      },
      "outputs": [
        {
          "output_type": "stream",
          "name": "stdout",
          "text": [
            "표준편차: 10.734628476137871\n"
          ]
        }
      ],
      "source": [
        "print(f\"표준편차: {np.std(x)}\")"
      ]
    },
    {
      "cell_type": "markdown",
      "id": "ce3c3884",
      "metadata": {
        "id": "ce3c3884"
      },
      "source": [
        " ### - 사분위수(quartile)\n",
        " - 백분위수(percentile): 수집한 자료를 크기순으로 나열할 때, 1%씩 등간격으로 구분하는 척도\n",
        " - 사분위수(quartiles): 수집한 자룔를 크기순으로 나열하여 4등분하는 척도, Q1, Q2, Q3,Q4 <br>\n",
        " - 자동 정렬 후 계산"
      ]
    },
    {
      "cell_type": "code",
      "execution_count": 33,
      "id": "2a6d5128",
      "metadata": {
        "colab": {
          "base_uri": "https://localhost:8080/"
        },
        "id": "2a6d5128",
        "outputId": "0d0a7928-a895-4453-b55a-edeba530425f"
      },
      "outputs": [
        {
          "output_type": "stream",
          "name": "stdout",
          "text": [
            " 0%: -24.0\n",
            " 25%: 0.0\n",
            " 50%: 5.0\n",
            " 75%: 10.0\n",
            " 100%: 23.0\n"
          ]
        }
      ],
      "source": [
        "print(f\" 0%: {np.percentile(x, 0)}\")     # 0% 해당하는 수\n",
        "print(f\" 25%: {np.percentile(x, 25)}\")   # 25%,  1사분위 수\n",
        "print(f\" 50%: {np.percentile(x, 50)}\")   # 50%, 2사분위 수\n",
        "print(f\" 75%: {np.percentile(x, 75)}\")   # 75%, 3사분위 수\n",
        "print(f\" 100%: {np.percentile(x, 100)}\") # 100%,  최대값"
      ]
    },
    {
      "cell_type": "markdown",
      "id": "9d6c5717",
      "metadata": {
        "id": "9d6c5717"
      },
      "source": [
        "### - 변동계수(coefficient of variation)\n",
        " - 측정단위가 동일한 두 자료집단: 평균이 큰 차이를 보이는 두 자료집단\n",
        " - 측정단위가 서로 다른 두 자료집단: 산포의 척도를 비교할 때 많이 사용한다."
      ]
    },
    {
      "cell_type": "code",
      "execution_count": null,
      "id": "e4ffd378",
      "metadata": {
        "id": "e4ffd378"
      },
      "outputs": [],
      "source": [
        "def get_cov(S, ddof=0):\n",
        "    M   = np.mean(S)            # 평균\n",
        "    STD = np.std(S, ddof=ddof)  # 표준편차\n",
        "    cov =  STD / M * 100        #변동계수\n",
        "    print('mean: %.2f'%M, 'std: %.2f'%STD) #소수점 2자리로 표현\n",
        "\n",
        "    return ( np.std(S, ddof=ddof) / np.mean(S) )* 100  #변동계수\n",
        "\n",
        "A = [171, 164, 167, 156, 159, 164]\n",
        "B = [11.5, 12.2, 12.0, 12.4, 13.6, 10.5]\n",
        "\n",
        "print(f'#A 변동계수: ', round(get_cov(A, ddof=1), 2))\n",
        "print(f'#B 변동계수: ', round(get_cov(B, ddof=1), 2) )"
      ]
    },
    {
      "cell_type": "markdown",
      "id": "7ac5f31b",
      "metadata": {
        "id": "7ac5f31b"
      },
      "source": [
        "### - 왜도(skewness)\n",
        "- 분포의 대칭이나 비대칭의 정도를 표시하는 척도\n",
        "- 정규분포로부터 얼마나 멀어져있는지를 보는 수치(왜도=0, 완전한 정규분포)\n",
        "- $\\alpha = 0$ :   완전한 정규분포\n",
        "- $\\alpha > 0$ :   왼쪽으로 치우친 분포\n",
        "- $\\alpha < 0$ :   오른쪽으로 치우친 분포"
      ]
    },
    {
      "cell_type": "markdown",
      "id": "145d4ce3",
      "metadata": {
        "id": "145d4ce3"
      },
      "source": [
        "### - 첨도(kurtosis)\n",
        "- 뽀족함의 정도를 나타내는 척도\n",
        "- 정규뷴포상에서 평균을 중심으로 집중화된 정도를 나타냄\n",
        "- $\\beta = 3$ :   뽀족한 정도가 정규분포와 같다\n",
        "- $\\beta > 3$ :   표준정규분포보다 정점이 높고 뽀족하다, 꼬리가 더 두꺼워짐\n",
        "- $\\beta < 3$ :   표준정규분포보다 정점이 낮고 완만하다, 꼬리가 더 얇아짐"
      ]
    },
    {
      "cell_type": "code",
      "execution_count": null,
      "id": "709d6485",
      "metadata": {
        "scrolled": true,
        "id": "709d6485"
      },
      "outputs": [],
      "source": [
        "# 왜도 & 첨도 구하기:  수학적 방법\n",
        "import numpy as np\n",
        "\n",
        "def skew_kurtosis(data):\n",
        "    mean = np.mean(data)\n",
        "    var = np.var(data)\n",
        "    std = np.sqrt(var)\n",
        "\n",
        "    # skewness\n",
        "    skew = np.sum((data - mean)**3) / (len(data) * std**3)\n",
        "    # kurtosis\n",
        "    kurt = np.sum((data - mean)**4) / (len(data) * std**4) - 3\n",
        "\n",
        "    return skew, kurt\n",
        "\n",
        "datas = [31, 27, 25, 24, 21, 44, 36, 29, 35, 28,\n",
        "         16, 26, 21, 37, 26, 22, 30, 29, 40, 33,\n",
        "         35, 26, 22, 42, 25, 28, 39, 30, 27, 30]\n",
        "\n",
        "skew, kurt = skew_kurtosis(datas)\n",
        "print(\"Skewness: \", skew)\n",
        "print(\"Kurtosis: \", kurt)"
      ]
    },
    {
      "cell_type": "markdown",
      "id": "d0ed56e9",
      "metadata": {
        "id": "d0ed56e9"
      },
      "source": [
        "### [실습문제] 산포도 구하기\n",
        "다음은 어느 정유회사에서 생산하는 자동차용 휘발유의 옥탄가 자료이다. 평균, 분산, 표준편차, 왜도, 첨도, 분포 형태 설명"
      ]
    },
    {
      "cell_type": "code",
      "execution_count": 43,
      "id": "83399012",
      "metadata": {
        "colab": {
          "base_uri": "https://localhost:8080/"
        },
        "id": "83399012",
        "outputId": "862ffb20-c850-45d8-ccf9-c87704ac86a4"
      },
      "outputs": [
        {
          "output_type": "stream",
          "name": "stdout",
          "text": [
            " 1.평균: 4.8076923076923075\n",
            " 2. 분산: 115.23224852071006\n",
            " 3. 표준편차 : 10.734628476137871\n"
          ]
        }
      ],
      "source": [
        "import numpy as np\n",
        "import matplotlib.pyplot as plt\n",
        "\n",
        "datas=[ 90.7, 90.0, 92.2, 91.0, 88.5, 87.8, 83.4, 82.1, 88.6, 100.2,\n",
        "        95.6, 93.3, 88.2, 91.0, 92.7, 93.2, 91.0, 93.4, 85.3, 88.6,\n",
        "        96.1, 98.9, 89.9, 89.8, 91.1, 89.7, 88.2, 93.7, 84.3, 97.9,\n",
        "        87.9, 90.1, 88.3, 93.3, 95.4, 91.6, 88.9, 92.6, 97.4, 87.4,\n",
        "        86.7, 90.4, 91.1, 92.6, 88.8, 89.3, 89.8, 89.2, 88.6, 89.0,\n",
        "        96.1, 95.6, 92.2 ]\n",
        "\n",
        "\n",
        "datas = x\n",
        "# x = np.array(dates)\n",
        "# 평균\n",
        "print(f\" 1.평균: {np.mean(x)}\")\n",
        "\n",
        "# 분산\n",
        "print(f\" 2. 분산: {np.var(x)}\")\n",
        "\n",
        "# 표준편차\n",
        "print(f\" 3. 표준편차 : {np.std(x)}\")\n",
        "\n",
        "# 왜도 & 첨도 구하기:  수학적 방법\n",
        "def skew_kurtosis(datas):\n",
        "    mean = np.mean(datas)\n",
        "    var = np.var(datas)\n",
        "    std = np.sqrt(var)\n",
        "\n",
        "# skewness\n",
        "    skew = np.sum((data - mean)**3) / (len(data) * std**3)\n",
        "\n",
        "# kurtosis\n",
        "    kurt = np.sum((data - mean)**4) / (len(data) * std**4) - 3\n",
        "\n",
        "\n"
      ]
    },
    {
      "cell_type": "code",
      "execution_count": null,
      "id": "56a065e2",
      "metadata": {
        "scrolled": true,
        "id": "56a065e2"
      },
      "outputs": [],
      "source": [
        "# 도수분포표 만들기\n",
        "df =  makeFrequencyTable(datas, k=5)\n",
        "x, y = df['계급값'], df['도수']\n",
        "make_histogram(datas, x, y, width=5)"
      ]
    },
    {
      "cell_type": "code",
      "execution_count": null,
      "id": "eaf480b4",
      "metadata": {
        "id": "eaf480b4"
      },
      "outputs": [],
      "source": [
        "# seaborn 라이브러리로 히스토그램 그리기\n",
        "import seaborn as sns\n",
        "sns.histplot(datas, kde=True, bins=5)"
      ]
    },
    {
      "cell_type": "markdown",
      "id": "2a4c2c1a",
      "metadata": {
        "id": "2a4c2c1a"
      },
      "source": [
        "### [실습문제] 변동계수 비교하기\n",
        "- data1 : 1부터 10 사이의 정수 100개 무작위 추출\n",
        "- data2 : 평균 1 이고, 표준편차가 1인 정규분포를 이루는 100개 무작위 추출"
      ]
    },
    {
      "cell_type": "code",
      "execution_count": null,
      "id": "208f326f",
      "metadata": {
        "id": "208f326f"
      },
      "outputs": [],
      "source": [
        "import numpy as np\n",
        "\n",
        "# 데이터 집단 만들기\n",
        "# 1부터 10 사이의 정수 100개 무작위 추출\n",
        "# 평균 1, 표준편차 1인 정규분포에서 100개 무작위 추출\n",
        "\n"
      ]
    },
    {
      "cell_type": "markdown",
      "id": "27291366",
      "metadata": {
        "id": "27291366"
      },
      "source": [
        "### [실습문제] 사분위수를 이용하여 위치 확인하기\n",
        "- 사분위수를 구하시오\n",
        "- 상자그림을 그리시오."
      ]
    },
    {
      "cell_type": "code",
      "execution_count": null,
      "id": "3da1e23b",
      "metadata": {
        "id": "3da1e23b"
      },
      "outputs": [],
      "source": [
        "import numpy as np\n",
        "\n",
        "datas = [26, 31, 27, 38, 42, 26, 18, 17, 25, 29,\n",
        "         39, 38, 38, 40, 46, 38, 39, 41, 41, 40,\n",
        "         26, 19, 39, 28, 45, 34, 21, 41, 30, 30,\n",
        "         12, 22, 48, 34, 29, 26, 29, 58, 43, 16,\n",
        "         42, 44, 38, 44, 28, 43, 39, 42, 39, 46]\n",
        "\n",
        "print(sorted(datas))\n",
        "\n",
        "Q1 =   # 1사분위\n",
        "Q2 =   # 2사분위\n",
        "Q3 =   # 3사분위\n",
        "Q4 =   # 4사분위\n",
        "\n",
        "print('1사분위(Q1: 25%):', Q1 )\n",
        "print('2사분위(Q2: 50%):', Q2 )\n",
        "print('3사분위(Q3: 75%):', Q3 )\n",
        "print('4사분위(Q4:100%):', Q4 )"
      ]
    },
    {
      "cell_type": "markdown",
      "id": "0553808c",
      "metadata": {
        "id": "0553808c"
      },
      "source": [
        "### 상자그림\n",
        " - Box Plot: 사분위수를 이용하여 수집한 자료에 포함된 **특이값**을 알려주는 그림\n",
        " - 두 개 이상의 자료 집단을 비교할 때 매우 유용\n",
        " - https://matplotlib.org/stable/api/_as_gen/matplotlib.pyplot.boxplot.html"
      ]
    },
    {
      "cell_type": "code",
      "execution_count": null,
      "id": "7ce273c7",
      "metadata": {
        "id": "7ce273c7"
      },
      "outputs": [],
      "source": [
        ""
      ]
    },
    {
      "cell_type": "markdown",
      "id": "adfea130",
      "metadata": {
        "id": "adfea130"
      },
      "source": [
        "### [실습문제] 위치척도와 상자그림"
      ]
    },
    {
      "cell_type": "code",
      "execution_count": null,
      "id": "ef7372fa",
      "metadata": {
        "id": "ef7372fa"
      },
      "outputs": [],
      "source": [
        "import numpy as np\n",
        "import matplotlib.pyplot as plt\n",
        "\n",
        "def get_outlier_data(datas):\n",
        "    Q1 = np.percentile(datas, 25).astype('int') # 1사분위 (편의상 정수로 만듦)\n",
        "    Q3 = np.percentile(datas, 75).astype('int')  # 3사분위\n",
        "    IQR = Q3 - Q1\n",
        "    fl = Q1 - 1.5*IQR  # lower inner fence\n",
        "    fu = Q3 + 1.5*IQR  # upper inner fence\n",
        "    fL = Q1 - 3*IQR    # lower outer fence\n",
        "    fU = Q3 + 3*IQR    # upper outer fence\n",
        "    mid_outlier = [x for x in datas if (fL<=x<=fl) or (fu<=x<=fU)] # mid ouetlier(보통 특이값)\n",
        "    ext_outlier = [x for x in datas if (fL>=x) or (fU<=x)]         # extreme outlier(특이값)\n",
        "#     print(f\"ordered data     : {sorted(datas)} \")\n",
        "#     print(f'lower inner fence: {fl}')\n",
        "#     print(f'upper inner fence: {fu}')\n",
        "#     print(f'lower outer fence: {fL}')\n",
        "    print(f'ext_outlier      : {ext_outlier}')\n",
        "    print(f'mid_outlier      : {mid_outlier}')\n",
        "\n",
        "\n",
        "\n",
        "data1 = [56,  90,  88,  87,  68,  32,  76,  54, 100,  41]  # 특이값 미 포함\n",
        "data2 = [8, 51, 70, 86,  2, 77, 81, 75, 64, 89]    # (보통)특이값 포함\n",
        "data3 = [15, 55, 64, 95, 67, 67, 51, 58, 57, 89]   # (보통)특이값 + 특이값 포함\n",
        "print(f'data1: {data1}')\n",
        "print(f'data2: {data2}')\n",
        "print(f'data3: {data3}')\n",
        "print()\n",
        "\n",
        "# outlier 값 찾기\n",
        "get_outlier_data(data1)\n",
        "get_outlier_data(data2)\n",
        "get_outlier_data(data3)\n",
        "\n",
        "# 상자그림 그리기\n",
        "plt.boxplot([data1, data2, data3], showmeans=True)\n",
        "plt.grid()\n",
        "plt.show()"
      ]
    },
    {
      "cell_type": "markdown",
      "id": "152f2e72",
      "metadata": {
        "id": "152f2e72"
      },
      "source": [
        "---------------"
      ]
    },
    {
      "cell_type": "markdown",
      "id": "29166f0d",
      "metadata": {
        "id": "29166f0d"
      },
      "source": [
        "### [실습문제] 산점도와 상관계수\n",
        "학생 건강검사 자료(2019년도 학생 건강검사 표본통계, 교육부) 중 서울지역 초등학교 3학년 남학생에 대한 표본에 대해 키와 몸무게를 이용하여 산점도를 나타내고 상관계수를 계산하시오."
      ]
    },
    {
      "cell_type": "code",
      "execution_count": null,
      "id": "30bb7f68",
      "metadata": {
        "id": "30bb7f68"
      },
      "outputs": [],
      "source": [
        "# 1. 데이터 확인\n",
        "\n"
      ]
    },
    {
      "cell_type": "code",
      "execution_count": null,
      "id": "c9e5c6a0",
      "metadata": {
        "scrolled": true,
        "id": "c9e5c6a0"
      },
      "outputs": [],
      "source": [
        "# 2. 산점도로 확인\n",
        "\n"
      ]
    },
    {
      "cell_type": "code",
      "execution_count": null,
      "id": "21c6b950",
      "metadata": {
        "id": "21c6b950"
      },
      "outputs": [],
      "source": [
        "# 상관계수(method='pearson') 확인\n"
      ]
    },
    {
      "cell_type": "markdown",
      "id": "8ae81d78",
      "metadata": {
        "id": "8ae81d78"
      },
      "source": [
        "----"
      ]
    },
    {
      "cell_type": "markdown",
      "id": "1842bf9a",
      "metadata": {
        "id": "1842bf9a"
      },
      "source": [
        "### **회귀분석(regression analysis)**\n",
        "- 변수가 **다른 변수에 영향을 미치는 관계를 식별**하기 위한 통계적 방법\n",
        "- 두 변수 간의 관계를 파악하여 **한 변수의 값으로부터 그에 대응하는 다른 변수의 값을 예측**하고자 할 때 사용하는 통계적 방법\n",
        "<br><br>\n",
        "- **독립변수(independent variable)** : 다른 변수에 영향을 주는 변수, 설명변수(explanatory variable)\n",
        "- **종속변수(dependent variable)** : 영향을 받는 변수, 반응변수(response variable)"
      ]
    },
    {
      "cell_type": "markdown",
      "id": "e9adbf01",
      "metadata": {
        "id": "e9adbf01"
      },
      "source": [
        "### 단순선형회귀모형(simple linear regression model) : 직선회귀모형\n",
        "\n",
        " - $y_i = a + bx_i + e_i$   $(e_i ~ N(0,\\sigma^2), i=1,2,...,n)$ <br><br>\n",
        " - $a, b$ : 모회귀계수\n",
        " - $x_i$  : 독립변수(설명변수), $y_i$:종속변수(반응변수)\n",
        " - $e_i$  : $N(0,\\sigma^2)$을 따르는 확률변수(오차항) <br><br>\n",
        " -- **==> 모회귀계수 $a, b$를 추정함으로서 회귀직선을 추정할 수 있다!**"
      ]
    },
    {
      "cell_type": "markdown",
      "id": "cc5fb8ea",
      "metadata": {
        "id": "cc5fb8ea"
      },
      "source": [
        "### [실습문제] 단순 회귀분석"
      ]
    },
    {
      "cell_type": "code",
      "execution_count": null,
      "id": "6bb4855b",
      "metadata": {
        "id": "6bb4855b"
      },
      "outputs": [],
      "source": [
        "# 1. 데이터 확인\n",
        "import pandas as pd\n",
        "\n",
        "cm = 2.54  # 키데이터를  inch --> cm로 변환하기 위해\n",
        "df = pd.read_excel('./data/Galtons Height Data_딸.xlsx')\n",
        "df['father'] = df.father * cm\n",
        "df['daughter'] = df.daughter * cm\n",
        "\n",
        "df"
      ]
    },
    {
      "cell_type": "code",
      "execution_count": null,
      "id": "e52ffbea",
      "metadata": {
        "scrolled": true,
        "id": "e52ffbea"
      },
      "outputs": [],
      "source": [
        "# 2. 산점도(추정된 회귀직선 표시) 확인\n",
        "# 방법: seaborn 사용하기\n",
        "import matplotlib.pyplot as plt\n",
        "import seaborn as sns\n",
        "\n",
        "sns.regplot(x=df.father, y=df.daughter)\n",
        "plt.xlabel('father')\n",
        "plt.ylabel('daughter')\n",
        "plt.show()"
      ]
    },
    {
      "cell_type": "code",
      "execution_count": null,
      "id": "96166c8f",
      "metadata": {
        "scrolled": true,
        "id": "96166c8f"
      },
      "outputs": [],
      "source": [
        "# 3. 결정계수 구하기\n",
        "# 방법: statsmodels 사용하기\n",
        "from statsmodels.formula.api import ols\n",
        "\n",
        "model = ols('df.daughter ~ df.father', data=df).fit() #ols('종속변수명 ~ 독립변수명', data=데이터프레임객체)\n",
        "\n",
        "print(f'결정계수: {model.rsquared: .4f}')\n",
        "\n",
        "model.summary() # 모델 요약"
      ]
    },
    {
      "cell_type": "code",
      "execution_count": null,
      "id": "95f9e573",
      "metadata": {
        "id": "95f9e573"
      },
      "outputs": [],
      "source": [
        "# 추정된 회귀직선 표시\n",
        "# 방법1: 직접 그리기\n",
        "target_pred = model.predict()\n",
        "\n",
        "plt.scatter(df.father, df.daughter, marker='o', label='$MEDV_i$ 실제 관측치')\n",
        "plt.plot(df.father, target_pred, color = 'g', label='$\\hat{MEDV}_i$ 회귀선')\n",
        "plt.hlines(df.daughter.mean(), df.father.min(), df.father.max(), color = 'r', label='$MEDV_i$ 평균선')\n",
        "plt.legend()\n",
        "plt.xlabel('df.father')\n",
        "plt.ylabel('df.daughter')\n",
        "plt.show()"
      ]
    },
    {
      "cell_type": "code",
      "execution_count": null,
      "id": "ff1be3da",
      "metadata": {
        "scrolled": true,
        "id": "ff1be3da"
      },
      "outputs": [],
      "source": [
        "# 추정된 회귀직선 표시\n",
        "# 방법2: seaborn regplot()함수 사용\n",
        "sns.regplot(x=df.father, y=df.daughter)\n",
        "plt.xlabel('아빠')\n",
        "plt.ylabel('딸')\n",
        "plt.title('추정회귀직선')\n",
        "plt.show()"
      ]
    },
    {
      "cell_type": "markdown",
      "id": "2c95c8aa",
      "metadata": {
        "id": "2c95c8aa"
      },
      "source": [
        "-------------------"
      ]
    },
    {
      "cell_type": "markdown",
      "id": "ca78f79c",
      "metadata": {
        "id": "ca78f79c"
      },
      "source": [
        "## 사이킷런을 이용한 선형회귀 모델"
      ]
    },
    {
      "cell_type": "markdown",
      "id": "784e8552",
      "metadata": {
        "id": "784e8552"
      },
      "source": [
        "### 사이킷런(Scikit-learn)\n",
        "- **대표적인 머신러닝 라이브러리** : https://scikit-learn.org/\n",
        "- 2007년 구글 하계 코드 프로젝트 모임에 참여한 개발자들 중심으로 시작된 오픈 소스 개발 방식 라이브러리\n",
        "- 딥러닝 프레임워크는 제공 안함\n",
        "\n",
        "#### 머신러닝을 위해서는 필요한 것 5가지\n",
        "- 1.데이터준비(데이터셋): 특성과 테이블(optional)로 이루어진 데이터\n",
        "- 2.모델선정: 데이터를 바탕으로 동자기 결정되는 모델\n",
        "- 3.하이퍼파라미터: 모델 설정 위해 학습에 사용되는 파라미터 (ex: learning rate, 훈련반복횟수, 가중치 초기화 값 등)\n",
        "- 4.학습:  학습을 위한 훈련단계\n",
        "- 5.검증: 검증의 여러 단계"
      ]
    },
    {
      "cell_type": "markdown",
      "id": "a9b33ef6",
      "metadata": {
        "id": "a9b33ef6"
      },
      "source": [
        "#### 선형 회귀분석 모델의 예측력 향상에 좋은 **4가지 기본 가정**\n",
        "- 1.**선형성**:   독립변수와 종속변수 간의 분포 관계가 **선형의 관계**를 가진다.\n",
        "- 2.**독립성**:   독립성은 다중 회귀분석의 중요한 기본 가정으로 독립변수와 다른 독립변수 간의 **상관관계가 적을 경우** 선형 회귀 모델의 예측력이 좋아진다.\n",
        "- 3.**등분산성**: 분산이란 데이터의 분포 정도에 대한 척도인데, 데이터가 특정한 패턴 없이 **고르게 분포**하는 것이, 특정한 좁은 구간에만 집중해서 분포하는 것보다 더 나은 예측을 보인다.\n",
        "- 4.**정규성**:   잔차(residual)란 회귀직선과 관측값과의 차이인데, 오차(error)라고도 한다. 이 **차이(오차)가 정규성을 만족**해야 한다."
      ]
    },
    {
      "cell_type": "markdown",
      "id": "2f06dd42",
      "metadata": {
        "id": "2f06dd42"
      },
      "source": [
        "### [실습문제] 사이킷런으로 선형회귀직선(추정회귀직선) 구하기\n",
        "간단 데이터를 이용하여 선형회귀직선 구하기"
      ]
    },
    {
      "cell_type": "code",
      "execution_count": null,
      "id": "992e4973",
      "metadata": {
        "id": "992e4973"
      },
      "outputs": [],
      "source": [
        "import pandas as pd\n",
        "import numpy as np\n",
        "from sklearn import linear_model\n",
        "\n",
        "# 1. 데이터 준비\n",
        "data = {'X':[1, 1, 2, 3, 4, 4, 5, 6, 6, 8],\n",
        "        'Y':[2, 3, 4, 5, 7, 8, 10, 11, 12, 15]}\n",
        "df = pd.DataFrame(data)\n",
        "\n",
        "# 2. 학습모델 선정\n",
        "model = linear_model.LinearRegression()  # 선형회귀모델\n",
        "\n",
        "# 3. 하이퍼파라미터\n",
        "\n",
        "# 4. 학습\n",
        "X = [[i] for i in df.X]  # 사이킷런에서 독립변수(X)값은 2차원 형태로 만들어줘야한다.\n",
        "Y = df.Y\n",
        "model.fit(X, Y)\n",
        "\n",
        "# 5. 검증\n",
        "# y = ax + b\n",
        "coef = model.coef_               # 직선의 기울기(a)\n",
        "intercept = model.intercept_     # 직선의 절편(b)\n",
        "score = model.score(X, Y)        # 추정된 회귀직선의 정확도(결정계수 r2)\n",
        "print(f\"선형회귀직선: y = {coef[0]:.2f}x + {intercept: .2f}\")\n",
        "print(f\"선형회귀직선의 관계점수(R2): {score: .2f}\")"
      ]
    },
    {
      "cell_type": "markdown",
      "id": "449c833c",
      "metadata": {
        "id": "449c833c"
      },
      "source": [
        "### [실습문제] 키로 몸무게 추정하는 선형회귀 모델\n",
        "- 167cm 남학생의 몸무게는?\n",
        "- 167cm 여학생의 몸무게는?"
      ]
    },
    {
      "cell_type": "code",
      "execution_count": null,
      "id": "dd1a1870",
      "metadata": {
        "id": "dd1a1870"
      },
      "outputs": [],
      "source": [
        "import pandas as pd\n",
        "import numpy as np\n",
        "from sklearn import linear_model\n",
        "\n",
        "# 1. 데이터 준비\n",
        "df = pd.read_excel('./data/키와몸무게.xlsx')\n",
        "df\n",
        "\n",
        "# 2. 학습모델 선정\n",
        "model = linear_model.LinearRegression()  # 선형회귀모델\n",
        "\n",
        "# 3. 하이퍼파라미터\n",
        "\n",
        "# 4. 학습\n",
        "X = df[['키','구분']]  # 구분: 남자 0, 여자 1\n",
        "Y = df.몸무게\n",
        "model.fit(X.values, Y)  # X 대신 X.values (warnings.warn 메시지 안나오게 하려면)\n",
        "\n",
        "# 5. 검증\n",
        "# y = ax + b\n",
        "coef = model.coef_               # 직선의 기울기(a)\n",
        "intercept = model.intercept_     # 직선의 절편(b)\n",
        "score = model.score(X, Y)        # 추정된 회귀직선의 정확도(결정계수 r2)\n",
        "print(f\"선형회귀직선: y = {coef[0]:.2f}x + {intercept: .2f}\")\n",
        "print(f\"선형회귀직선의 관계점수(R2): {score: .2f}\")\n",
        "print(f\"167cm 남학생 추정 몸무게: {model.predict([[167,0]])}\")\n",
        "print(f\"167cm 여학생 추정 몸무게: {model.predict([[167,1]])}\")\n",
        "print(f\"167cm 남학생, 여학생의 추정 몸무게: {model.predict([[167,0], [167,1]])}\")"
      ]
    },
    {
      "cell_type": "markdown",
      "id": "c3d77ca2",
      "metadata": {
        "id": "c3d77ca2"
      },
      "source": [
        "--------------------"
      ]
    },
    {
      "cell_type": "markdown",
      "id": "4ac233c6",
      "metadata": {
        "id": "4ac233c6"
      },
      "source": [
        "### [실습문제] 사이킷런으로 상관분석하기 :  국가별 기대수명\n",
        "- Data : https://www.kaggle.com/datasets/kumarajarshi/life-expectancy-who\n",
        "- WHO 데이터 : 2000 ~ 2015년 나라별 기대수명과 보건 예산, 질병 통계, 비만도 등"
      ]
    },
    {
      "cell_type": "code",
      "execution_count": null,
      "id": "4645b2ae",
      "metadata": {
        "id": "4645b2ae"
      },
      "outputs": [],
      "source": [
        "import pandas as pd\n",
        "import numpy as np\n",
        "import seaborn as sns\n",
        "import matplotlib.pyplot as plt\n",
        "from sklearn import linear_model\n",
        "\n",
        "# 1. 데이터 준비\n",
        "df = pd.read_csv('./data/life_expectancy.csv')\n",
        "df.head()"
      ]
    },
    {
      "cell_type": "code",
      "execution_count": null,
      "id": "14339cd7",
      "metadata": {
        "id": "14339cd7"
      },
      "outputs": [],
      "source": [
        "# 컬럼간 상관관계 확인\n",
        "df.dropna(inplace=True)   # 결측치 제거\n",
        "# df = df.query(\"Year==2015\")\n",
        "df\n",
        "correlation_matrix = df.corr(numeric_only=True).round(2)\n",
        "sns.set(rc={'figure.figsize':(22, 20)})\n",
        "sns.heatmap(data=correlation_matrix, annot=True)\n",
        "plt.show()"
      ]
    },
    {
      "cell_type": "code",
      "execution_count": null,
      "id": "cdead940",
      "metadata": {
        "id": "cdead940"
      },
      "outputs": [],
      "source": [
        "# 기대수명과 피어슨 상관계수 높은 컬럼 선택\n",
        "print('기대수명과 상관계수 높은 변수')\n",
        "c = df.corr(numeric_only=True).round(3)['Life expectancy']\n",
        "c = np.abs( c ) # 상관계수 절대값\n",
        "\n",
        "c.sort_values(ascending=True, inplace=True)  # 오름차순 정렬\n",
        "c = c[:-1]   # 자기 자신을 제외\n",
        "\n",
        "# 시각화\n",
        "plt.barh(c.index, c.values)\n",
        "plt.title('Correlation Coef with Life expectancy')\n",
        "plt.xlabel('Features')\n",
        "plt.ylabel('Correlation Coef')\n",
        "plt.show()"
      ]
    },
    {
      "cell_type": "code",
      "execution_count": null,
      "id": "db9ac4d0",
      "metadata": {
        "id": "db9ac4d0"
      },
      "outputs": [],
      "source": [
        "# 기대수명과 피어슨 상관계수 높은 컬럼 선택\n",
        "# 조건 검색\n",
        "c = c[c.values > 0.5]     # 상관계수 0.5 이상인 값 추출\n",
        "c.sort_values(ascending=False, inplace=True)  # 내림차순 정렬\n",
        "print(f'기대수명과 상관관계 높은 컬럼 : {c.index.to_list()}' )            # 컬럼명\n",
        "\n",
        "# 시각화\n",
        "sns.pairplot(df[c.index.to_list()])\n",
        "plt.show()"
      ]
    },
    {
      "cell_type": "code",
      "execution_count": null,
      "id": "05f5725c",
      "metadata": {
        "id": "05f5725c"
      },
      "outputs": [],
      "source": [
        "# 선형회귀모델 점수 확인\n",
        "X = df[c.index.to_list()]\n",
        "Y = df['Life expectancy']\n",
        "\n",
        "from sklearn.linear_model import LinearRegression\n",
        "from sklearn.model_selection import train_test_split\n",
        "\n",
        "X_train, X_test, y_train, y_test = train_test_split(X, Y, test_size=0.2)\n",
        "\n",
        "model = LinearRegression()\n",
        "model.fit(X_train, y_train)\n",
        "print(f'선형회귀모델 점수 = {model.score(X_test, y_test): .3f}')\n"
      ]
    },
    {
      "cell_type": "markdown",
      "id": "a4c9300a",
      "metadata": {
        "id": "a4c9300a"
      },
      "source": [
        "---------------------------"
      ]
    },
    {
      "cell_type": "markdown",
      "id": "fede246a",
      "metadata": {
        "id": "fede246a"
      },
      "source": [
        "THE END"
      ]
    }
  ],
  "metadata": {
    "colab": {
      "provenance": [],
      "toc_visible": true,
      "include_colab_link": true
    },
    "kernelspec": {
      "display_name": "Python 3 (ipykernel)",
      "language": "python",
      "name": "python3"
    },
    "language_info": {
      "codemirror_mode": {
        "name": "ipython",
        "version": 3
      },
      "file_extension": ".py",
      "mimetype": "text/x-python",
      "name": "python",
      "nbconvert_exporter": "python",
      "pygments_lexer": "ipython3",
      "version": "3.12.1"
    },
    "vscode": {
      "interpreter": {
        "hash": "b41e41bff03a930185ac2cbea60ce521f7c8c2f5401ceb5c30214081f77ab4f5"
      }
    }
  },
  "nbformat": 4,
  "nbformat_minor": 5
}