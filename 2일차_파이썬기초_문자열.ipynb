{
  "nbformat": 4,
  "nbformat_minor": 0,
  "metadata": {
    "colab": {
      "provenance": [],
      "authorship_tag": "ABX9TyNEgLqhvK2geMniNhduYYkp",
      "include_colab_link": true
    },
    "kernelspec": {
      "name": "python3",
      "display_name": "Python 3"
    },
    "language_info": {
      "name": "python"
    }
  },
  "cells": [
    {
      "cell_type": "markdown",
      "metadata": {
        "id": "view-in-github",
        "colab_type": "text"
      },
      "source": [
        "<a href=\"https://colab.research.google.com/github/euncode03/dataAnalysis/blob/main/2%EC%9D%BC%EC%B0%A8_%ED%8C%8C%EC%9D%B4%EC%8D%AC%EA%B8%B0%EC%B4%88_%EB%AC%B8%EC%9E%90%EC%97%B4.ipynb\" target=\"_parent\"><img src=\"https://colab.research.google.com/assets/colab-badge.svg\" alt=\"Open In Colab\"/></a>"
      ]
    },
    {
      "cell_type": "code",
      "execution_count": null,
      "metadata": {
        "id": "f3SJwPjaOiMU"
      },
      "outputs": [],
      "source": []
    },
    {
      "cell_type": "markdown",
      "source": [],
      "metadata": {
        "id": "TIWUXDibOq3-"
      }
    },
    {
      "cell_type": "markdown",
      "source": [
        "#문자열"
      ],
      "metadata": {
        "id": "gayB1XcKRuOd"
      }
    },
    {
      "cell_type": "markdown",
      "source": [
        "#큰 따옴표(or 작은 따옴표)로 표시\n",
        "a='사과'\n",
        "a=\"사과\"\n",
        "a=\"Yes, I can't\"\n",
        "a= '\"사과는 정말 맛있지?\"라고 이야기 했습니다.'\n"
      ],
      "metadata": {
        "id": "X3uTMlokQ9xH"
      }
    },
    {
      "cell_type": "code",
      "source": [
        "#큰 따옴표(or 작은 따옴표)로 표시\n",
        "a='사과'\n",
        "a=\"사과\"\n",
        "a=\"Yes, I can't\"\n",
        "a= '\"사과는 정말 맛있지?\"라고 이야기 했습니다.'\n"
      ],
      "metadata": {
        "id": "UETdmqg2RkR9"
      },
      "execution_count": 1,
      "outputs": []
    },
    {
      "cell_type": "code",
      "source": [
        "# 한 줄 이상 문자-->따옴표 3개 사용\n",
        "menu ='''# ㅇㅇㅇ 카페 메뉴판\n",
        "- 아메리카노: 3000원\n",
        "-카페라테:    4000원\n",
        "-카페모카:    4000원'''\n",
        "\n",
        "coffee= input(f'{a} 주문하실 메뉴를 골라주세요: ')\n",
        "print(f' 주문하신 메뉴는 {coffee} 입니다.')"
      ],
      "metadata": {
        "colab": {
          "base_uri": "https://localhost:8080/"
        },
        "id": "rB7qVZRbRsxN",
        "outputId": "f288c07a-ce9e-428b-fe30-ab508b49f21b"
      },
      "execution_count": 15,
      "outputs": [
        {
          "output_type": "stream",
          "name": "stdout",
          "text": [
            "# ㅇㅇㅇ 카페 메뉴판\n",
            "- 아메리카노: 3000원\n",
            "-카페라테:    4000원\n",
            "-카페모카:    4000원 주문하실 메뉴를 골라주세요: 아메리카노\n",
            " 주문하신 메뉴는 아메리카노 입니다.\n"
          ]
        }
      ]
    },
    {
      "cell_type": "markdown",
      "source": [
        "###gTTS 모듈 사용하여 텍스트를 음성으로 읽어주기"
      ],
      "metadata": {
        "id": "IyPF6I4bUA0W"
      }
    },
    {
      "cell_type": "markdown",
      "source": [],
      "metadata": {
        "id": "a-6jBD59RtPu"
      }
    },
    {
      "cell_type": "markdown",
      "source": [
        "2"
      ],
      "metadata": {
        "id": "pfX-aWDeOiyQ"
      }
    },
    {
      "cell_type": "code",
      "source": [
        "!pip install gTTS"
      ],
      "metadata": {
        "colab": {
          "base_uri": "https://localhost:8080/"
        },
        "id": "wGjx2GupVSvD",
        "outputId": "ac425606-55ba-49a9-b5e1-0e49626da1aa"
      },
      "execution_count": 16,
      "outputs": [
        {
          "output_type": "stream",
          "name": "stdout",
          "text": [
            "Collecting gTTS\n",
            "  Downloading gTTS-2.5.1-py3-none-any.whl (29 kB)\n",
            "Requirement already satisfied: requests<3,>=2.27 in /usr/local/lib/python3.10/dist-packages (from gTTS) (2.31.0)\n",
            "Requirement already satisfied: click<8.2,>=7.1 in /usr/local/lib/python3.10/dist-packages (from gTTS) (8.1.7)\n",
            "Requirement already satisfied: charset-normalizer<4,>=2 in /usr/local/lib/python3.10/dist-packages (from requests<3,>=2.27->gTTS) (3.3.2)\n",
            "Requirement already satisfied: idna<4,>=2.5 in /usr/local/lib/python3.10/dist-packages (from requests<3,>=2.27->gTTS) (3.6)\n",
            "Requirement already satisfied: urllib3<3,>=1.21.1 in /usr/local/lib/python3.10/dist-packages (from requests<3,>=2.27->gTTS) (2.0.7)\n",
            "Requirement already satisfied: certifi>=2017.4.17 in /usr/local/lib/python3.10/dist-packages (from requests<3,>=2.27->gTTS) (2024.2.2)\n",
            "Installing collected packages: gTTS\n",
            "Successfully installed gTTS-2.5.1\n"
          ]
        }
      ]
    },
    {
      "cell_type": "markdown",
      "source": [
        "from gtts import gTTS\n",
        "from IPython.display import Audio\n",
        "\n",
        "# eng_wav = gTTS('Hello World!')\n",
        "# eng_wav.save('eng.wav')\n",
        "kor_wav = gTTS('안녕 세상아!', lang = 'ko')\n",
        "kor_wav.save('kor.wav')\n",
        "\n",
        "display(Audio('kor.wav', autoplay=True))"
      ],
      "metadata": {
        "id": "ujHN2ZdHOqS-"
      }
    },
    {
      "cell_type": "code",
      "source": [
        "from gtts import gTTS\n",
        "from IPython.display import Audio\n",
        "\n",
        "# eng_wav = gTTS('Hello World!')\n",
        "# eng_wav.save('eng.wav')\n",
        "kor_wav = gTTS('안녕 세상아!', lang = 'ko')\n",
        "kor_wav.save('kor.wav')\n",
        "\n",
        "display(Audio('kor.wav', autoplay=True))"
      ],
      "metadata": {
        "colab": {
          "base_uri": "https://localhost:8080/",
          "height": 75
        },
        "id": "60IjK598VbPK",
        "outputId": "d6f2f760-cd6a-402b-d28d-ce4f5777f4cb"
      },
      "execution_count": 17,
      "outputs": [
        {
          "output_type": "display_data",
          "data": {
            "text/plain": [
              "<IPython.lib.display.Audio object>"
            ],
            "text/html": [
              "\n",
              "                <audio  controls=\"controls\" autoplay=\"autoplay\">\n",
              "                    <source src=\"data:audio/x-wav;base64,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\" type=\"audio/x-wav\" />\n",
              "                    Your browser does not support the audio element.\n",
              "                </audio>\n",
              "              "
            ]
          },
          "metadata": {}
        }
      ]
    },
    {
      "cell_type": "code",
      "source": [],
      "metadata": {
        "id": "4DpYiDtjVcgN"
      },
      "execution_count": null,
      "outputs": []
    },
    {
      "cell_type": "markdown",
      "source": [
        "### + 기호 : 문자열을 합쳐서 출력"
      ],
      "metadata": {
        "id": "TsiwKsn0ent1"
      }
    },
    {
      "cell_type": "code",
      "source": [],
      "metadata": {
        "id": "d53ytd3Bet0P"
      },
      "execution_count": null,
      "outputs": []
    },
    {
      "cell_type": "code",
      "source": [
        "print('사과'+'맛있어')\n",
        "print('사과' , '맛있어')"
      ],
      "metadata": {
        "colab": {
          "base_uri": "https://localhost:8080/"
        },
        "id": "MOsA_pgPeug8",
        "outputId": "33706296-acfa-47b9-d5ac-c33d93ea953e"
      },
      "execution_count": 18,
      "outputs": [
        {
          "output_type": "stream",
          "name": "stdout",
          "text": [
            "사과맛있어\n",
            "사과 맛있어\n"
          ]
        }
      ]
    },
    {
      "cell_type": "code",
      "source": [],
      "metadata": {
        "id": "A4JQYHZee7k-"
      },
      "execution_count": null,
      "outputs": []
    },
    {
      "cell_type": "markdown",
      "source": [
        "### '*'기호: 반복의 의미"
      ],
      "metadata": {
        "id": "TsNS6GYge9KM"
      }
    },
    {
      "cell_type": "code",
      "source": [
        "print('반짝'*2, '눈이 부셔', '노'*5)\n",
        "print('*'* 50)"
      ],
      "metadata": {
        "colab": {
          "base_uri": "https://localhost:8080/"
        },
        "id": "HqKvu6jqfDRL",
        "outputId": "807b1673-e34c-4043-8371-9228c504d777"
      },
      "execution_count": 22,
      "outputs": [
        {
          "output_type": "stream",
          "name": "stdout",
          "text": [
            "반짝반짝 눈이 부셔 노노노노노\n",
            "**************************************************\n"
          ]
        }
      ]
    },
    {
      "cell_type": "markdown",
      "source": [],
      "metadata": {
        "id": "WqkjgDiCflf1"
      }
    },
    {
      "cell_type": "markdown",
      "source": [
        "# 실습문제"
      ],
      "metadata": {
        "id": "wxL5rMSifmr0"
      }
    },
    {
      "cell_type": "code",
      "source": [
        "#문제1\n",
        "print(\"Mary's cosmetics\")\n",
        "# 문제2\n",
        "print('박씨가 소리질렀다.\"도둑이야\".')\n",
        "#문제3\n",
        "print('\"안녕하세요.\\n오늘\\t날씨가\\t\\t좋습니다.\"')"
      ],
      "metadata": {
        "colab": {
          "base_uri": "https://localhost:8080/"
        },
        "id": "2WCuYqT9frUz",
        "outputId": "7c4eddda-b6dd-434d-8649-54a1a6566e0f"
      },
      "execution_count": 25,
      "outputs": [
        {
          "output_type": "stream",
          "name": "stdout",
          "text": [
            "Mary's cosmetics\n",
            "박씨가 소리질렀다.\"도둑이야\".\n",
            "\"안녕하세요.\n",
            "오늘\t날씨가\t\t좋습니다.\"\n"
          ]
        }
      ]
    },
    {
      "cell_type": "code",
      "source": [],
      "metadata": {
        "id": "zSpJWOHfgbDV"
      },
      "execution_count": null,
      "outputs": []
    },
    {
      "cell_type": "markdown",
      "source": [
        "### 문자열에서 자주 사용하는 함수"
      ],
      "metadata": {
        "id": "_FoEV2KGkp-d"
      }
    },
    {
      "cell_type": "code",
      "source": [
        "a = \"Life is too short!\"\n",
        "print(f\"문자(열) 개수 세기:  {a.count('o')}\")\n",
        "print(f\"문자(열) 위치: {a.find('f')}\")  # 없으면 '-1' 반환\n",
        "print(f\"문자(열) 위치: {a.index('f')}\") # 없으면 오류\n",
        "b = '*'\n",
        "print(f\"문자열 삽입: {b.join(a)}\")        # a에 b를 삽입\n",
        "print(f\"문자열 변환: {a.replace('Life','Your leg')}\")  # 문자열 대체\n",
        "print(f\"문자열 나누기: {a.split()}\")      # 공백으로 분리해서 리스트형으로 반환\n",
        "print(f\"문자열 나누기: {a.split('is')}\")"
      ],
      "metadata": {
        "colab": {
          "base_uri": "https://localhost:8080/"
        },
        "id": "dUVn-u3Wk8MG",
        "outputId": "f3985805-7305-49c4-c6b3-a154a3ba81a7"
      },
      "execution_count": 27,
      "outputs": [
        {
          "output_type": "stream",
          "name": "stdout",
          "text": [
            "문자(열) 개수 세기:  3\n",
            "문자(열) 위치: 2\n",
            "문자(열) 위치: 2\n",
            "문자열 삽입: L*i*f*e* *i*s* *t*o*o* *s*h*o*r*t*!\n",
            "문자열 변환: Your leg is too short!\n",
            "문자열 나누기: ['Life', 'is', 'too', 'short!']\n",
            "문자열 나누기: ['Life ', ' too short!']\n"
          ]
        }
      ]
    },
    {
      "cell_type": "code",
      "source": [],
      "metadata": {
        "id": "wwMoYTpXmxQK"
      },
      "execution_count": null,
      "outputs": []
    },
    {
      "cell_type": "markdown",
      "source": [
        "[퀴즈]문자열을 입력 받아 거꾸로 출력하기"
      ],
      "metadata": {
        "id": "YlfqpIUOnQ30"
      }
    },
    {
      "cell_type": "code",
      "source": [],
      "metadata": {
        "id": "h_iDlNj9ne66"
      },
      "execution_count": null,
      "outputs": []
    },
    {
      "cell_type": "code",
      "source": [
        "s= input('문자열 입력: ')\n",
        "print(s[::-1])"
      ],
      "metadata": {
        "colab": {
          "base_uri": "https://localhost:8080/"
        },
        "id": "FxLBJqUSniQ6",
        "outputId": "7ff2c2d0-7b84-4f6a-f7cd-8cad6ecc1bc1"
      },
      "execution_count": 31,
      "outputs": [
        {
          "output_type": "stream",
          "name": "stdout",
          "text": [
            "문자열 입력: 문자열 입력\n",
            "력입 열자문\n"
          ]
        }
      ]
    },
    {
      "cell_type": "markdown",
      "source": [
        "###[퀴즈] 확장자 분리하기"
      ],
      "metadata": {
        "id": "tMegpWCPowIK"
      }
    },
    {
      "cell_type": "code",
      "source": [
        "filename = input('확장자포함 파일명 입력하기: ')\n",
        "a=filename.split('.')\n",
        "print(a)\n",
        "# print(f\"파일명: {} 확장자:{}\")"
      ],
      "metadata": {
        "colab": {
          "base_uri": "https://localhost:8080/"
        },
        "id": "HOWLFNY6nqUr",
        "outputId": "f39de6ee-ec37-4273-ee1e-04e636550944"
      },
      "execution_count": 33,
      "outputs": [
        {
          "output_type": "stream",
          "name": "stdout",
          "text": [
            "확장자포함 파일명 입력하기: test.ipynb\n",
            "['test', 'ipynb']\n"
          ]
        }
      ]
    },
    {
      "cell_type": "code",
      "source": [
        "a= input('파일명을 입력하세요: ')\n",
        "b= a. split('.')\n",
        "print('파일: %s' % a)\n",
        "print('파일명:%s, 확장자: %s' %(b[0],b[1]))"
      ],
      "metadata": {
        "colab": {
          "base_uri": "https://localhost:8080/"
        },
        "id": "XmcPMf9mpIf7",
        "outputId": "6683198d-72dd-4ae3-c26d-e33f963c2aad"
      },
      "execution_count": 35,
      "outputs": [
        {
          "output_type": "stream",
          "name": "stdout",
          "text": [
            "파일명을 입력하세요: test.py\n",
            "파일: test.py\n",
            "파일명:test, 확장자: py\n"
          ]
        }
      ]
    },
    {
      "cell_type": "code",
      "source": [
        "# 1. meal 변수를 선언하고 값을 4450으로 지정하세요.\n",
        "# 2. tax 변수를 생성하고 값으로 6.75%를 소수점 형태로 지정하세요.\n",
        "# 3. tip 변수를 생성하고 값으로 15%를 소수점 형태로 지정하세요.\n",
        "# 4. meal의 변수값에 세금을 곱해 meal 변수에 지정하세요.\n",
        "# 5. 음식값에 tip을 더해 total 변수에 지정하세요.\n",
        "# 6. total 변수 값을 출력하세요.\n",
        "\n",
        "meal= int(input('음식가격: '))\n",
        "tax= 0.0675\n",
        "tip= 0.15\n",
        "meal= meal+ (meal*tax)\n",
        "total=meal+ (meal*tip)\n",
        "print(f'내가 지불할 총 금액:{round(total,2):,}')\n"
      ],
      "metadata": {
        "colab": {
          "base_uri": "https://localhost:8080/"
        },
        "id": "ppZ0kMESrzpS",
        "outputId": "b437a83d-31fa-4d32-e8c1-59fee9d74ab2"
      },
      "execution_count": 37,
      "outputs": [
        {
          "output_type": "stream",
          "name": "stdout",
          "text": [
            "음식가격: 4450\n",
            "내가 지불할 총 금액:5,462.93\n"
          ]
        }
      ]
    },
    {
      "cell_type": "code",
      "source": [],
      "metadata": {
        "id": "-W_XHFZaw911"
      },
      "execution_count": null,
      "outputs": []
    },
    {
      "cell_type": "markdown",
      "source": [
        "### [실습문제]섭씨---->화씨 변환"
      ],
      "metadata": {
        "id": "PSIlLFfyx2oi"
      }
    },
    {
      "cell_type": "code",
      "source": [],
      "metadata": {
        "id": "u7jmpZWbx6VB"
      },
      "execution_count": null,
      "outputs": []
    },
    {
      "cell_type": "code",
      "source": [
        "c= float(input('섭씨온도: '))\n",
        "print(f\"섭씨온도{C}는 화씨온도 {(9/5)*C+32}\")"
      ],
      "metadata": {
        "colab": {
          "base_uri": "https://localhost:8080/",
          "height": 176
        },
        "id": "ZWJjb2bvyBWy",
        "outputId": "7c642c0b-9302-4c16-e585-b68c1cc79baa"
      },
      "execution_count": 43,
      "outputs": [
        {
          "name": "stdout",
          "output_type": "stream",
          "text": [
            "섭씨온도: 17.5\n"
          ]
        },
        {
          "output_type": "error",
          "ename": "NameError",
          "evalue": "name 'C' is not defined",
          "traceback": [
            "\u001b[0;31m---------------------------------------------------------------------------\u001b[0m",
            "\u001b[0;31mNameError\u001b[0m                                 Traceback (most recent call last)",
            "\u001b[0;32m<ipython-input-43-0f463ec8075b>\u001b[0m in \u001b[0;36m<cell line: 2>\u001b[0;34m()\u001b[0m\n\u001b[1;32m      1\u001b[0m \u001b[0mc\u001b[0m\u001b[0;34m=\u001b[0m \u001b[0mfloat\u001b[0m\u001b[0;34m(\u001b[0m\u001b[0minput\u001b[0m\u001b[0;34m(\u001b[0m\u001b[0;34m'섭씨온도: '\u001b[0m\u001b[0;34m)\u001b[0m\u001b[0;34m)\u001b[0m\u001b[0;34m\u001b[0m\u001b[0;34m\u001b[0m\u001b[0m\n\u001b[0;32m----> 2\u001b[0;31m \u001b[0mprint\u001b[0m\u001b[0;34m(\u001b[0m\u001b[0;34mf\"섭씨온도{C}는 화씨온도 {(9/5)*C+32}\"\u001b[0m\u001b[0;34m)\u001b[0m\u001b[0;34m\u001b[0m\u001b[0;34m\u001b[0m\u001b[0m\n\u001b[0m",
            "\u001b[0;31mNameError\u001b[0m: name 'C' is not defined"
          ]
        }
      ]
    },
    {
      "cell_type": "code",
      "source": [],
      "metadata": {
        "id": "irPAZdapyCn4"
      },
      "execution_count": 43,
      "outputs": []
    },
    {
      "cell_type": "markdown",
      "source": [
        "### 파이썬 연산자"
      ],
      "metadata": {
        "id": "W-2CBxdxzzVI"
      }
    },
    {
      "cell_type": "code",
      "source": [],
      "metadata": {
        "id": "6jnp0r6Oz1SB"
      },
      "execution_count": null,
      "outputs": []
    },
    {
      "cell_type": "code",
      "source": [
        "#산술 연산자\n",
        "print(33//5) #몫\n",
        "print(33%5) #나머지"
      ],
      "metadata": {
        "colab": {
          "base_uri": "https://localhost:8080/"
        },
        "id": "juWYKat7z4Cg",
        "outputId": "3aca58cd-b710-4edb-b377-482aaea5cc12"
      },
      "execution_count": 44,
      "outputs": [
        {
          "output_type": "stream",
          "name": "stdout",
          "text": [
            "6\n",
            "3\n"
          ]
        }
      ]
    },
    {
      "cell_type": "code",
      "source": [],
      "metadata": {
        "id": "vbJjFLJo0EL4"
      },
      "execution_count": null,
      "outputs": []
    },
    {
      "cell_type": "code",
      "source": [
        "#대입 연산자\n",
        "a= a + 1 #a + = 1\n"
      ],
      "metadata": {
        "id": "ojOrLUpV0HQC"
      },
      "execution_count": null,
      "outputs": []
    },
    {
      "cell_type": "code",
      "source": [
        "# 관계 연산자(비교 연산자)\n",
        "a = 100\n",
        "print(a > 200)\n",
        "print(a == 100)\n",
        "print(a != 100)"
      ],
      "metadata": {
        "colab": {
          "base_uri": "https://localhost:8080/"
        },
        "id": "_au2ruU40mD5",
        "outputId": "15835dea-e13e-47ba-9bc7-744ce3264f78"
      },
      "execution_count": 45,
      "outputs": [
        {
          "output_type": "stream",
          "name": "stdout",
          "text": [
            "False\n",
            "True\n",
            "False\n"
          ]
        }
      ]
    },
    {
      "cell_type": "code",
      "source": [],
      "metadata": {
        "id": "i2g88dIs008A"
      },
      "execution_count": null,
      "outputs": []
    },
    {
      "cell_type": "code",
      "source": [
        "# 논리 연산자\n",
        "a = 100\n",
        "print(a > 100 and a==100 )\n",
        "print(a > 100 or a==100 )\n",
        "print( not(a==100))"
      ],
      "metadata": {
        "colab": {
          "base_uri": "https://localhost:8080/"
        },
        "id": "9rin0ovf05Mh",
        "outputId": "0a0e6eee-83b1-4763-bf94-a2861ee96642"
      },
      "execution_count": 49,
      "outputs": [
        {
          "output_type": "stream",
          "name": "stdout",
          "text": [
            "False\n",
            "True\n",
            "False\n"
          ]
        }
      ]
    },
    {
      "cell_type": "code",
      "source": [
        "# 멤버쉽 연산자\n",
        "fruits=['사과','포도', '오렌지', '딸기']\n",
        "print('딸기' in fruits)\n",
        "print('키위' not in fruits)\n",
        "\n",
        "if '딸기' in fruits:\n",
        "    print('딸기는 fruits 안에 있습니다.')\n",
        " else:\n",
        "      print('딸기는 fruits 안에 없습니다.')"
      ],
      "metadata": {
        "colab": {
          "base_uri": "https://localhost:8080/",
          "height": 106
        },
        "id": "ViJabrtA1Dgn",
        "outputId": "aaa2d958-8ac9-4bc1-9384-5f9100942c29"
      },
      "execution_count": 55,
      "outputs": [
        {
          "output_type": "error",
          "ename": "IndentationError",
          "evalue": "unindent does not match any outer indentation level (<tokenize>, line 8)",
          "traceback": [
            "\u001b[0;36m  File \u001b[0;32m\"<tokenize>\"\u001b[0;36m, line \u001b[0;32m8\u001b[0m\n\u001b[0;31m    else:\u001b[0m\n\u001b[0m    ^\u001b[0m\n\u001b[0;31mIndentationError\u001b[0m\u001b[0;31m:\u001b[0m unindent does not match any outer indentation level\n"
          ]
        }
      ]
    },
    {
      "cell_type": "markdown",
      "source": [],
      "metadata": {
        "id": "KQCh_oi83g_w"
      }
    },
    {
      "cell_type": "markdown",
      "source": [],
      "metadata": {
        "id": "qm4YYJs-3hTI"
      }
    },
    {
      "cell_type": "code",
      "source": [
        "for fruit in fruits:\n",
        "      print(f'내가 좋아하는 과일 \"{fruit}\"')"
      ],
      "metadata": {
        "colab": {
          "base_uri": "https://localhost:8080/",
          "height": 159
        },
        "id": "XK71-cRV2F5Y",
        "outputId": "c1d09434-f894-4f14-b276-f978336ce848"
      },
      "execution_count": 56,
      "outputs": [
        {
          "output_type": "error",
          "ename": "NameError",
          "evalue": "name 'fruits' is not defined",
          "traceback": [
            "\u001b[0;31m---------------------------------------------------------------------------\u001b[0m",
            "\u001b[0;31mNameError\u001b[0m                                 Traceback (most recent call last)",
            "\u001b[0;32m<ipython-input-56-adb5941bf1af>\u001b[0m in \u001b[0;36m<cell line: 1>\u001b[0;34m()\u001b[0m\n\u001b[0;32m----> 1\u001b[0;31m \u001b[0;32mfor\u001b[0m \u001b[0mfruit\u001b[0m \u001b[0;32min\u001b[0m \u001b[0mfruits\u001b[0m\u001b[0;34m:\u001b[0m\u001b[0;34m\u001b[0m\u001b[0;34m\u001b[0m\u001b[0m\n\u001b[0m\u001b[1;32m      2\u001b[0m       \u001b[0mprint\u001b[0m\u001b[0;34m(\u001b[0m\u001b[0;34mf'내가 좋아하는 과일 \"{fruit}\"'\u001b[0m\u001b[0;34m)\u001b[0m\u001b[0;34m\u001b[0m\u001b[0;34m\u001b[0m\u001b[0m\n",
            "\u001b[0;31mNameError\u001b[0m: name 'fruits' is not defined"
          ]
        }
      ]
    },
    {
      "cell_type": "code",
      "source": [
        "letters= 'Life is too short!'\n",
        "if 'too' in letters:\n",
        "  print(True)\n",
        "else:\n",
        "  print(False)\n"
      ],
      "metadata": {
        "colab": {
          "base_uri": "https://localhost:8080/"
        },
        "id": "-VMZfhI62fzX",
        "outputId": "9433d15a-acea-4a88-b8a0-9418008be650"
      },
      "execution_count": 57,
      "outputs": [
        {
          "output_type": "stream",
          "name": "stdout",
          "text": [
            "True\n"
          ]
        }
      ]
    },
    {
      "cell_type": "code",
      "source": [],
      "metadata": {
        "id": "aKG4yCZ73CbP"
      },
      "execution_count": null,
      "outputs": []
    },
    {
      "cell_type": "markdown",
      "source": [
        "# 실습문제- 동전 교환 프로그램 만들기"
      ],
      "metadata": {
        "id": "CiyQcVnL3hv_"
      }
    },
    {
      "cell_type": "markdown",
      "source": [],
      "metadata": {
        "id": "iE0iIxF15lIe"
      }
    },
    {
      "cell_type": "code",
      "source": [
        "money = int(input('동전으로 교환할 금액 입력하세요: '))\n",
        "print('-'*50)\n",
        "print(f\"500원짜리 ==>{money // 500}개\")\n",
        "money %500\n",
        "print(f\"100원짜리 ==>{money // 100}개\")\n",
        "money %100\n",
        "print(f\"50원짜리 ==> {money // 50}개\")\n",
        "money %50\n",
        "print(f\"10원짜리 ==> {money // 10}개\")\n",
        "money %1021\n",
        "\n",
        "print(f\"잔돈 ==> {money}원\")\n"
      ],
      "metadata": {
        "colab": {
          "base_uri": "https://localhost:8080/"
        },
        "id": "Ub1pFT6E3m43",
        "outputId": "47f4abc6-6863-4b13-9e69-c5fce78de117"
      },
      "execution_count": 69,
      "outputs": [
        {
          "output_type": "stream",
          "name": "stdout",
          "text": [
            "동전으로 교환할 금액 입력하세요: 4321\n",
            "--------------------------------------------------\n",
            "500원짜리 ==>8개\n",
            "100원짜리 ==>43개\n",
            "50원짜리 ==> 86개\n",
            "10원짜리 ==> 432개\n",
            "잔돈 ==> 4321원\n"
          ]
        }
      ]
    },
    {
      "cell_type": "code",
      "source": [],
      "metadata": {
        "id": "gBNtBHSC4sV4"
      },
      "execution_count": null,
      "outputs": []
    }
  ]
}