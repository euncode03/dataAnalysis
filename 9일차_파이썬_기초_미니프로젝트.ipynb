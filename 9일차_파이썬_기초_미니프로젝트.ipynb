{
  "nbformat": 4,
  "nbformat_minor": 0,
  "metadata": {
    "colab": {
      "provenance": [],
      "authorship_tag": "ABX9TyPCuxuzLsGPLEZ079t2iz2d",
      "include_colab_link": true
    },
    "kernelspec": {
      "name": "python3",
      "display_name": "Python 3"
    },
    "language_info": {
      "name": "python"
    }
  },
  "cells": [
    {
      "cell_type": "markdown",
      "metadata": {
        "id": "view-in-github",
        "colab_type": "text"
      },
      "source": [
        "<a href=\"https://colab.research.google.com/github/euncode03/dataAnalysis/blob/main/9%EC%9D%BC%EC%B0%A8_%ED%8C%8C%EC%9D%B4%EC%8D%AC_%EA%B8%B0%EC%B4%88_%EB%AF%B8%EB%8B%88%ED%94%84%EB%A1%9C%EC%A0%9D%ED%8A%B8.ipynb\" target=\"_parent\"><img src=\"https://colab.research.google.com/assets/colab-badge.svg\" alt=\"Open In Colab\"/></a>"
      ]
    },
    {
      "cell_type": "markdown",
      "source": [
        "# 1"
      ],
      "metadata": {
        "id": "HRViPUzaYSMo"
      }
    },
    {
      "cell_type": "code",
      "execution_count": null,
      "metadata": {
        "colab": {
          "base_uri": "https://localhost:8080/"
        },
        "id": "60CCRjgkNVU9",
        "outputId": "7ffe65e3-0932-4ef9-eccd-c1d7b9bc6b64"
      },
      "outputs": [
        {
          "output_type": "stream",
          "name": "stdout",
          "text": [
            "[[ 파이숑과 함께하는 UP & Down 게임! ]] ㅛㅛㅛㅛㅛㅛㅛㅛㅛㅛㅛㅛㅛ\n",
            "1. 파이숑이 선택할 숫자의 자릿수를 지정해주세요.\n",
            "   ( 1 => 1 ~ 9 / 2 => 10 ~ 99 / 3 => 100 ~ 999 )\n",
            "2. 도전 값에 따라 UP & Down 을 알려줍니다.\n",
            "3. 도전 실패 5회 마다 결정적 힌트를 얻을 수 있어요.\n",
            "4. 도전 시작 후 그만하기를 원하는 경우 입력창에 '0'을 넣어주세요.\n",
            "5. 과연 몇번만에 파이숑의 숫자를 맞출 수 있을까요^^\n",
            "ㅠㅠㅠㅠㅠㅠㅠㅠㅠㅠㅠㅠㅠㅠㅠㅠㅠㅠㅠㅠㅠㅠㅠㅠㅠㅠㅠㅠㅠㅠㅠㅠㅠ\n",
            "\n",
            "파이숑이 선택할 숫자의 자릿수를 입력해주세요: 3\n",
            "------------------------------------------------------------------\n",
            ">>> 파이숑 숫자 100 ~ 999 중 선택 완료!. (■■■)\n",
            ">>> 도전 시작~\n",
            "--------------------------------------------------\n",
            "파이숑이 선택한 3자리의 숫자는 무엇일까요?: 1\n",
            "------------------------------------------------------------------\n",
            ">>> \u001b[94m▼Down▼\u001b[30m 숫자를 좀 더 올려 볼까요~\n",
            "--------------------------------------------------\n",
            "파이숑이 선택한 3자리의 숫자는 무엇일까요?: 2\n",
            "------------------------------------------------------------------\n",
            ">>> \u001b[94m▼Down▼\u001b[30m 숫자를 좀 더 올려 볼까요~\n"
          ]
        }
      ],
      "source": [
        "# 파이숑과 함께하는 UP & Down 게임\n",
        "import random\n",
        "\n",
        "desc = f'''[[ 파이숑과 함께하는 UP & Down 게임! ]] {\"ㅛ\"*13}\n",
        "1. 파이숑이 선택할 숫자의 자릿수를 지정해주세요.\n",
        "   ( 1 => 1 ~ 9 / 2 => 10 ~ 99 / 3 => 100 ~ 999 )\n",
        "2. 도전 값에 따라 UP & Down 을 알려줍니다.\n",
        "3. 도전 실패 5회 마다 결정적 힌트를 얻을 수 있어요.\n",
        "4. 도전 시작 후 그만하기를 원하는 경우 입력창에 '0'을 넣어주세요.\n",
        "5. 과연 몇번만에 파이숑의 숫자를 맞출 수 있을까요^^\n",
        "{\"ㅠ\"*33}\n",
        "'''\n",
        "print(desc)\n",
        "\n",
        "pythongNo, tryCnt = 0, 0  # 파이숑 선택 숫자, 시도 횟수\n",
        "\n",
        "# >>>> 파이숑에게 선택할 숫자의 자릿수 받기:\n",
        "digit = int(input('파이숑이 선택할 숫자의 자릿수를 입력해주세요: '))\n",
        "\n",
        "# >>> 파이숑 숫자 선택(random)\n",
        "pythongNo = random.randint(int(f'1{\"0\"* (digit-1) }'),int(f'{\"9\"* digit}'))\n",
        "print(f'{\"-\"*66}\\n>>> 파이숑 숫자 1{\"0\"* (digit-1) } ~ {\"9\"* digit} 중 선택 완료!. ({(\"■\"*digit)})\\n>>> 도전 시작~')\n",
        "\n",
        "while True:\n",
        "\n",
        "    tryCnt += 1\n",
        "\n",
        "    # >>> 답변 입력\n",
        "    answer = int(input(f'{\"-\"*50}\\n파이숑이 선택한 {digit}자리의 숫자는 무엇일까요?: '))\n",
        "    print('-'*66)\n",
        "\n",
        "    # >>> 그만하기(종료)\n",
        "    if answer == 0:\n",
        "        tyrGo = int(input('>>> 게임을 중단하시겠습니까?(예: 1 / 아니오: 2 ): '))\n",
        "\n",
        "        if tyrGo == 1:\n",
        "            print(f'\\n>>> (●´⌓`●) 파이숑이 선택한 숫자는 ( \\033[91m {pythongNo} \\033[30m ) 였어요.')\n",
        "            # # \\033[(숫자)m : 원하는 색에 대해 ANSI 표준으로 정해진 숫자 지정\n",
        "            break\n",
        "\n",
        "        else:\n",
        "            continue\n",
        "\n",
        "    # >>> 정답\n",
        "    if pythongNo == answer:\n",
        "        print(f'\\n>>> \\033[91m( {pythongNo} )정답!! ✌(❛‿❛)✌ {tryCnt}회 만에 성공했어요~')\n",
        "        break\n",
        "\n",
        "    # >>> UP & Down\n",
        "    if pythongNo > answer:\n",
        "        print(f'>>> \\033[94m▼Down▼\\033[30m 숫자를 좀 더 올려 볼까요~')\n",
        "    else:\n",
        "        print(f'>>> \\033[95m▲UP▲\\033[30m 숫자를 좀 더 내려 보아요~ ')\n",
        "\n",
        "\n",
        "    # >>> 힌트\n",
        "    if tryCnt % 5 == 0:\n",
        "        hintDigit = int(input(f'\\n>>> [⭐힌트] 몇번째 숫자를 알려드릴까요?: '))\n",
        "\n",
        "        hint = ''\n",
        "        for i in range(digit):\n",
        "            if i+1 == hintDigit:\n",
        "                hint += str(pythongNo)[hintDigit-1:hintDigit]\n",
        "            else:\n",
        "                hint += '■'\n",
        "\n",
        "        print(f'>>> 파이숑이 선택한 숫자는 {hint} 입니다\\n')"
      ]
    },
    {
      "cell_type": "markdown",
      "source": [
        "# 2"
      ],
      "metadata": {
        "id": "OE7HN1pvYXwx"
      }
    },
    {
      "cell_type": "code",
      "source": [
        "# [미션] 영어 단어장(단어 관리) 프로그램\n",
        "words = {}  # 단어 목록 딕셔너리\n",
        "\n",
        "def w_add():\n",
        "    # 단어 등록 기능\n",
        "    word = input(\"새 단어: \")\n",
        "    meaning = input(f\"{word}의 뜻: \")\n",
        "\n",
        "    if word in words:\n",
        "        print(f\"이미 존재하는 단어입니다: {word}\")\n",
        "        return\n",
        "\n",
        "    words[word] = {\"meaning\": meaning,}\n",
        "\n",
        "    print(f\"단어 '{word}'가 등록되었습니다.\")\n",
        "\n",
        "\n",
        "def w_search():\n",
        "    # 단어 검색 기능\n",
        "    word = input(\"검색할 단어 입력: \")\n",
        "\n",
        "    if word in words:\n",
        "        print(f\"\\n단어: {word}\")\n",
        "        print(f\"뜻: {words[word]['meaning']}\")\n",
        "    else:\n",
        "        print(f\"검색어 '{word}'를 찾을 수 없습니다.\")\n",
        "\n",
        "\n",
        "def w_delete():\n",
        "    # 단어 삭제 기능\n",
        "    word = input(\"삭제할 단어 입력: \")\n",
        "\n",
        "    if word in words:\n",
        "        del words[word]\n",
        "        print(f\"단어 '{word}'가 삭제되었습니다.\")\n",
        "    else:\n",
        "        print(f\"삭제할 단어 '{word}'를 찾을 수 없습니다.\")\n",
        "\n",
        "\n",
        "def w_show():\n",
        "    # 모든 단어 보기 기능\n",
        "    if not words:\n",
        "        print(\"등록된 단어가 없습니다.\")\n",
        "        return\n",
        "\n",
        "    for word, data in words.items():\n",
        "        print(f\"\\n단어: {word}\")\n",
        "        print(f\"뜻: {data['meaning']}\")\n",
        "\n",
        "\n",
        "while True:\n",
        "    print(\"\\n--- 선택메뉴 ---\")\n",
        "    print(\"1. 단어 등록\")\n",
        "    print(\"2. 단어 검색\")\n",
        "    print(\"3. 단어 삭제\")\n",
        "    print(\"4. 모든 단어 보기\")\n",
        "    print(\"0. 종료하기\")\n",
        "\n",
        "    choice = input(\"-----------------------선택: \")\n",
        "\n",
        "    if choice == '1':\n",
        "        w_add()\n",
        "    elif choice == '2':\n",
        "        w_search()\n",
        "    elif choice == '3':\n",
        "        w_delete()\n",
        "    elif choice == '4':\n",
        "        w_show()\n",
        "    elif choice == '0':\n",
        "        print(\"프로그램을 종료합니다.\")\n",
        "        break\n",
        "    else:\n",
        "        print(\"잘못된 입력입니다. 다시 선택해주세요.\")"
      ],
      "metadata": {
        "id": "WCVvg7NIXzzt"
      },
      "execution_count": null,
      "outputs": []
    },
    {
      "cell_type": "markdown",
      "source": [],
      "metadata": {
        "id": "DEKiP2hiYRCx"
      }
    },
    {
      "cell_type": "markdown",
      "source": [
        "# 3\n"
      ],
      "metadata": {
        "id": "ZqJ5xG5zazpE"
      }
    },
    {
      "cell_type": "code",
      "source": [],
      "metadata": {
        "id": "hYoeoTlgbWwk"
      },
      "execution_count": null,
      "outputs": []
    },
    {
      "cell_type": "code",
      "source": [
        "menu= ''' ---선택메뉴--- 1.단어 등록 2.단어 검색 3.단어 삭제 4.모든 단어 보기 0.종료하기 ''' my_dict={}\n",
        "\n",
        "def w_add(): name = input('새 단어 : ') mean = input('뜻 : ') my_dict[name] =mean\n",
        "\n",
        "def w_search(): search=input('검색할 단어 : ') if search in my_dict : find = my_dict[search] print(f'{search} : {find}') else : print(f'찾는단어가 없습니다.')\n",
        "\n",
        "def w_delete(): delete=input('삭제할 단어 : ') if delete not in my_dict : print(f'삭제할 단어가 없습니다.') else : del my_dict[delete] print(f'{delete}를 삭제했습니다.')\n",
        "\n",
        "def w_show(): for key,value in my_dict.items(): print(f'{key} : {value}') if len(my_dict) == 0 : print(f'사전이 비었습니다.')\n",
        "\n",
        "while True : print(f'--------------\\n {menu}') select = input('--->선택 : ') if select == '0' : break\n",
        "\n",
        "elif select == '1' : #단어등록\n",
        "    w_add()\n",
        "\n",
        "elif select == '2' : #단어 검색\n",
        "    w_search()\n",
        "\n",
        "elif select == '3' : #단어 삭제\n",
        "    w_delete()\n",
        "\n",
        "elif select == '4' : #모든단어확인\n",
        "    w_show()\n",
        "else :\n",
        "    print(\"잘못 입력하였습니다.\\n'선택 메뉴 번호'중에서 입력해주세요.\")\n",
        "print('프로그램을 종료합니다.')"
      ],
      "metadata": {
        "id": "mmW_kEfsbfD1"
      },
      "execution_count": null,
      "outputs": []
    }
  ]
}